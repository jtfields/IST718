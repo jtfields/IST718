{
  "nbformat": 4,
  "nbformat_minor": 0,
  "metadata": {
    "colab": {
      "name": "Copy of IST718-Lab2-V1.ipynb",
      "provenance": [],
      "collapsed_sections": [
        "vBKr16W3JFfK",
        "mgJW2lkQQ5eQ",
        "R0rTG65rRaus"
      ],
      "toc_visible": true,
      "machine_shape": "hm"
    },
    "kernelspec": {
      "name": "python3",
      "display_name": "Python 3"
    },
    "accelerator": "GPU"
  },
  "cells": [
    {
      "cell_type": "markdown",
      "metadata": {
        "id": "9UouETy57nbS",
        "colab_type": "text"
      },
      "source": [
        "# OVERVIEW\n",
        "\n",
        "**Research Question**\n",
        "\n",
        "Can we predict which three zip codes provide the best investment opportunity for the Syracuse Real Estate Investment Trust (SREIT)?\n",
        "\n",
        "**Summary Tables**\n",
        "\n",
        "Arkansas\n",
        "\n",
        "| Location| Growth Calculation | Forecast % Inc. Price | Forecast 2018 Price| RMSE |  Technique | Data |\n",
        "| --- | --- | --- | --- | --- | --- | --- |\n",
        "| Hot Springs | 2017-2018 | 1.4% | \\$133,816 | $5285 | ARIMA | Zillow 1997-2017 Monthly |\n",
        "| Fayetteville | 2017-2018 | 2.5% | \\$172,517 | \\$7132 | ARIMA | Zillow 1997-2017 Monthly |\n",
        "| Little Rock | 2017-2018 | 3.8% | \\$145,683 | \\$5633 | ARMIA | Zillow 1997-2017 Monthly |\n",
        "| Searcy | 2017-2018 | 3.2% | \\$95,435 | \\$8018 | Prophet | Zillow 1997-2017 Monthly\n",
        "\n",
        "USA\n",
        "\n",
        "| Location| Growth Calculation | Recommended Zip Codes | Forecast % inc. Price | Forecast % inc. GDP | RMSE % (rmse/actual) | Technique | Data |\n",
        "| --- | --- | --- | --- | --- | --- | --- | --- |\n",
        "| USA | 2017-2018 | 08401,08232, 08241| 39-75% |  3.7-6.7% | 26-63% | Prophet | Zillow 1997-2017 Annual, GDP 2001-2007 Annual\n",
        "| USA | 1997-2018 | 90403, 90027, 90020 | 483-556% | 93-147% | 11-13% | Prophet | Zillow 1997-2017 Annual, GDP 2001-2017 Annual |\n",
        "\n",
        "08401, 08232, 08241 Zip Codes\n",
        "\n",
        "| Location| Growth Calculation | Forecast % Inc. Price | Forecast 2018 Price| RMSE |  Technique | Data |\n",
        "| --- | --- | --- | --- | --- | --- | --- |\n",
        "| 08401 | 2017-2018 | % | \\$ | $ |  | Zillow 1997-2017 Monthly |\n",
        "| 08232 | 2017-2018 | % | \\$ | \\$ |  | Zillow 1997-2017 Monthly |\n",
        "| 08241 | 2017-2018 | % | \\$ | \\$ |  | Zillow 1997-2017 Monthly |\n",
        "\n",
        "\n",
        "\n",
        "**Scope**\n",
        " \n",
        " * Analysis of the following for real estate in these Arkansas metro areas - Hot Springs, Little Rock, Fayetteville, Searcy\n",
        "  * Time series plots - Section 1.2\n",
        "  * Average at the metro area level - Section 1.2.\n",
        " * Forecast the following for the USA:\n",
        "  * Average at the metro area level\n",
        "  * Model(s) for forecasting average median housing value by zip code for 2018 - Section 2.0\n",
        "  * Use the historical data from 1997 through 2017 as training data\n",
        "  * Integrate data from other sources (Bureau of Labor Statistics - Gross Domestic Product (GDP) by county) - Section 1.3, 1.6.2, 2.1.1\n",
        "\n",
        "**Questions** \n",
        "\n",
        " * What technique/algorithm/decision process used?\n",
        "  * After importing and processing the Zillow data, it contained 3.3 million observations.  It was estimated that a time series models with weekly data would require over 50 hours of processing for 12,652 zip codes.  The decision was made to group the data by years to reduce the processing time and a model could be run using Facebook's Prophet in about 4 hours for all 12,652 zip codes.\n",
        "  * Another design decision around the time frame for the forecasts.  The research question did not state whether the REIT was interested in a short term of long term view.  For this reason, the models were built with a short term using a 1 year growth from 2017 to the forecast for 2018 and a long term view from 1997 to the forecasted 2018 housing prices.\n",
        "\n",
        "**Conclusion**\n",
        " * What three zip codes provide the best investment opportunity for the SREIT?\n",
        "  * The long term forecast using Zillow data identified 4 of the top 5 zip codes for % growth from 1997 to forecast 2018 in California (with one in New York).  After using GDP data on the top Zillow zip codes, it was determined that 90403 (Santa Monica) and 90027/90020 (Los Angeles) provided the best long term potential.\n",
        "  * The short term forecast using Zillow data provided more surprising and interesting results.  Looking at the increase from 2017 to projected 2018, identified cities in the northeast that were impacted by Hurricane Sandy in 2012.  The top zip codes short term were 08401/08232 (Atlantic City) and 08241 (Galloway, NJ).  Since this area was devastated by the 2012 storm, it is expected that the area will rebound in 2018.  This rebuilding was also highlighted in the 2017 New York Times article, \"Not Your Mother's Jersey Shore\".\n",
        "  * The RMSE percent error (RMSE/Actual) for the top zip codes ranged from 26-63% for the short term forecast and 11-13% for the long range forecast.  This variation is expected and the AtsPy provides a better prediction on the top zip codes where multiple techniques are evaluated (see Section 2.2.2 for details)\n",
        "  * Please see the table above and Section 3.0 for more details on the interpretation of the models.\n",
        "\n",
        " * Bonus: Develop a geographic visualization that in your view best depicts the data and recommendations by state\n",
        "\n",
        "**Data**\n",
        "\n",
        "Zillow housing data from 1997-2018 (files.zillowstatic.com/research/public/Zip/Zip_Zhvi_SingleFamilyResidence.csv)\n",
        "\n",
        "**Technology**\n",
        "\n",
        "* Facebook's Prophet was utilized for the high volume series modeling\n",
        "* AtsPy (Automated Time Series Forecasting for Python) was used for the metro areas of Arkansas and for more detailed analysis of the top zip codes using ARIMA, Prophet and Gluonts techniques.  More information on AtsPy can be found at https://github.com/firmai/atspy."
      ]
    },
    {
      "cell_type": "markdown",
      "metadata": {
        "id": "qIb0EDmwOxfo",
        "colab_type": "text"
      },
      "source": [
        "# 1.0 - OBTAIN - SCRUB - EXPLORE"
      ]
    },
    {
      "cell_type": "markdown",
      "metadata": {
        "id": "yn6MfFbBLLV0",
        "colab_type": "text"
      },
      "source": [
        "# 1.1 - Arkansas Data - Obtain and Scrub"
      ]
    },
    {
      "cell_type": "code",
      "metadata": {
        "id": "EVv4XPijTeTz",
        "colab_type": "code",
        "outputId": "550f51c6-362b-471d-f323-609d6c146421",
        "colab": {
          "base_uri": "https://localhost:8080/",
          "height": 34
        }
      },
      "source": [
        "from google.colab import drive\n",
        "#drive.mount('/content/drive')\n",
        "drive.mount(\"/content/drive\", force_remount=True)"
      ],
      "execution_count": 0,
      "outputs": [
        {
          "output_type": "stream",
          "text": [
            "Mounted at /content/drive\n"
          ],
          "name": "stdout"
        }
      ]
    },
    {
      "cell_type": "code",
      "metadata": {
        "id": "ByEbjR8wczSd",
        "colab_type": "code",
        "colab": {}
      },
      "source": [
        "# import packages for analysis and modeling\n",
        "import pandas as pd  # data frame operations\n",
        "import numpy as np  # arrays and math functions\n",
        "from scipy.stats import uniform  # for training-and-test split\n",
        "import statsmodels.api as sm  # statistical models (including regression)\n",
        "import statsmodels.formula.api as smf  # R-like model specification\n",
        "import matplotlib.pyplot as plt  # 2D plotting\n",
        "import seaborn as sns  # PROVIDES TRELLIS AND SMALL MULTIPLE PLOTTING\n",
        "from pandas import Series\n",
        "from pandas import read_csv\n",
        "from statsmodels.tsa.arima_model import ARIMA\n",
        "from statsmodels.tsa.arima_model import ARIMAResults\n",
        "from sklearn.metrics import r2_score # Import a scoring metric to compare methods\n",
        "from sklearn.metrics import mean_squared_error\n",
        "from math import sqrt\n",
        "from fbprophet import Prophet\n",
        "import datetime\n",
        "from fbprophet.diagnostics import performance_metrics\n",
        "from fbprophet.diagnostics import cross_validation\n",
        "import csv\n",
        "import io"
      ],
      "execution_count": 0,
      "outputs": []
    },
    {
      "cell_type": "code",
      "metadata": {
        "id": "Yc51zFWyTsMh",
        "colab_type": "code",
        "colab": {}
      },
      "source": [
        "#Load the data from Zillow\n",
        "url= \"https://files.zillowstatic.com/research/public/Zip/Zip_Zhvi_SingleFamilyResidence.csv\"\n",
        "zillow = pd.read_csv(url)"
      ],
      "execution_count": 0,
      "outputs": []
    },
    {
      "cell_type": "code",
      "metadata": {
        "id": "ITJQnhtaWRJx",
        "colab_type": "code",
        "colab": {}
      },
      "source": [
        "zillowAR = zillow.query('Metro in [\"Hot Springs\", \"Little Rock-North Little Rock-Conway\", \"Fayetteville-Springdale-Rogers\", \"Searcy\"]')"
      ],
      "execution_count": 0,
      "outputs": []
    },
    {
      "cell_type": "code",
      "metadata": {
        "id": "H0QHFWjKa4Rq",
        "colab_type": "code",
        "colab": {}
      },
      "source": [
        "# Drop 1996 columns\n",
        "zillowAR = zillowAR.drop(['RegionType','StateName','1996-01-31','1996-02-29','1996-03-31','1996-04-30','1996-05-31','1996-06-30','1996-07-31','1996-08-31','1996-09-30','1996-10-31','1996-11-30','1996-12-31'], axis=1)"
      ],
      "execution_count": 0,
      "outputs": []
    },
    {
      "cell_type": "code",
      "metadata": {
        "id": "yYMqM2qefq0g",
        "colab_type": "code",
        "colab": {}
      },
      "source": [
        "## INSERT NAN IN PLACE OF BLANKS AND SEE TUTORIAL BELOW FOR OPTIONS WITH NAN\n",
        "\n",
        "#zillowARnan = zillowAR.replace('', np.nan, inplace=True)\n",
        "\n",
        "#Confirm this code works correctly\n",
        "#zillowARnan = (zillowAR.replace(r'^\\s*$', np.nan, regex=True))\n",
        "\n",
        "# Dropna deletes 32 of 136 rows\n",
        "# Determine if a better appraoch is to remove some dates \n",
        "#zillowAR = zillowAR.dropna()"
      ],
      "execution_count": 0,
      "outputs": []
    },
    {
      "cell_type": "code",
      "metadata": {
        "id": "kMkop6lvfWuJ",
        "colab_type": "code",
        "colab": {}
      },
      "source": [
        "#Use melt to add date columns to rows\n",
        "zillowARtrans = zillowAR.melt(id_vars=[\"RegionID\", \"SizeRank\",\"RegionName\",\"State\",\"City\",\"Metro\",\"CountyName\"], \n",
        "        var_name=\"Date\", \n",
        "        value_name=\"Value\")"
      ],
      "execution_count": 0,
      "outputs": []
    },
    {
      "cell_type": "code",
      "metadata": {
        "id": "NrDj8IQ_pX4u",
        "colab_type": "code",
        "colab": {}
      },
      "source": [
        "zillowARtrans['Date'] = pd.to_datetime(zillowARtrans['Date'], format='%Y-%m-%d')\n",
        "#zillowARtrans['YM'] = zillowARtrans.loc[zillowARtrans['Year','Month']]\n",
        "\n",
        "zillowARtrans['YM'] = pd.to_datetime(zillowARtrans.Date).dt.to_period('m')"
      ],
      "execution_count": 0,
      "outputs": []
    },
    {
      "cell_type": "code",
      "metadata": {
        "id": "7m7NovYlbKNf",
        "colab_type": "code",
        "outputId": "63b2ac2b-e288-41c8-a474-aabba99c1f7f",
        "colab": {
          "base_uri": "https://localhost:8080/",
          "height": 34
        }
      },
      "source": [
        "# Check shape\n",
        "zillowARtrans.shape"
      ],
      "execution_count": 0,
      "outputs": [
        {
          "output_type": "execute_result",
          "data": {
            "text/plain": [
              "(37944, 10)"
            ]
          },
          "metadata": {
            "tags": []
          },
          "execution_count": 405
        }
      ]
    },
    {
      "cell_type": "code",
      "metadata": {
        "id": "F9Xmdsng_fFi",
        "colab_type": "code",
        "outputId": "9a7ba4fb-db9c-4276-84a6-2b88b836d697",
        "colab": {
          "base_uri": "https://localhost:8080/",
          "height": 210
        }
      },
      "source": [
        "print (zillowARtrans.isnull().sum())"
      ],
      "execution_count": 0,
      "outputs": [
        {
          "output_type": "stream",
          "text": [
            "RegionID         0\n",
            "SizeRank         0\n",
            "RegionName       0\n",
            "State            0\n",
            "City             0\n",
            "Metro            0\n",
            "CountyName       0\n",
            "Date             0\n",
            "Value         4900\n",
            "YM               0\n",
            "dtype: int64\n"
          ],
          "name": "stdout"
        }
      ]
    },
    {
      "cell_type": "code",
      "metadata": {
        "id": "ud1p1HPRdpvY",
        "colab_type": "code",
        "colab": {}
      },
      "source": [
        "# The RegionName is the zip code but is missing zeros, change to 5 digits\n",
        "zillowARtrans['RegionName'] = zillowARtrans['RegionName'].astype('str').apply(lambda x: x.zfill(5))"
      ],
      "execution_count": 0,
      "outputs": []
    },
    {
      "cell_type": "code",
      "metadata": {
        "id": "LxVMZt_Jsk1k",
        "colab_type": "code",
        "colab": {}
      },
      "source": [
        "#Put Values into buckets before running crosstab\n",
        "#pd.crosstab(index=zillowARtrans['Metro'],columns=zillowARtrans['Value'])"
      ],
      "execution_count": 0,
      "outputs": []
    },
    {
      "cell_type": "code",
      "metadata": {
        "id": "zU1tGA8jt9NS",
        "colab_type": "code",
        "outputId": "821eda45-8df3-4930-d5f4-58e003437eb5",
        "colab": {
          "base_uri": "https://localhost:8080/",
          "height": 105
        }
      },
      "source": [
        "zillowARtrans.Metro.value_counts()"
      ],
      "execution_count": 0,
      "outputs": [
        {
          "output_type": "execute_result",
          "data": {
            "text/plain": [
              "Little Rock-North Little Rock-Conway    17298\n",
              "Fayetteville-Springdale-Rogers          13671\n",
              "Searcy                                   5022\n",
              "Hot Springs                              1953\n",
              "Name: Metro, dtype: int64"
            ]
          },
          "metadata": {
            "tags": []
          },
          "execution_count": 409
        }
      ]
    },
    {
      "cell_type": "code",
      "metadata": {
        "id": "xFgBGAQguXC3",
        "colab_type": "code",
        "outputId": "2aacafaf-1235-4803-8e6c-ffbbf9a4d68c",
        "colab": {
          "base_uri": "https://localhost:8080/",
          "height": 246
        }
      },
      "source": [
        "zillowARtrans.CountyName.value_counts()"
      ],
      "execution_count": 0,
      "outputs": [
        {
          "output_type": "execute_result",
          "data": {
            "text/plain": [
              "Pulaski County       6696\n",
              "White County         5022\n",
              "Benton County        4743\n",
              "Washington County    4464\n",
              "Lonoke County        3069\n",
              "Faulkner County      2790\n",
              "Saline County        2790\n",
              "McDonald County      2511\n",
              "Madison County       1953\n",
              "Garland County       1953\n",
              "Perry County         1116\n",
              "Grant County          837\n",
              "Name: CountyName, dtype: int64"
            ]
          },
          "metadata": {
            "tags": []
          },
          "execution_count": 410
        }
      ]
    },
    {
      "cell_type": "code",
      "metadata": {
        "id": "TLyTrC4evVOq",
        "colab_type": "code",
        "outputId": "748905e7-bf9e-4db5-c28f-7bcedba588af",
        "colab": {
          "base_uri": "https://localhost:8080/",
          "height": 210
        }
      },
      "source": [
        "zillowARtrans.dtypes"
      ],
      "execution_count": 0,
      "outputs": [
        {
          "output_type": "execute_result",
          "data": {
            "text/plain": [
              "RegionID               int64\n",
              "SizeRank               int64\n",
              "RegionName            object\n",
              "State                 object\n",
              "City                  object\n",
              "Metro                 object\n",
              "CountyName            object\n",
              "Date          datetime64[ns]\n",
              "Value                float64\n",
              "YM                 period[M]\n",
              "dtype: object"
            ]
          },
          "metadata": {
            "tags": []
          },
          "execution_count": 411
        }
      ]
    },
    {
      "cell_type": "code",
      "metadata": {
        "id": "_Arc28VlwlT_",
        "colab_type": "code",
        "outputId": "03724cbc-004c-4c55-bff2-3287bcf82c14",
        "colab": {
          "base_uri": "https://localhost:8080/",
          "height": 431
        }
      },
      "source": [
        "zillowARtrans.index = zillowARtrans['Date']\n",
        "zillowARtrans"
      ],
      "execution_count": 0,
      "outputs": [
        {
          "output_type": "execute_result",
          "data": {
            "text/html": [
              "<div>\n",
              "<style scoped>\n",
              "    .dataframe tbody tr th:only-of-type {\n",
              "        vertical-align: middle;\n",
              "    }\n",
              "\n",
              "    .dataframe tbody tr th {\n",
              "        vertical-align: top;\n",
              "    }\n",
              "\n",
              "    .dataframe thead th {\n",
              "        text-align: right;\n",
              "    }\n",
              "</style>\n",
              "<table border=\"1\" class=\"dataframe\">\n",
              "  <thead>\n",
              "    <tr style=\"text-align: right;\">\n",
              "      <th></th>\n",
              "      <th>RegionID</th>\n",
              "      <th>SizeRank</th>\n",
              "      <th>RegionName</th>\n",
              "      <th>State</th>\n",
              "      <th>City</th>\n",
              "      <th>Metro</th>\n",
              "      <th>CountyName</th>\n",
              "      <th>Date</th>\n",
              "      <th>Value</th>\n",
              "      <th>YM</th>\n",
              "    </tr>\n",
              "    <tr>\n",
              "      <th>Date</th>\n",
              "      <th></th>\n",
              "      <th></th>\n",
              "      <th></th>\n",
              "      <th></th>\n",
              "      <th></th>\n",
              "      <th></th>\n",
              "      <th></th>\n",
              "      <th></th>\n",
              "      <th></th>\n",
              "      <th></th>\n",
              "    </tr>\n",
              "  </thead>\n",
              "  <tbody>\n",
              "    <tr>\n",
              "      <th>1997-01-31</th>\n",
              "      <td>89249</td>\n",
              "      <td>332</td>\n",
              "      <td>71913</td>\n",
              "      <td>AR</td>\n",
              "      <td>Hot Springs</td>\n",
              "      <td>Hot Springs</td>\n",
              "      <td>Garland County</td>\n",
              "      <td>1997-01-31</td>\n",
              "      <td>90258.0</td>\n",
              "      <td>1997-01</td>\n",
              "    </tr>\n",
              "    <tr>\n",
              "      <th>1997-01-31</th>\n",
              "      <td>89319</td>\n",
              "      <td>664</td>\n",
              "      <td>72034</td>\n",
              "      <td>AR</td>\n",
              "      <td>Conway</td>\n",
              "      <td>Little Rock-North Little Rock-Conway</td>\n",
              "      <td>Faulkner County</td>\n",
              "      <td>1997-01-31</td>\n",
              "      <td>103502.0</td>\n",
              "      <td>1997-01</td>\n",
              "    </tr>\n",
              "    <tr>\n",
              "      <th>1997-01-31</th>\n",
              "      <td>89707</td>\n",
              "      <td>870</td>\n",
              "      <td>72701</td>\n",
              "      <td>AR</td>\n",
              "      <td>Fayetteville</td>\n",
              "      <td>Fayetteville-Springdale-Rogers</td>\n",
              "      <td>Washington County</td>\n",
              "      <td>1997-01-31</td>\n",
              "      <td>96387.0</td>\n",
              "      <td>1997-01</td>\n",
              "    </tr>\n",
              "    <tr>\n",
              "      <th>1997-01-31</th>\n",
              "      <td>89749</td>\n",
              "      <td>916</td>\n",
              "      <td>72764</td>\n",
              "      <td>AR</td>\n",
              "      <td>Springdale</td>\n",
              "      <td>Fayetteville-Springdale-Rogers</td>\n",
              "      <td>Washington County</td>\n",
              "      <td>1997-01-31</td>\n",
              "      <td>93065.0</td>\n",
              "      <td>1997-01</td>\n",
              "    </tr>\n",
              "    <tr>\n",
              "      <th>1997-01-31</th>\n",
              "      <td>89745</td>\n",
              "      <td>1592</td>\n",
              "      <td>72758</td>\n",
              "      <td>AR</td>\n",
              "      <td>Rogers</td>\n",
              "      <td>Fayetteville-Springdale-Rogers</td>\n",
              "      <td>Benton County</td>\n",
              "      <td>1997-01-31</td>\n",
              "      <td>139311.0</td>\n",
              "      <td>1997-01</td>\n",
              "    </tr>\n",
              "    <tr>\n",
              "      <th>...</th>\n",
              "      <td>...</td>\n",
              "      <td>...</td>\n",
              "      <td>...</td>\n",
              "      <td>...</td>\n",
              "      <td>...</td>\n",
              "      <td>...</td>\n",
              "      <td>...</td>\n",
              "      <td>...</td>\n",
              "      <td>...</td>\n",
              "      <td>...</td>\n",
              "    </tr>\n",
              "    <tr>\n",
              "      <th>2020-03-31</th>\n",
              "      <td>89420</td>\n",
              "      <td>32332</td>\n",
              "      <td>72165</td>\n",
              "      <td>AR</td>\n",
              "      <td>Bradford</td>\n",
              "      <td>Searcy</td>\n",
              "      <td>White County</td>\n",
              "      <td>2020-03-31</td>\n",
              "      <td>61563.0</td>\n",
              "      <td>2020-03</td>\n",
              "    </tr>\n",
              "    <tr>\n",
              "      <th>2020-03-31</th>\n",
              "      <td>89739</td>\n",
              "      <td>32559</td>\n",
              "      <td>72749</td>\n",
              "      <td>AR</td>\n",
              "      <td>Morrow</td>\n",
              "      <td>Fayetteville-Springdale-Rogers</td>\n",
              "      <td>Washington County</td>\n",
              "      <td>2020-03-31</td>\n",
              "      <td>139836.0</td>\n",
              "      <td>2020-03</td>\n",
              "    </tr>\n",
              "    <tr>\n",
              "      <th>2020-03-31</th>\n",
              "      <td>89346</td>\n",
              "      <td>33411</td>\n",
              "      <td>72066</td>\n",
              "      <td>AR</td>\n",
              "      <td>Carlisle</td>\n",
              "      <td>Little Rock-North Little Rock-Conway</td>\n",
              "      <td>Lonoke County</td>\n",
              "      <td>2020-03-31</td>\n",
              "      <td>144633.0</td>\n",
              "      <td>2020-03</td>\n",
              "    </tr>\n",
              "    <tr>\n",
              "      <th>2020-03-31</th>\n",
              "      <td>89429</td>\n",
              "      <td>33620</td>\n",
              "      <td>72178</td>\n",
              "      <td>AR</td>\n",
              "      <td>West Point</td>\n",
              "      <td>Searcy</td>\n",
              "      <td>White County</td>\n",
              "      <td>2020-03-31</td>\n",
              "      <td>39782.0</td>\n",
              "      <td>2020-03</td>\n",
              "    </tr>\n",
              "    <tr>\n",
              "      <th>2020-03-31</th>\n",
              "      <td>89322</td>\n",
              "      <td>33721</td>\n",
              "      <td>72037</td>\n",
              "      <td>AR</td>\n",
              "      <td>Coy</td>\n",
              "      <td>Little Rock-North Little Rock-Conway</td>\n",
              "      <td>Lonoke County</td>\n",
              "      <td>2020-03-31</td>\n",
              "      <td>73570.0</td>\n",
              "      <td>2020-03</td>\n",
              "    </tr>\n",
              "  </tbody>\n",
              "</table>\n",
              "<p>37944 rows × 10 columns</p>\n",
              "</div>"
            ],
            "text/plain": [
              "            RegionID  SizeRank RegionName  ...       Date     Value       YM\n",
              "Date                                       ...                              \n",
              "1997-01-31     89249       332      71913  ... 1997-01-31   90258.0  1997-01\n",
              "1997-01-31     89319       664      72034  ... 1997-01-31  103502.0  1997-01\n",
              "1997-01-31     89707       870      72701  ... 1997-01-31   96387.0  1997-01\n",
              "1997-01-31     89749       916      72764  ... 1997-01-31   93065.0  1997-01\n",
              "1997-01-31     89745      1592      72758  ... 1997-01-31  139311.0  1997-01\n",
              "...              ...       ...        ...  ...        ...       ...      ...\n",
              "2020-03-31     89420     32332      72165  ... 2020-03-31   61563.0  2020-03\n",
              "2020-03-31     89739     32559      72749  ... 2020-03-31  139836.0  2020-03\n",
              "2020-03-31     89346     33411      72066  ... 2020-03-31  144633.0  2020-03\n",
              "2020-03-31     89429     33620      72178  ... 2020-03-31   39782.0  2020-03\n",
              "2020-03-31     89322     33721      72037  ... 2020-03-31   73570.0  2020-03\n",
              "\n",
              "[37944 rows x 10 columns]"
            ]
          },
          "metadata": {
            "tags": []
          },
          "execution_count": 412
        }
      ]
    },
    {
      "cell_type": "code",
      "metadata": {
        "id": "ieqGl4XP1KWQ",
        "colab_type": "code",
        "colab": {}
      },
      "source": [
        "# Add month and year columns\n",
        "# zillowARtrans['Year'] = zillowARtrans.index.year\n",
        "# zillowARtrans['Month'] = zillowARtrans.index.month\n",
        "# zillowARtrans"
      ],
      "execution_count": 0,
      "outputs": []
    },
    {
      "cell_type": "code",
      "metadata": {
        "id": "RHN3WRO2iv8I",
        "colab_type": "code",
        "colab": {}
      },
      "source": [
        "#Impute missing Values\n",
        "#dfImpute = zillowARtrans.assign(InterpolateTime=zillowARtrans.Value.interpolate(method='time'))\n",
        "#dfImpute[dfImpute['Value'].isnull()]"
      ],
      "execution_count": 0,
      "outputs": []
    },
    {
      "cell_type": "code",
      "metadata": {
        "id": "d1REyWb5zTbh",
        "colab_type": "code",
        "colab": {}
      },
      "source": [
        "#Data for 1997 to 2017\n",
        "zillowARtrans97to17 = zillowARtrans.loc['1997-01-31':'2017-12-31']"
      ],
      "execution_count": 0,
      "outputs": []
    },
    {
      "cell_type": "code",
      "metadata": {
        "id": "np98bQUpsCan",
        "colab_type": "code",
        "colab": {}
      },
      "source": [
        "# Convert dataframe to series format\n",
        "zillowARseries = pd.Series(zillowARtrans['Value'], index=zillowARtrans.index)"
      ],
      "execution_count": 0,
      "outputs": []
    },
    {
      "cell_type": "markdown",
      "metadata": {
        "id": "smqqNA9BLXnV",
        "colab_type": "text"
      },
      "source": [
        "# 1.2 - Arkansas Explore"
      ]
    },
    {
      "cell_type": "code",
      "metadata": {
        "id": "I5AHhzyAyAXP",
        "colab_type": "code",
        "colab": {}
      },
      "source": [
        "# Use seaborn style defaults and set the default figure size\n",
        "#sns.set(rc={'figure.figsize':(11, 4)})"
      ],
      "execution_count": 0,
      "outputs": []
    },
    {
      "cell_type": "code",
      "metadata": {
        "id": "UsO4RdkipmvO",
        "colab_type": "code",
        "outputId": "08661fe3-8cd6-4b7e-dd93-08deb8f5432b",
        "colab": {
          "base_uri": "https://localhost:8080/",
          "height": 416
        }
      },
      "source": [
        "#Use this plot, figure out why year isn't working\n",
        "plt.figure(figsize=(16, 6))\n",
        "plt.clf()\n",
        "sns.lineplot(x=\"Date\", y=\"Value\", data=zillowARtrans)\n",
        "plt.xticks(rotation=15)\n",
        "plt.title('Arkansas Housing Prices 1997-2020 for Hot Springs, Little Rock, Fayetteville, and Searcy Metro Areas')\n",
        "plt.show()"
      ],
      "execution_count": 0,
      "outputs": [
        {
          "output_type": "display_data",
          "data": {
            "image/png": "[encoded data removed]",
            "text/plain": [
              "<Figure size 1152x432 with 1 Axes>"
            ]
          },
          "metadata": {
            "tags": []
          }
        }
      ]
    },
    {
      "cell_type": "code",
      "metadata": {
        "id": "_DmnNzMrqNM6",
        "colab_type": "code",
        "outputId": "2a7fdf8f-9b11-4eb7-9d3e-075dbf35e87a",
        "colab": {
          "base_uri": "https://localhost:8080/",
          "height": 389
        }
      },
      "source": [
        "plt.title('Arkansas Housing Prices 1997-2020 for Hot Springs, Little Rock, Fayetteville, and Searcy Metro Areas')\n",
        "#plt.figure(figsize=(16, 6))\n",
        "plt.xlabel('Average House Price')\n",
        "plt.ylabel('Number of Houses')\n",
        "plt.hist(zillowARtrans['Value'], alpha=0.5)"
      ],
      "execution_count": 0,
      "outputs": [
        {
          "output_type": "execute_result",
          "data": {
            "text/plain": [
              "(array([2194., 7454., 8913., 6982., 4344., 1720.,  528.,  549.,  175.,\n",
              "         185.]),\n",
              " array([ 21450. ,  53192.1,  84934.2, 116676.3, 148418.4, 180160.5,\n",
              "        211902.6, 243644.7, 275386.8, 307128.9, 338871. ]),\n",
              " <a list of 10 Patch objects>)"
            ]
          },
          "metadata": {
            "tags": []
          },
          "execution_count": 419
        },
        {
          "output_type": "display_data",
          "data": {
            "image/png": "[encoded data removed]",
            "text/plain": [
              "<Figure size 792x288 with 1 Axes>"
            ]
          },
          "metadata": {
            "tags": []
          }
        }
      ]
    },
    {
      "cell_type": "code",
      "metadata": {
        "id": "x9-7kdzVtzmO",
        "colab_type": "code",
        "outputId": "667b6267-f653-42ab-b466-12fc68cf311a",
        "colab": {
          "base_uri": "https://localhost:8080/",
          "height": 318
        }
      },
      "source": [
        "plt.title('AR Housing Prices 97-20 for Hot Springs, Little Rock, Fayetteville, & Searcy Metro Areas')\n",
        "#plt.figure(figsize=(20,1))\n",
        "plt.xlabel('Average House Price')\n",
        "plt.ylabel('Number of Houses (log scale)')\n",
        "sns.kdeplot(zillowARtrans['Value'], shade=True)"
      ],
      "execution_count": 0,
      "outputs": [
        {
          "output_type": "execute_result",
          "data": {
            "text/plain": [
              "<matplotlib.axes._subplots.AxesSubplot at 0x7f2d1b76ec18>"
            ]
          },
          "metadata": {
            "tags": []
          },
          "execution_count": 420
        },
        {
          "output_type": "display_data",
          "data": {
            "image/png": "[encoded data removed]",
            "text/plain": [
              "<Figure size 792x288 with 1 Axes>"
            ]
          },
          "metadata": {
            "tags": []
          }
        }
      ]
    },
    {
      "cell_type": "code",
      "metadata": {
        "id": "IDbB4HG9z_lZ",
        "colab_type": "code",
        "colab": {}
      },
      "source": [
        "# Plot 1996 to 2020 Values\n",
        "#zillowARtrans['Value'].plot(linewidth=0.5);\n",
        "\n",
        "#Source: https://www.dataquest.io/blog/tutorial-time-series-analysis-with-pandas/"
      ],
      "execution_count": 0,
      "outputs": []
    },
    {
      "cell_type": "code",
      "metadata": {
        "id": "itr4bcgW0W77",
        "colab_type": "code",
        "outputId": "6fba9877-b220-4ce2-fd75-1c336168d895",
        "colab": {
          "base_uri": "https://localhost:8080/",
          "height": 526
        }
      },
      "source": [
        "import textwrap\n",
        "plt.figure(figsize=(16, 6))\n",
        "plt.title('AR Housing Prices 97-20 for Hot Springs, Little Rock, Fayetteville, & Searcy Metro Areas')\n",
        "ax = sns.boxplot(data=zillowARtrans, x='Metro', y='Value');\n",
        "ax.set_xticklabels([textwrap.fill(t.get_text(), 10)  for t in ax.get_xticklabels()])"
      ],
      "execution_count": 0,
      "outputs": [
        {
          "output_type": "execute_result",
          "data": {
            "text/plain": [
              "[Text(0, 0, 'Hot\\nSprings'),\n",
              " Text(0, 0, 'Little\\nRock-North\\nLittle\\nRock-\\nConway'),\n",
              " Text(0, 0, 'Fayettevil\\nle-Springd\\nale-Rogers'),\n",
              " Text(0, 0, 'Searcy')]"
            ]
          },
          "metadata": {
            "tags": []
          },
          "execution_count": 422
        },
        {
          "output_type": "display_data",
          "data": {
            "image/png": "[encoded data removed]",
            "text/plain": [
              "<Figure size 1152x432 with 1 Axes>"
            ]
          },
          "metadata": {
            "tags": []
          }
        }
      ]
    },
    {
      "cell_type": "code",
      "metadata": {
        "id": "6uXnb3mFobX3",
        "colab_type": "code",
        "colab": {}
      },
      "source": [
        "# Use this plot, why is year not working\n",
        "# import seaborn as sns\n",
        "# plt.figure(figsize=(16, 6))\n",
        "# sns.set(style=\"darkgrid\")\n",
        "\n",
        "# # Load an example dataset with long-form data\n",
        "# #fmri = sns.load_dataset(\"zillowARtrans\")\n",
        "\n",
        "# # Plot the responses for different events and regions\n",
        "# sns.lineplot(x=\"Year\", y=\"Value\",\n",
        "#              hue=\"Metro\",\n",
        "#              data=zillowARtrans)"
      ],
      "execution_count": 0,
      "outputs": []
    },
    {
      "cell_type": "code",
      "metadata": {
        "id": "WkwpQrDrw1DN",
        "colab_type": "code",
        "colab": {}
      },
      "source": [
        "# Need to remove missing values for this to run\n",
        "# from pylab import rcParams\n",
        "\n",
        "# res = sm.tsa.seasonal_decompose(zillowARtrans.Value,\n",
        "#                                 freq=12,\n",
        "#                                 model='additive')\n",
        "# resplot = res.plot()\n",
        "# resplot.savefig('Seasonal_Decompose.png', dpi=150)"
      ],
      "execution_count": 0,
      "outputs": []
    },
    {
      "cell_type": "code",
      "metadata": {
        "id": "ks__HWwa-vb5",
        "colab_type": "code",
        "colab": {}
      },
      "source": [
        "# Changing index to monthly due to ARIMA error message\n",
        "#zillowARtrans.index = pd.DatetimeIndex(zillowARtrans.index).to_period('M')"
      ],
      "execution_count": 0,
      "outputs": []
    },
    {
      "cell_type": "code",
      "metadata": {
        "id": "6nU_uC0hvPNn",
        "colab_type": "code",
        "colab": {}
      },
      "source": [
        "# START PLOTS FROM DEPTONETIMESERIES"
      ],
      "execution_count": 0,
      "outputs": []
    },
    {
      "cell_type": "code",
      "metadata": {
        "id": "3qnC7Ktbt8cZ",
        "colab_type": "code",
        "outputId": "e68b2316-2bd1-401d-9a38-2f1da6ceb9d3",
        "colab": {
          "base_uri": "https://localhost:8080/",
          "height": 292
        }
      },
      "source": [
        "from matplotlib import pyplot\n",
        "zillowARseries.plot()\n",
        "plt.title('AR Housing Prices 97-20 for Hot Springs, Little Rock, Fayetteville, & Searcy Metro Areas')\n",
        "plt.ylabel('Number of Houses')\n",
        "pyplot.show()"
      ],
      "execution_count": 0,
      "outputs": [
        {
          "output_type": "display_data",
          "data": {
            "image/png": "[encoded data removed]",
            "text/plain": [
              "<Figure size 792x288 with 1 Axes>"
            ]
          },
          "metadata": {
            "tags": []
          }
        }
      ]
    },
    {
      "cell_type": "code",
      "metadata": {
        "id": "sOOHC3BpuW06",
        "colab_type": "code",
        "outputId": "6f668349-638c-41e8-99f2-80325a318f14",
        "colab": {
          "base_uri": "https://localhost:8080/",
          "height": 302
        }
      },
      "source": [
        "pyplot.figure(1)\n",
        "pyplot.subplot(211)\n",
        "zillowARseries.hist()\n",
        "plt.title('AR Housing Prices 97-20 for Hot Springs, Little Rock, Fayetteville, & Searcy Metro Areas')\n",
        "pyplot.subplot(212)\n",
        "zillowARseries.plot(kind='kde')"
      ],
      "execution_count": 0,
      "outputs": [
        {
          "output_type": "execute_result",
          "data": {
            "text/plain": [
              "<matplotlib.axes._subplots.AxesSubplot at 0x7f2d1b7b2d30>"
            ]
          },
          "metadata": {
            "tags": []
          },
          "execution_count": 428
        },
        {
          "output_type": "display_data",
          "data": {
            "image/png": "[encoded data removed]",
            "text/plain": [
              "<Figure size 792x288 with 2 Axes>"
            ]
          },
          "metadata": {
            "tags": []
          }
        }
      ]
    },
    {
      "cell_type": "markdown",
      "metadata": {
        "id": "GOODccNNWXRQ",
        "colab_type": "text"
      },
      "source": [
        "# 1.3 - GDP Data - Obtain and Scrub\n",
        "\n",
        "Sources: \n",
        "\n",
        "https://data.world/nrippner/fips-to-zip-code-crosswalk\n",
        "\n",
        "Real GDP (thousands of chained 2012 dollars) 2001_2018 \n",
        "https://apps.bea.gov/regional/Downloadzip.cfm"
      ]
    },
    {
      "cell_type": "code",
      "metadata": {
        "id": "LpftJnnfXrrH",
        "colab_type": "code",
        "outputId": "d698e716-3c5c-4a17-d85f-b1b6aa7db430",
        "colab": {
          "base_uri": "https://localhost:8080/",
          "height": 402
        }
      },
      "source": [
        "#Load the data from data.world crosswalk for country to zip code conversion\n",
        "#path= \"/content/drive/My Drive/Colab Notebooks/IST718/Lab2/ZIP-COUNTY-FIPS_2017-06.csv\"\n",
        "crosswalk = pd.read_csv('/content/drive/My Drive/Colab Notebooks/IST718/Lab2/ZIP-COUNTY-FIPS_2017-06.csv',engine='python')\n",
        "#crosswalk = pd.read_csv('/content/ZIP-COUNTY-FIPS_2017-06.csv',engine='python')\n",
        "crosswalk = crosswalk.rename(columns = {'STCOUNTYFP':'GeoFIPS'})\n",
        "crosswalk = crosswalk[~crosswalk['STATE'].isin(['PR','VI','GU'])]\n",
        "crosswalk['ZIP'] = crosswalk['ZIP'].astype('str').apply(lambda x: x.zfill(5))\n",
        "crosswalk"
      ],
      "execution_count": 0,
      "outputs": [
        {
          "output_type": "execute_result",
          "data": {
            "text/html": [
              "<div>\n",
              "<style scoped>\n",
              "    .dataframe tbody tr th:only-of-type {\n",
              "        vertical-align: middle;\n",
              "    }\n",
              "\n",
              "    .dataframe tbody tr th {\n",
              "        vertical-align: top;\n",
              "    }\n",
              "\n",
              "    .dataframe thead th {\n",
              "        text-align: right;\n",
              "    }\n",
              "</style>\n",
              "<table border=\"1\" class=\"dataframe\">\n",
              "  <thead>\n",
              "    <tr style=\"text-align: right;\">\n",
              "      <th></th>\n",
              "      <th>ZIP</th>\n",
              "      <th>COUNTYNAME</th>\n",
              "      <th>STATE</th>\n",
              "      <th>GeoFIPS</th>\n",
              "      <th>CLASSFP</th>\n",
              "    </tr>\n",
              "  </thead>\n",
              "  <tbody>\n",
              "    <tr>\n",
              "      <th>0</th>\n",
              "      <td>36003</td>\n",
              "      <td>Autauga County</td>\n",
              "      <td>AL</td>\n",
              "      <td>1001</td>\n",
              "      <td>H1</td>\n",
              "    </tr>\n",
              "    <tr>\n",
              "      <th>1</th>\n",
              "      <td>36006</td>\n",
              "      <td>Autauga County</td>\n",
              "      <td>AL</td>\n",
              "      <td>1001</td>\n",
              "      <td>H1</td>\n",
              "    </tr>\n",
              "    <tr>\n",
              "      <th>2</th>\n",
              "      <td>36067</td>\n",
              "      <td>Autauga County</td>\n",
              "      <td>AL</td>\n",
              "      <td>1001</td>\n",
              "      <td>H1</td>\n",
              "    </tr>\n",
              "    <tr>\n",
              "      <th>3</th>\n",
              "      <td>36066</td>\n",
              "      <td>Autauga County</td>\n",
              "      <td>AL</td>\n",
              "      <td>1001</td>\n",
              "      <td>H1</td>\n",
              "    </tr>\n",
              "    <tr>\n",
              "      <th>4</th>\n",
              "      <td>36703</td>\n",
              "      <td>Autauga County</td>\n",
              "      <td>AL</td>\n",
              "      <td>1001</td>\n",
              "      <td>H1</td>\n",
              "    </tr>\n",
              "    <tr>\n",
              "      <th>...</th>\n",
              "      <td>...</td>\n",
              "      <td>...</td>\n",
              "      <td>...</td>\n",
              "      <td>...</td>\n",
              "      <td>...</td>\n",
              "    </tr>\n",
              "    <tr>\n",
              "      <th>52566</th>\n",
              "      <td>82729</td>\n",
              "      <td>Weston County</td>\n",
              "      <td>WY</td>\n",
              "      <td>56045</td>\n",
              "      <td>H1</td>\n",
              "    </tr>\n",
              "    <tr>\n",
              "      <th>52567</th>\n",
              "      <td>82730</td>\n",
              "      <td>Weston County</td>\n",
              "      <td>WY</td>\n",
              "      <td>56045</td>\n",
              "      <td>H1</td>\n",
              "    </tr>\n",
              "    <tr>\n",
              "      <th>52568</th>\n",
              "      <td>82701</td>\n",
              "      <td>Weston County</td>\n",
              "      <td>WY</td>\n",
              "      <td>56045</td>\n",
              "      <td>H1</td>\n",
              "    </tr>\n",
              "    <tr>\n",
              "      <th>52569</th>\n",
              "      <td>82723</td>\n",
              "      <td>Weston County</td>\n",
              "      <td>WY</td>\n",
              "      <td>56045</td>\n",
              "      <td>H1</td>\n",
              "    </tr>\n",
              "    <tr>\n",
              "      <th>52570</th>\n",
              "      <td>82715</td>\n",
              "      <td>Weston County</td>\n",
              "      <td>WY</td>\n",
              "      <td>56045</td>\n",
              "      <td>H1</td>\n",
              "    </tr>\n",
              "  </tbody>\n",
              "</table>\n",
              "<p>52571 rows × 5 columns</p>\n",
              "</div>"
            ],
            "text/plain": [
              "         ZIP      COUNTYNAME STATE  GeoFIPS CLASSFP\n",
              "0      36003  Autauga County    AL     1001      H1\n",
              "1      36006  Autauga County    AL     1001      H1\n",
              "2      36067  Autauga County    AL     1001      H1\n",
              "3      36066  Autauga County    AL     1001      H1\n",
              "4      36703  Autauga County    AL     1001      H1\n",
              "...      ...             ...   ...      ...     ...\n",
              "52566  82729   Weston County    WY    56045      H1\n",
              "52567  82730   Weston County    WY    56045      H1\n",
              "52568  82701   Weston County    WY    56045      H1\n",
              "52569  82723   Weston County    WY    56045      H1\n",
              "52570  82715   Weston County    WY    56045      H1\n",
              "\n",
              "[52571 rows x 5 columns]"
            ]
          },
          "metadata": {
            "tags": []
          },
          "execution_count": 429
        }
      ]
    },
    {
      "cell_type": "code",
      "metadata": {
        "id": "dM3BDSS-YsEN",
        "colab_type": "code",
        "outputId": "5544d9f4-0bf7-4240-ebe6-d4954bc6b38b",
        "colab": {
          "base_uri": "https://localhost:8080/",
          "height": 105
        }
      },
      "source": [
        "#Check to insure Puerto Rico, Virgin Islands and Guam were removed from data\n",
        "crosswalk.STATE.unique()"
      ],
      "execution_count": 0,
      "outputs": [
        {
          "output_type": "execute_result",
          "data": {
            "text/plain": [
              "array(['AL', 'AK', 'AZ', 'AR', 'CA', 'CO', 'CT', 'DE', 'DC', 'FL', 'GA',\n",
              "       'HI', 'ID', 'IL', 'IN', 'IA', 'KS', 'KY', 'LA', 'ME', 'MD', 'MA',\n",
              "       'MI', 'MN', 'MS', 'MO', 'MT', 'NE', 'NV', 'NH', 'NJ', 'NM', 'NY',\n",
              "       'NC', 'ND', 'OH', 'OK', 'OR', 'PA', 'RI', 'SC', 'SD', 'TN', 'TX',\n",
              "       'UT', 'VT', 'VA', 'WA', 'WV', 'WI', 'WY'], dtype=object)"
            ]
          },
          "metadata": {
            "tags": []
          },
          "execution_count": 430
        }
      ]
    },
    {
      "cell_type": "code",
      "metadata": {
        "id": "s1QicmLwYKAa",
        "colab_type": "code",
        "colab": {}
      },
      "source": [
        "#Load the data from bea.gov on GDP data from 2001-2018\n",
        "path= \"/content/drive/My Drive/Colab Notebooks/IST718/Lab2/RealGDP.csv\"\n",
        "#path = '/content/RealGDP.csv'\n",
        "gdp = pd.read_csv(path, encoding = \"ISO-8859-1\")"
      ],
      "execution_count": 0,
      "outputs": []
    },
    {
      "cell_type": "code",
      "metadata": {
        "id": "oUTH6lgcYGAC",
        "colab_type": "code",
        "outputId": "41ad8860-789a-4747-e6a0-005d17cc8c3a",
        "colab": {
          "base_uri": "https://localhost:8080/",
          "height": 539
        }
      },
      "source": [
        "GDPmerged = pd.merge(gdp, crosswalk, on='GeoFIPS', how=\"left\")\n",
        "GDPmerged = GDPmerged.dropna()\n",
        "GDPmerged.drop_duplicates(subset =\"ZIP\", keep = False, inplace = True) \n",
        "GDPmerged"
      ],
      "execution_count": 0,
      "outputs": [
        {
          "output_type": "execute_result",
          "data": {
            "text/html": [
              "<div>\n",
              "<style scoped>\n",
              "    .dataframe tbody tr th:only-of-type {\n",
              "        vertical-align: middle;\n",
              "    }\n",
              "\n",
              "    .dataframe tbody tr th {\n",
              "        vertical-align: top;\n",
              "    }\n",
              "\n",
              "    .dataframe thead th {\n",
              "        text-align: right;\n",
              "    }\n",
              "</style>\n",
              "<table border=\"1\" class=\"dataframe\">\n",
              "  <thead>\n",
              "    <tr style=\"text-align: right;\">\n",
              "      <th></th>\n",
              "      <th>GeoFIPS</th>\n",
              "      <th>GeoName</th>\n",
              "      <th>2001</th>\n",
              "      <th>2002</th>\n",
              "      <th>2003</th>\n",
              "      <th>2004</th>\n",
              "      <th>2005</th>\n",
              "      <th>2006</th>\n",
              "      <th>2007</th>\n",
              "      <th>2008</th>\n",
              "      <th>2009</th>\n",
              "      <th>2010</th>\n",
              "      <th>2011</th>\n",
              "      <th>2012</th>\n",
              "      <th>2013</th>\n",
              "      <th>2014</th>\n",
              "      <th>2015</th>\n",
              "      <th>2016</th>\n",
              "      <th>2017</th>\n",
              "      <th>2018</th>\n",
              "      <th>ZIP</th>\n",
              "      <th>COUNTYNAME</th>\n",
              "      <th>STATE</th>\n",
              "      <th>CLASSFP</th>\n",
              "    </tr>\n",
              "  </thead>\n",
              "  <tbody>\n",
              "    <tr>\n",
              "      <th>0</th>\n",
              "      <td>1001</td>\n",
              "      <td>Autauga, AL</td>\n",
              "      <td>954588</td>\n",
              "      <td>975940</td>\n",
              "      <td>986203</td>\n",
              "      <td>1129055</td>\n",
              "      <td>1125576</td>\n",
              "      <td>1210687</td>\n",
              "      <td>1234500</td>\n",
              "      <td>1112891</td>\n",
              "      <td>1144614</td>\n",
              "      <td>1207789</td>\n",
              "      <td>1317638</td>\n",
              "      <td>1482770</td>\n",
              "      <td>1411910</td>\n",
              "      <td>1406262</td>\n",
              "      <td>1518409</td>\n",
              "      <td>1526310</td>\n",
              "      <td>1422078</td>\n",
              "      <td>1483414</td>\n",
              "      <td>36003</td>\n",
              "      <td>Autauga County</td>\n",
              "      <td>AL</td>\n",
              "      <td>H1</td>\n",
              "    </tr>\n",
              "    <tr>\n",
              "      <th>8</th>\n",
              "      <td>1001</td>\n",
              "      <td>Autauga, AL</td>\n",
              "      <td>954588</td>\n",
              "      <td>975940</td>\n",
              "      <td>986203</td>\n",
              "      <td>1129055</td>\n",
              "      <td>1125576</td>\n",
              "      <td>1210687</td>\n",
              "      <td>1234500</td>\n",
              "      <td>1112891</td>\n",
              "      <td>1144614</td>\n",
              "      <td>1207789</td>\n",
              "      <td>1317638</td>\n",
              "      <td>1482770</td>\n",
              "      <td>1411910</td>\n",
              "      <td>1406262</td>\n",
              "      <td>1518409</td>\n",
              "      <td>1526310</td>\n",
              "      <td>1422078</td>\n",
              "      <td>1483414</td>\n",
              "      <td>36068</td>\n",
              "      <td>Autauga County</td>\n",
              "      <td>AL</td>\n",
              "      <td>H1</td>\n",
              "    </tr>\n",
              "    <tr>\n",
              "      <th>9</th>\n",
              "      <td>1001</td>\n",
              "      <td>Autauga, AL</td>\n",
              "      <td>954588</td>\n",
              "      <td>975940</td>\n",
              "      <td>986203</td>\n",
              "      <td>1129055</td>\n",
              "      <td>1125576</td>\n",
              "      <td>1210687</td>\n",
              "      <td>1234500</td>\n",
              "      <td>1112891</td>\n",
              "      <td>1144614</td>\n",
              "      <td>1207789</td>\n",
              "      <td>1317638</td>\n",
              "      <td>1482770</td>\n",
              "      <td>1411910</td>\n",
              "      <td>1406262</td>\n",
              "      <td>1518409</td>\n",
              "      <td>1526310</td>\n",
              "      <td>1422078</td>\n",
              "      <td>1483414</td>\n",
              "      <td>36008</td>\n",
              "      <td>Autauga County</td>\n",
              "      <td>AL</td>\n",
              "      <td>H1</td>\n",
              "    </tr>\n",
              "    <tr>\n",
              "      <th>13</th>\n",
              "      <td>1003</td>\n",
              "      <td>Baldwin, AL</td>\n",
              "      <td>3929753</td>\n",
              "      <td>4154915</td>\n",
              "      <td>4352352</td>\n",
              "      <td>4772559</td>\n",
              "      <td>5257742</td>\n",
              "      <td>5296563</td>\n",
              "      <td>5283689</td>\n",
              "      <td>4997036</td>\n",
              "      <td>4693291</td>\n",
              "      <td>4843331</td>\n",
              "      <td>4887545</td>\n",
              "      <td>5016735</td>\n",
              "      <td>5136425</td>\n",
              "      <td>5178584</td>\n",
              "      <td>5345363</td>\n",
              "      <td>5496105</td>\n",
              "      <td>5525882</td>\n",
              "      <td>5774289</td>\n",
              "      <td>36550</td>\n",
              "      <td>Baldwin County</td>\n",
              "      <td>AL</td>\n",
              "      <td>H1</td>\n",
              "    </tr>\n",
              "    <tr>\n",
              "      <th>14</th>\n",
              "      <td>1003</td>\n",
              "      <td>Baldwin, AL</td>\n",
              "      <td>3929753</td>\n",
              "      <td>4154915</td>\n",
              "      <td>4352352</td>\n",
              "      <td>4772559</td>\n",
              "      <td>5257742</td>\n",
              "      <td>5296563</td>\n",
              "      <td>5283689</td>\n",
              "      <td>4997036</td>\n",
              "      <td>4693291</td>\n",
              "      <td>4843331</td>\n",
              "      <td>4887545</td>\n",
              "      <td>5016735</td>\n",
              "      <td>5136425</td>\n",
              "      <td>5178584</td>\n",
              "      <td>5345363</td>\n",
              "      <td>5496105</td>\n",
              "      <td>5525882</td>\n",
              "      <td>5774289</td>\n",
              "      <td>36551</td>\n",
              "      <td>Baldwin County</td>\n",
              "      <td>AL</td>\n",
              "      <td>H1</td>\n",
              "    </tr>\n",
              "    <tr>\n",
              "      <th>...</th>\n",
              "      <td>...</td>\n",
              "      <td>...</td>\n",
              "      <td>...</td>\n",
              "      <td>...</td>\n",
              "      <td>...</td>\n",
              "      <td>...</td>\n",
              "      <td>...</td>\n",
              "      <td>...</td>\n",
              "      <td>...</td>\n",
              "      <td>...</td>\n",
              "      <td>...</td>\n",
              "      <td>...</td>\n",
              "      <td>...</td>\n",
              "      <td>...</td>\n",
              "      <td>...</td>\n",
              "      <td>...</td>\n",
              "      <td>...</td>\n",
              "      <td>...</td>\n",
              "      <td>...</td>\n",
              "      <td>...</td>\n",
              "      <td>...</td>\n",
              "      <td>...</td>\n",
              "      <td>...</td>\n",
              "      <td>...</td>\n",
              "    </tr>\n",
              "    <tr>\n",
              "      <th>52067</th>\n",
              "      <td>56041</td>\n",
              "      <td>Uinta, WY</td>\n",
              "      <td>985399</td>\n",
              "      <td>1083310</td>\n",
              "      <td>1044571</td>\n",
              "      <td>1051394</td>\n",
              "      <td>1077490</td>\n",
              "      <td>1195739</td>\n",
              "      <td>1236378</td>\n",
              "      <td>1272157</td>\n",
              "      <td>1230053</td>\n",
              "      <td>1161169</td>\n",
              "      <td>1030215</td>\n",
              "      <td>1000364</td>\n",
              "      <td>977038</td>\n",
              "      <td>965590</td>\n",
              "      <td>981530</td>\n",
              "      <td>938876</td>\n",
              "      <td>904458</td>\n",
              "      <td>906587</td>\n",
              "      <td>82930</td>\n",
              "      <td>Uinta County</td>\n",
              "      <td>WY</td>\n",
              "      <td>H1</td>\n",
              "    </tr>\n",
              "    <tr>\n",
              "      <th>52068</th>\n",
              "      <td>56041</td>\n",
              "      <td>Uinta, WY</td>\n",
              "      <td>985399</td>\n",
              "      <td>1083310</td>\n",
              "      <td>1044571</td>\n",
              "      <td>1051394</td>\n",
              "      <td>1077490</td>\n",
              "      <td>1195739</td>\n",
              "      <td>1236378</td>\n",
              "      <td>1272157</td>\n",
              "      <td>1230053</td>\n",
              "      <td>1161169</td>\n",
              "      <td>1030215</td>\n",
              "      <td>1000364</td>\n",
              "      <td>977038</td>\n",
              "      <td>965590</td>\n",
              "      <td>981530</td>\n",
              "      <td>938876</td>\n",
              "      <td>904458</td>\n",
              "      <td>906587</td>\n",
              "      <td>82937</td>\n",
              "      <td>Uinta County</td>\n",
              "      <td>WY</td>\n",
              "      <td>H1</td>\n",
              "    </tr>\n",
              "    <tr>\n",
              "      <th>52069</th>\n",
              "      <td>56041</td>\n",
              "      <td>Uinta, WY</td>\n",
              "      <td>985399</td>\n",
              "      <td>1083310</td>\n",
              "      <td>1044571</td>\n",
              "      <td>1051394</td>\n",
              "      <td>1077490</td>\n",
              "      <td>1195739</td>\n",
              "      <td>1236378</td>\n",
              "      <td>1272157</td>\n",
              "      <td>1230053</td>\n",
              "      <td>1161169</td>\n",
              "      <td>1030215</td>\n",
              "      <td>1000364</td>\n",
              "      <td>977038</td>\n",
              "      <td>965590</td>\n",
              "      <td>981530</td>\n",
              "      <td>938876</td>\n",
              "      <td>904458</td>\n",
              "      <td>906587</td>\n",
              "      <td>82939</td>\n",
              "      <td>Uinta County</td>\n",
              "      <td>WY</td>\n",
              "      <td>H1</td>\n",
              "    </tr>\n",
              "    <tr>\n",
              "      <th>52075</th>\n",
              "      <td>56045</td>\n",
              "      <td>Weston, WY</td>\n",
              "      <td>276760</td>\n",
              "      <td>269065</td>\n",
              "      <td>279162</td>\n",
              "      <td>288681</td>\n",
              "      <td>316109</td>\n",
              "      <td>358362</td>\n",
              "      <td>445903</td>\n",
              "      <td>491756</td>\n",
              "      <td>333331</td>\n",
              "      <td>312104</td>\n",
              "      <td>290199</td>\n",
              "      <td>322557</td>\n",
              "      <td>290116</td>\n",
              "      <td>314979</td>\n",
              "      <td>387259</td>\n",
              "      <td>321664</td>\n",
              "      <td>306033</td>\n",
              "      <td>315885</td>\n",
              "      <td>82723</td>\n",
              "      <td>Weston County</td>\n",
              "      <td>WY</td>\n",
              "      <td>H1</td>\n",
              "    </tr>\n",
              "    <tr>\n",
              "      <th>52076</th>\n",
              "      <td>56045</td>\n",
              "      <td>Weston, WY</td>\n",
              "      <td>276760</td>\n",
              "      <td>269065</td>\n",
              "      <td>279162</td>\n",
              "      <td>288681</td>\n",
              "      <td>316109</td>\n",
              "      <td>358362</td>\n",
              "      <td>445903</td>\n",
              "      <td>491756</td>\n",
              "      <td>333331</td>\n",
              "      <td>312104</td>\n",
              "      <td>290199</td>\n",
              "      <td>322557</td>\n",
              "      <td>290116</td>\n",
              "      <td>314979</td>\n",
              "      <td>387259</td>\n",
              "      <td>321664</td>\n",
              "      <td>306033</td>\n",
              "      <td>315885</td>\n",
              "      <td>82715</td>\n",
              "      <td>Weston County</td>\n",
              "      <td>WY</td>\n",
              "      <td>H1</td>\n",
              "    </tr>\n",
              "  </tbody>\n",
              "</table>\n",
              "<p>28865 rows × 24 columns</p>\n",
              "</div>"
            ],
            "text/plain": [
              "       GeoFIPS      GeoName     2001  ...      COUNTYNAME STATE CLASSFP\n",
              "0         1001  Autauga, AL   954588  ...  Autauga County    AL      H1\n",
              "8         1001  Autauga, AL   954588  ...  Autauga County    AL      H1\n",
              "9         1001  Autauga, AL   954588  ...  Autauga County    AL      H1\n",
              "13        1003  Baldwin, AL  3929753  ...  Baldwin County    AL      H1\n",
              "14        1003  Baldwin, AL  3929753  ...  Baldwin County    AL      H1\n",
              "...        ...          ...      ...  ...             ...   ...     ...\n",
              "52067    56041    Uinta, WY   985399  ...    Uinta County    WY      H1\n",
              "52068    56041    Uinta, WY   985399  ...    Uinta County    WY      H1\n",
              "52069    56041    Uinta, WY   985399  ...    Uinta County    WY      H1\n",
              "52075    56045   Weston, WY   276760  ...   Weston County    WY      H1\n",
              "52076    56045   Weston, WY   276760  ...   Weston County    WY      H1\n",
              "\n",
              "[28865 rows x 24 columns]"
            ]
          },
          "metadata": {
            "tags": []
          },
          "execution_count": 432
        }
      ]
    },
    {
      "cell_type": "code",
      "metadata": {
        "id": "BYoQ64Smf-tW",
        "colab_type": "code",
        "colab": {}
      },
      "source": [
        "#Use melt to add date columns to rows\n",
        "GDPtrans = GDPmerged.melt(id_vars=[\"GeoFIPS\", \"GeoName\", \"ZIP\",\"COUNTYNAME\",\"STATE\",\"CLASSFP\"],var_name=\"Date\") \n",
        "#GDPtrans = GDPmerged.melt(id_vars=[\"GeoFIPS\", \"GeoName\", \"ZIP\",\"COUNTYNAME\",\"STATE\"],var_name=\"Date\") \n",
        "        #value_name=\"Value\")\n",
        "#GDPtrans.drop_duplicates(subset =\"ZIP\", keep = False, inplace = True)         "
      ],
      "execution_count": 0,
      "outputs": []
    },
    {
      "cell_type": "code",
      "metadata": {
        "id": "FerJGQVsfwJx",
        "colab_type": "code",
        "colab": {}
      },
      "source": [
        "# Create dataset grouped by zip and year for target zip codes\n",
        "\n",
        "GDP_Prophet = GDPtrans[GDPtrans['ZIP'].isin(['08401','08232','60475','08241','19013','90403','91108','90020','11216','90027'])]\n",
        "GDP_Prophet = GDP_Prophet.drop(['CLASSFP'], axis=1)\n",
        "GDP_Prophet = GDP_Prophet.groupby([\"Date\",\"ZIP\",\"value\"],as_index=False).mean()\n",
        "GDP_Prophet.index = pd.to_datetime(GDP_Prophet['Date'], format='%Y')\n",
        "GDP_Prophet['Date'] = GDP_Prophet.index\n",
        "GDP_Prophet = GDP_Prophet.rename(index=str, columns={\"Date\":\"ds\",\"value\":\"y\"})\n",
        "GDP_Prophet = GDP_Prophet[[\"ds\",\"y\",\"ZIP\"]]\n",
        "GDP_Prophet = GDP_Prophet.replace('NA', np.nan, inplace=False)\n",
        "GDP_Prophet = GDP_Prophet.replace('(NA)', np.nan, inplace=False)\n",
        "GDP_Prophet = GDP_Prophet.dropna()\n",
        "GDP_Prophet = GDP_Prophet.reset_index(drop=True)\n",
        "GDP_Prophet = GDP_Prophet.rename(columns={'ds':'ds', 'y':'y'})"
      ],
      "execution_count": 0,
      "outputs": []
    },
    {
      "cell_type": "markdown",
      "metadata": {
        "id": "RR5nkYhK-5sC",
        "colab_type": "text"
      },
      "source": [
        "# 1.4 - USA Data - Obtain and Scrub"
      ]
    },
    {
      "cell_type": "code",
      "metadata": {
        "id": "lEx05PzP-4iL",
        "colab_type": "code",
        "colab": {}
      },
      "source": [
        "#Copy Zillow data to new DF\n",
        "zillowUSA = zillow"
      ],
      "execution_count": 0,
      "outputs": []
    },
    {
      "cell_type": "code",
      "metadata": {
        "id": "pfAXYBQwB1WJ",
        "colab_type": "code",
        "outputId": "0d9be68f-f79e-49d8-9d25-2e8df895094a",
        "colab": {
          "base_uri": "https://localhost:8080/",
          "height": 34
        }
      },
      "source": [
        "#Drop 1996 column\n",
        "zillowUSA = zillowUSA.drop(['RegionType','1996-01-31','1996-02-29','1996-03-31','1996-04-30','1996-05-31','1996-06-30','1996-07-31','1996-08-31','1996-09-30','1996-10-31','1996-11-30','1996-12-31'], axis=1)\n",
        "zillowUSA.shape"
      ],
      "execution_count": 0,
      "outputs": [
        {
          "output_type": "execute_result",
          "data": {
            "text/plain": [
              "(30464, 287)"
            ]
          },
          "metadata": {
            "tags": []
          },
          "execution_count": 436
        }
      ]
    },
    {
      "cell_type": "code",
      "metadata": {
        "id": "StnQnal8CRVg",
        "colab_type": "code",
        "outputId": "d25316b0-9482-4e33-f3b0-d8185e951a5b",
        "colab": {
          "base_uri": "https://localhost:8080/",
          "height": 34
        }
      },
      "source": [
        "# Drop blanks - if time permits, research adding values\n",
        "zillowUSA = zillowUSA.dropna()\n",
        "#zillowUSA.columns = zillowUSA.columns.str.replace(' ', '')\n",
        "zillowUSA.shape\n",
        "#zillowUSA"
      ],
      "execution_count": 0,
      "outputs": [
        {
          "output_type": "execute_result",
          "data": {
            "text/plain": [
              "(12652, 287)"
            ]
          },
          "metadata": {
            "tags": []
          },
          "execution_count": 437
        }
      ]
    },
    {
      "cell_type": "code",
      "metadata": {
        "id": "74OUC9W0CU5a",
        "colab_type": "code",
        "colab": {}
      },
      "source": [
        "#Use melt to add date columns to rows\n",
        "zillowUSAtrans = zillowUSA.melt(id_vars=[\"RegionID\", \"StateName\",\"SizeRank\",\"RegionName\",\"State\",\"City\",\"Metro\",\"CountyName\"], \n",
        "        var_name=\"Date\", \n",
        "        value_name=\"Value\")"
      ],
      "execution_count": 0,
      "outputs": []
    },
    {
      "cell_type": "code",
      "metadata": {
        "id": "zMHI3UzgDMWn",
        "colab_type": "code",
        "colab": {}
      },
      "source": [
        "zillowUSAtrans['Date'] = pd.to_datetime(zillowUSAtrans['Date'], format='%Y-%m-%d')\n",
        "#zillowARtrans['YM'] = pd.to_datetime(zillowARtrans.Date).dt.to_period('m')"
      ],
      "execution_count": 0,
      "outputs": []
    },
    {
      "cell_type": "code",
      "metadata": {
        "id": "YryR1teCDcuc",
        "colab_type": "code",
        "colab": {}
      },
      "source": [
        "# The RegionName is the zip code but is missing zeros, change to 5 digits\n",
        "zillowUSAtrans['RegionName'] = zillowUSAtrans['RegionName'].astype('str').apply(lambda x: x.zfill(5))\n",
        "zillowUSAtrans.index = zillowUSAtrans['Date']"
      ],
      "execution_count": 0,
      "outputs": []
    },
    {
      "cell_type": "code",
      "metadata": {
        "id": "y1Xq4NVvFJPQ",
        "colab_type": "code",
        "outputId": "5901c9e4-6904-4aaf-9801-1e8e06d3b9b0",
        "colab": {
          "base_uri": "https://localhost:8080/",
          "height": 228
        }
      },
      "source": [
        "#zillowUSAtrans.RegionName.value_counts()\n",
        "zillowUSAtrans['RegionName'].value_counts()"
      ],
      "execution_count": 0,
      "outputs": [
        {
          "output_type": "execute_result",
          "data": {
            "text/plain": [
              "07920    279\n",
              "13734    279\n",
              "34772    279\n",
              "80449    279\n",
              "34951    279\n",
              "        ... \n",
              "60183    279\n",
              "37135    279\n",
              "21117    279\n",
              "24501    279\n",
              "21782    279\n",
              "Name: RegionName, Length: 12652, dtype: int64"
            ]
          },
          "metadata": {
            "tags": []
          },
          "execution_count": 441
        }
      ]
    },
    {
      "cell_type": "code",
      "metadata": {
        "id": "tYcZ_bTLFaoB",
        "colab_type": "code",
        "outputId": "9fdd84fc-2a9e-454d-83ed-fe746ccd6332",
        "colab": {
          "base_uri": "https://localhost:8080/",
          "height": 210
        }
      },
      "source": [
        "zillowUSAtrans.dtypes"
      ],
      "execution_count": 0,
      "outputs": [
        {
          "output_type": "execute_result",
          "data": {
            "text/plain": [
              "RegionID               int64\n",
              "StateName             object\n",
              "SizeRank               int64\n",
              "RegionName            object\n",
              "State                 object\n",
              "City                  object\n",
              "Metro                 object\n",
              "CountyName            object\n",
              "Date          datetime64[ns]\n",
              "Value                float64\n",
              "dtype: object"
            ]
          },
          "metadata": {
            "tags": []
          },
          "execution_count": 442
        }
      ]
    },
    {
      "cell_type": "code",
      "metadata": {
        "id": "6OH-PMVoFwyz",
        "colab_type": "code",
        "colab": {}
      },
      "source": [
        "# Add month and year columns\n",
        "zillowUSAtrans['Year'] = zillowUSAtrans.index.year\n",
        "zillowUSAtrans['Month'] = zillowUSAtrans.index.month"
      ],
      "execution_count": 0,
      "outputs": []
    },
    {
      "cell_type": "code",
      "metadata": {
        "id": "_TG-h6IrGBsm",
        "colab_type": "code",
        "colab": {}
      },
      "source": [
        "#Data for 1997 to 2017\n",
        "zillowUSA97to17 = zillowUSAtrans.loc['1997-01-31':'2017-12-31']"
      ],
      "execution_count": 0,
      "outputs": []
    },
    {
      "cell_type": "code",
      "metadata": {
        "id": "dy3zjeBPIesL",
        "colab_type": "code",
        "colab": {}
      },
      "source": [
        "#Create a dataset that includes 2018 for the RMSE calculations\n",
        "zillowUSA97to17['LogValue'] = np.log(zillowUSA97to17['Value'])\n",
        "zillowUSA97to18 = zillowUSAtrans.loc['1997-01-31':'2018-12-31'].reset_index(drop=True)\n",
        "zillowUSA97to18 = zillowUSA97to18.groupby([\"State\",\"Year\"],as_index=False).mean()"
      ],
      "execution_count": 0,
      "outputs": []
    },
    {
      "cell_type": "code",
      "metadata": {
        "id": "UVmXGOyGGLUB",
        "colab_type": "code",
        "colab": {}
      },
      "source": [
        "# Convert dataframe to series format for 1997-2017\n",
        "#zillowUSAseries = pd.Series(zillowUSA97to17['Value'], index=zillowUSA97to17.index)"
      ],
      "execution_count": 0,
      "outputs": []
    },
    {
      "cell_type": "code",
      "metadata": {
        "id": "f2-82SjLMoxt",
        "colab_type": "code",
        "colab": {}
      },
      "source": [
        "#Replaced by Prophet data below - validate before deleting this section\n",
        "# import datetime\n",
        "# zillowUSAyears = zillowUSA97to17\n",
        "# zillowUSAyears = zillowUSAyears.reset_index(drop=True)\n",
        "# zillowUSAyears = zillowUSA97to17.drop(['Month','LogValue','SizeRank','RegionID'], axis=1)\n",
        "# zillowUSAyears = zillowUSAyears.groupby([\"RegionName\",\"Year\"],as_index=False).mean()\n",
        "# zillowUSAyears.index = pd.to_datetime(zillowUSAyears['Year'], format='%Y')\n",
        "# zillowUSAyears['Date'] = zillowUSAyears.index\n",
        "# zillowUSAyears = (zillowUSAyears[['Value','RegionName','Date']])\n",
        "# zillowUSAyears"
      ],
      "execution_count": 0,
      "outputs": []
    },
    {
      "cell_type": "code",
      "metadata": {
        "id": "LtTtonM6061g",
        "colab_type": "code",
        "colab": {}
      },
      "source": [
        "# Create zillowUSAyears Grouped by State/Year\n",
        "USAyearsByState = zillowUSA97to17\n",
        "USAyearsByState = USAyearsByState.reset_index(drop=True)\n",
        "USAyearsByState = USAyearsByState.drop(['Month','LogValue','SizeRank','RegionID'], axis=1)\n",
        "USAyearsByState = USAyearsByState.groupby([\"State\",\"Year\"],as_index=False).mean()\n",
        "USAyearsByState.index = pd.to_datetime(USAyearsByState['Year'], format='%Y') #changed from Y\n",
        "#USAyearsByState.index = pd.to_datetime(USAyearsByState['Date'], format='%YS') #changed from Y\n",
        "USAyearsByState['Date'] = USAyearsByState.index\n",
        "#USAyearsByState['Year'] = USAyearsByState.index\n",
        "#USAyearsByState = USAyearsByState.rename(index=str, columns={\"Date\":\"ds\",\"Value\":\"y\"})\n",
        "#USAyearsByState = USAyearsByState[[\"ds\",\"y\",\"State\"]]"
      ],
      "execution_count": 0,
      "outputs": []
    },
    {
      "cell_type": "markdown",
      "metadata": {
        "id": "L9fWhwlINVN5",
        "colab_type": "text"
      },
      "source": [
        "# 1.5 - Prophet Data- Obtain and Scrub"
      ]
    },
    {
      "cell_type": "code",
      "metadata": {
        "id": "E7orX12USjCp",
        "colab_type": "code",
        "colab": {}
      },
      "source": [
        "# Data for this section should be transferred from the Prophet notebook"
      ],
      "execution_count": 0,
      "outputs": []
    },
    {
      "cell_type": "code",
      "metadata": {
        "id": "DLht_3M-eRMX",
        "colab_type": "code",
        "colab": {}
      },
      "source": [
        "# Copied from Prophet notebook to test next section - update later\n",
        "# Create dataset grouped by state and year\n",
        "zillowUSAyears = zillowUSA97to17\n",
        "#zillowUSAyears = zillowUSA97to17.loc[zillowUSA97to17['State']==\"WI\"]\n",
        "zillowUSAyears = zillowUSAyears.reset_index(drop=True)\n",
        "zillowUSAyears = zillowUSAyears.drop(['Month','LogValue','SizeRank','RegionID'], axis=1)\n",
        "zillowUSAyears = zillowUSAyears.groupby([\"State\",\"Year\"],as_index=False).mean()\n",
        "zillowUSAyears.index = pd.to_datetime(zillowUSAyears['Year'], format='%Y')\n",
        "zillowUSAyears['Date'] = zillowUSAyears.index\n",
        "zillowUSAyears = zillowUSAyears.rename(index=str, columns={\"Date\":\"ds\",\"Value\":\"y\"})\n",
        "zillowUSAyears = zillowUSAyears[[\"ds\",\"y\",\"State\"]]"
      ],
      "execution_count": 0,
      "outputs": []
    },
    {
      "cell_type": "code",
      "metadata": {
        "id": "L0WXIG8XkBzR",
        "colab_type": "code",
        "colab": {}
      },
      "source": [
        "# Create dataset grouped by zip and year\n",
        "zillowZipYears   = zillowUSA97to17\n",
        "#zillowZipYears = zillowUSA97to17.loc[zillowUSA97to17['State']==\"WI\"]\n",
        "zillowZipYears = zillowZipYears.reset_index(drop=True)\n",
        "zillowZipYears = zillowZipYears.drop(['Month','LogValue','SizeRank','RegionID'], axis=1)\n",
        "zillowZipYears = zillowZipYears.groupby([\"RegionName\",\"State\",\"Year\"],as_index=False).mean()\n",
        "zillowZipYears.index = pd.to_datetime(zillowZipYears['Year'], format='%Y')\n",
        "zillowZipYears['Date'] = zillowZipYears.index\n",
        "zillowZipYears = zillowZipYears.rename(index=str, columns={\"Date\":\"ds\",\"Value\":\"y\"})\n",
        "zillowZipYears = zillowZipYears[[\"ds\",\"y\",\"RegionName\"]]"
      ],
      "execution_count": 0,
      "outputs": []
    },
    {
      "cell_type": "code",
      "metadata": {
        "id": "SOg5hugRYiX-",
        "colab_type": "code",
        "colab": {}
      },
      "source": [
        "# # Stopped here on 5/5/20 - need to determine date format for quarters\n",
        "# # Create dataset grouped by zip and quarter\n",
        "# zillowZipQuarter   = zillowUSA97to17\n",
        "# #Insert if month 1 -3 Q1, 4-6 Q2, 7-9 Q3, 10-12 Q4\n",
        "# zillowZipQuarter['quarter'] = zillowZipQuarter['Date'].dt.quarter\n",
        "# #ZilowZipYears = zillowUSA97to17.loc[zillowUSA97to17['State']==\"WI\"]\n",
        "# zillowZipQuarter = zillowZipQuarter.reset_index(drop=True)\n",
        "# zillowZipQuarter = zillowZipQuarter.drop(['Month','LogValue','SizeRank','RegionID'], axis=1)\n",
        "# zillowZipQuarter = zillowZipQuarter.groupby([\"RegionName\",\"State\",\"quarter\"],as_index=False).mean()\n",
        "# zillowZipQuarter.index = pd.to_datetime(zillowZipQuarter['Year'], format='%Y#')\n",
        "# #zillowZipQuarter['Date'] = zillowZipQuarter.index\n",
        "# zillowZipQuarter = zillowZipQuarter.rename(index=str, columns={\"Date\":\"ds\",\"Value\":\"y\"})\n",
        "# zillowZipQuarter = zillowZipQuarter[[\"ds\",\"y\",\"RegionName\"]]\n",
        "# zillowZipQuarter"
      ],
      "execution_count": 0,
      "outputs": []
    },
    {
      "cell_type": "code",
      "metadata": {
        "id": "sleqF-MMkVIb",
        "colab_type": "code",
        "outputId": "5d6021e3-b0cc-4a6a-fd38-ede57868d1a9",
        "colab": {
          "base_uri": "https://localhost:8080/",
          "height": 402
        }
      },
      "source": [
        "# Added to primary project on 4/30/20\n",
        "#Data for 1997 to 2017 and 1997 to 2019\n",
        "zillowUSA97to18zip = zillowUSAtrans.loc['1997-01-31':'2018-12-31'].reset_index(drop=True)\n",
        "zillowUSA97to18zip = zillowUSA97to18zip.groupby([\"RegionName\",\"State\",\"Year\"],as_index=False).mean()\n",
        "zillowUSA97to18zip"
      ],
      "execution_count": 0,
      "outputs": [
        {
          "output_type": "execute_result",
          "data": {
            "text/html": [
              "<div>\n",
              "<style scoped>\n",
              "    .dataframe tbody tr th:only-of-type {\n",
              "        vertical-align: middle;\n",
              "    }\n",
              "\n",
              "    .dataframe tbody tr th {\n",
              "        vertical-align: top;\n",
              "    }\n",
              "\n",
              "    .dataframe thead th {\n",
              "        text-align: right;\n",
              "    }\n",
              "</style>\n",
              "<table border=\"1\" class=\"dataframe\">\n",
              "  <thead>\n",
              "    <tr style=\"text-align: right;\">\n",
              "      <th></th>\n",
              "      <th>RegionName</th>\n",
              "      <th>State</th>\n",
              "      <th>Year</th>\n",
              "      <th>RegionID</th>\n",
              "      <th>SizeRank</th>\n",
              "      <th>Value</th>\n",
              "      <th>Month</th>\n",
              "    </tr>\n",
              "  </thead>\n",
              "  <tbody>\n",
              "    <tr>\n",
              "      <th>0</th>\n",
              "      <td>00715</td>\n",
              "      <td>TX</td>\n",
              "      <td>1997</td>\n",
              "      <td>58059.0</td>\n",
              "      <td>16188.0</td>\n",
              "      <td>52463.833333</td>\n",
              "      <td>6.5</td>\n",
              "    </tr>\n",
              "    <tr>\n",
              "      <th>1</th>\n",
              "      <td>00715</td>\n",
              "      <td>TX</td>\n",
              "      <td>1998</td>\n",
              "      <td>58059.0</td>\n",
              "      <td>16188.0</td>\n",
              "      <td>55858.666667</td>\n",
              "      <td>6.5</td>\n",
              "    </tr>\n",
              "    <tr>\n",
              "      <th>2</th>\n",
              "      <td>00715</td>\n",
              "      <td>TX</td>\n",
              "      <td>1999</td>\n",
              "      <td>58059.0</td>\n",
              "      <td>16188.0</td>\n",
              "      <td>57254.166667</td>\n",
              "      <td>6.5</td>\n",
              "    </tr>\n",
              "    <tr>\n",
              "      <th>3</th>\n",
              "      <td>00715</td>\n",
              "      <td>TX</td>\n",
              "      <td>2000</td>\n",
              "      <td>58059.0</td>\n",
              "      <td>16188.0</td>\n",
              "      <td>54936.083333</td>\n",
              "      <td>6.5</td>\n",
              "    </tr>\n",
              "    <tr>\n",
              "      <th>4</th>\n",
              "      <td>00715</td>\n",
              "      <td>TX</td>\n",
              "      <td>2001</td>\n",
              "      <td>58059.0</td>\n",
              "      <td>16188.0</td>\n",
              "      <td>57876.750000</td>\n",
              "      <td>6.5</td>\n",
              "    </tr>\n",
              "    <tr>\n",
              "      <th>...</th>\n",
              "      <td>...</td>\n",
              "      <td>...</td>\n",
              "      <td>...</td>\n",
              "      <td>...</td>\n",
              "      <td>...</td>\n",
              "      <td>...</td>\n",
              "      <td>...</td>\n",
              "    </tr>\n",
              "    <tr>\n",
              "      <th>278339</th>\n",
              "      <td>99587</td>\n",
              "      <td>AK</td>\n",
              "      <td>2014</td>\n",
              "      <td>100282.0</td>\n",
              "      <td>16455.0</td>\n",
              "      <td>372045.750000</td>\n",
              "      <td>6.5</td>\n",
              "    </tr>\n",
              "    <tr>\n",
              "      <th>278340</th>\n",
              "      <td>99587</td>\n",
              "      <td>AK</td>\n",
              "      <td>2015</td>\n",
              "      <td>100282.0</td>\n",
              "      <td>16455.0</td>\n",
              "      <td>380086.500000</td>\n",
              "      <td>6.5</td>\n",
              "    </tr>\n",
              "    <tr>\n",
              "      <th>278341</th>\n",
              "      <td>99587</td>\n",
              "      <td>AK</td>\n",
              "      <td>2016</td>\n",
              "      <td>100282.0</td>\n",
              "      <td>16455.0</td>\n",
              "      <td>392790.333333</td>\n",
              "      <td>6.5</td>\n",
              "    </tr>\n",
              "    <tr>\n",
              "      <th>278342</th>\n",
              "      <td>99587</td>\n",
              "      <td>AK</td>\n",
              "      <td>2017</td>\n",
              "      <td>100282.0</td>\n",
              "      <td>16455.0</td>\n",
              "      <td>395935.750000</td>\n",
              "      <td>6.5</td>\n",
              "    </tr>\n",
              "    <tr>\n",
              "      <th>278343</th>\n",
              "      <td>99587</td>\n",
              "      <td>AK</td>\n",
              "      <td>2018</td>\n",
              "      <td>100282.0</td>\n",
              "      <td>16455.0</td>\n",
              "      <td>397820.833333</td>\n",
              "      <td>6.5</td>\n",
              "    </tr>\n",
              "  </tbody>\n",
              "</table>\n",
              "<p>278344 rows × 7 columns</p>\n",
              "</div>"
            ],
            "text/plain": [
              "       RegionName State  Year  RegionID  SizeRank          Value  Month\n",
              "0           00715    TX  1997   58059.0   16188.0   52463.833333    6.5\n",
              "1           00715    TX  1998   58059.0   16188.0   55858.666667    6.5\n",
              "2           00715    TX  1999   58059.0   16188.0   57254.166667    6.5\n",
              "3           00715    TX  2000   58059.0   16188.0   54936.083333    6.5\n",
              "4           00715    TX  2001   58059.0   16188.0   57876.750000    6.5\n",
              "...           ...   ...   ...       ...       ...            ...    ...\n",
              "278339      99587    AK  2014  100282.0   16455.0  372045.750000    6.5\n",
              "278340      99587    AK  2015  100282.0   16455.0  380086.500000    6.5\n",
              "278341      99587    AK  2016  100282.0   16455.0  392790.333333    6.5\n",
              "278342      99587    AK  2017  100282.0   16455.0  395935.750000    6.5\n",
              "278343      99587    AK  2018  100282.0   16455.0  397820.833333    6.5\n",
              "\n",
              "[278344 rows x 7 columns]"
            ]
          },
          "metadata": {
            "tags": []
          },
          "execution_count": 487
        }
      ]
    },
    {
      "cell_type": "code",
      "metadata": {
        "id": "hXjVC-g5iFUA",
        "colab_type": "code",
        "outputId": "70065e69-ba0a-452a-8455-bccee409cdff",
        "colab": {
          "base_uri": "https://localhost:8080/",
          "height": 599
        }
      },
      "source": [
        "zillowUSA97to17"
      ],
      "execution_count": 0,
      "outputs": [
        {
          "output_type": "execute_result",
          "data": {
            "text/html": [
              "<div>\n",
              "<style scoped>\n",
              "    .dataframe tbody tr th:only-of-type {\n",
              "        vertical-align: middle;\n",
              "    }\n",
              "\n",
              "    .dataframe tbody tr th {\n",
              "        vertical-align: top;\n",
              "    }\n",
              "\n",
              "    .dataframe thead th {\n",
              "        text-align: right;\n",
              "    }\n",
              "</style>\n",
              "<table border=\"1\" class=\"dataframe\">\n",
              "  <thead>\n",
              "    <tr style=\"text-align: right;\">\n",
              "      <th></th>\n",
              "      <th>RegionID</th>\n",
              "      <th>StateName</th>\n",
              "      <th>SizeRank</th>\n",
              "      <th>RegionName</th>\n",
              "      <th>State</th>\n",
              "      <th>City</th>\n",
              "      <th>Metro</th>\n",
              "      <th>CountyName</th>\n",
              "      <th>Date</th>\n",
              "      <th>Value</th>\n",
              "      <th>Year</th>\n",
              "      <th>Month</th>\n",
              "      <th>LogValue</th>\n",
              "    </tr>\n",
              "    <tr>\n",
              "      <th>Date</th>\n",
              "      <th></th>\n",
              "      <th></th>\n",
              "      <th></th>\n",
              "      <th></th>\n",
              "      <th></th>\n",
              "      <th></th>\n",
              "      <th></th>\n",
              "      <th></th>\n",
              "      <th></th>\n",
              "      <th></th>\n",
              "      <th></th>\n",
              "      <th></th>\n",
              "      <th></th>\n",
              "    </tr>\n",
              "  </thead>\n",
              "  <tbody>\n",
              "    <tr>\n",
              "      <th>1997-01-31</th>\n",
              "      <td>84654</td>\n",
              "      <td>IL</td>\n",
              "      <td>1</td>\n",
              "      <td>60657</td>\n",
              "      <td>IL</td>\n",
              "      <td>Chicago</td>\n",
              "      <td>Chicago-Naperville-Elgin</td>\n",
              "      <td>Cook County</td>\n",
              "      <td>1997-01-31</td>\n",
              "      <td>376806.0</td>\n",
              "      <td>1997</td>\n",
              "      <td>1</td>\n",
              "      <td>12.839486</td>\n",
              "    </tr>\n",
              "    <tr>\n",
              "      <th>1997-01-31</th>\n",
              "      <td>91982</td>\n",
              "      <td>TX</td>\n",
              "      <td>3</td>\n",
              "      <td>77494</td>\n",
              "      <td>TX</td>\n",
              "      <td>Katy</td>\n",
              "      <td>Houston-The Woodlands-Sugar Land</td>\n",
              "      <td>Harris County</td>\n",
              "      <td>1997-01-31</td>\n",
              "      <td>201687.0</td>\n",
              "      <td>1997</td>\n",
              "      <td>1</td>\n",
              "      <td>12.214472</td>\n",
              "    </tr>\n",
              "    <tr>\n",
              "      <th>1997-01-31</th>\n",
              "      <td>84616</td>\n",
              "      <td>IL</td>\n",
              "      <td>4</td>\n",
              "      <td>60614</td>\n",
              "      <td>IL</td>\n",
              "      <td>Chicago</td>\n",
              "      <td>Chicago-Naperville-Elgin</td>\n",
              "      <td>Cook County</td>\n",
              "      <td>1997-01-31</td>\n",
              "      <td>566446.0</td>\n",
              "      <td>1997</td>\n",
              "      <td>1</td>\n",
              "      <td>13.247137</td>\n",
              "    </tr>\n",
              "    <tr>\n",
              "      <th>1997-01-31</th>\n",
              "      <td>91940</td>\n",
              "      <td>TX</td>\n",
              "      <td>5</td>\n",
              "      <td>77449</td>\n",
              "      <td>TX</td>\n",
              "      <td>Katy</td>\n",
              "      <td>Houston-The Woodlands-Sugar Land</td>\n",
              "      <td>Harris County</td>\n",
              "      <td>1997-01-31</td>\n",
              "      <td>97543.0</td>\n",
              "      <td>1997</td>\n",
              "      <td>1</td>\n",
              "      <td>11.488049</td>\n",
              "    </tr>\n",
              "    <tr>\n",
              "      <th>1997-01-31</th>\n",
              "      <td>91733</td>\n",
              "      <td>TX</td>\n",
              "      <td>7</td>\n",
              "      <td>77084</td>\n",
              "      <td>TX</td>\n",
              "      <td>Houston</td>\n",
              "      <td>Houston-The Woodlands-Sugar Land</td>\n",
              "      <td>Harris County</td>\n",
              "      <td>1997-01-31</td>\n",
              "      <td>96895.0</td>\n",
              "      <td>1997</td>\n",
              "      <td>1</td>\n",
              "      <td>11.481383</td>\n",
              "    </tr>\n",
              "    <tr>\n",
              "      <th>...</th>\n",
              "      <td>...</td>\n",
              "      <td>...</td>\n",
              "      <td>...</td>\n",
              "      <td>...</td>\n",
              "      <td>...</td>\n",
              "      <td>...</td>\n",
              "      <td>...</td>\n",
              "      <td>...</td>\n",
              "      <td>...</td>\n",
              "      <td>...</td>\n",
              "      <td>...</td>\n",
              "      <td>...</td>\n",
              "      <td>...</td>\n",
              "    </tr>\n",
              "    <tr>\n",
              "      <th>2017-12-31</th>\n",
              "      <td>59316</td>\n",
              "      <td>ME</td>\n",
              "      <td>34430</td>\n",
              "      <td>04033</td>\n",
              "      <td>ME</td>\n",
              "      <td>Cumberland</td>\n",
              "      <td>Portland-South Portland</td>\n",
              "      <td>Cumberland County</td>\n",
              "      <td>2017-12-31</td>\n",
              "      <td>760112.0</td>\n",
              "      <td>2017</td>\n",
              "      <td>12</td>\n",
              "      <td>13.541221</td>\n",
              "    </tr>\n",
              "    <tr>\n",
              "      <th>2017-12-31</th>\n",
              "      <td>82132</td>\n",
              "      <td>MN</td>\n",
              "      <td>34430</td>\n",
              "      <td>55144</td>\n",
              "      <td>MN</td>\n",
              "      <td>North Saint Paul</td>\n",
              "      <td>Minneapolis-St. Paul-Bloomington</td>\n",
              "      <td>Ramsey County</td>\n",
              "      <td>2017-12-31</td>\n",
              "      <td>210118.0</td>\n",
              "      <td>2017</td>\n",
              "      <td>12</td>\n",
              "      <td>12.255425</td>\n",
              "    </tr>\n",
              "    <tr>\n",
              "      <th>2017-12-31</th>\n",
              "      <td>66881</td>\n",
              "      <td>MD</td>\n",
              "      <td>34430</td>\n",
              "      <td>21405</td>\n",
              "      <td>MD</td>\n",
              "      <td>Annapolis</td>\n",
              "      <td>Baltimore-Columbia-Towson</td>\n",
              "      <td>Anne Arundel County</td>\n",
              "      <td>2017-12-31</td>\n",
              "      <td>952546.0</td>\n",
              "      <td>2017</td>\n",
              "      <td>12</td>\n",
              "      <td>13.766894</td>\n",
              "    </tr>\n",
              "    <tr>\n",
              "      <th>2017-12-31</th>\n",
              "      <td>95186</td>\n",
              "      <td>AZ</td>\n",
              "      <td>34430</td>\n",
              "      <td>86343</td>\n",
              "      <td>AZ</td>\n",
              "      <td>Crown King</td>\n",
              "      <td>Prescott</td>\n",
              "      <td>Yavapai County</td>\n",
              "      <td>2017-12-31</td>\n",
              "      <td>164217.0</td>\n",
              "      <td>2017</td>\n",
              "      <td>12</td>\n",
              "      <td>12.008944</td>\n",
              "    </tr>\n",
              "    <tr>\n",
              "      <th>2017-12-31</th>\n",
              "      <td>95851</td>\n",
              "      <td>NV</td>\n",
              "      <td>34430</td>\n",
              "      <td>89155</td>\n",
              "      <td>NV</td>\n",
              "      <td>Las Vegas</td>\n",
              "      <td>Las Vegas-Henderson-Paradise</td>\n",
              "      <td>Clark County</td>\n",
              "      <td>2017-12-31</td>\n",
              "      <td>346224.0</td>\n",
              "      <td>2017</td>\n",
              "      <td>12</td>\n",
              "      <td>12.754841</td>\n",
              "    </tr>\n",
              "  </tbody>\n",
              "</table>\n",
              "<p>3188304 rows × 13 columns</p>\n",
              "</div>"
            ],
            "text/plain": [
              "            RegionID StateName  SizeRank  ...  Year Month   LogValue\n",
              "Date                                      ...                       \n",
              "1997-01-31     84654        IL         1  ...  1997     1  12.839486\n",
              "1997-01-31     91982        TX         3  ...  1997     1  12.214472\n",
              "1997-01-31     84616        IL         4  ...  1997     1  13.247137\n",
              "1997-01-31     91940        TX         5  ...  1997     1  11.488049\n",
              "1997-01-31     91733        TX         7  ...  1997     1  11.481383\n",
              "...              ...       ...       ...  ...   ...   ...        ...\n",
              "2017-12-31     59316        ME     34430  ...  2017    12  13.541221\n",
              "2017-12-31     82132        MN     34430  ...  2017    12  12.255425\n",
              "2017-12-31     66881        MD     34430  ...  2017    12  13.766894\n",
              "2017-12-31     95186        AZ     34430  ...  2017    12  12.008944\n",
              "2017-12-31     95851        NV     34430  ...  2017    12  12.754841\n",
              "\n",
              "[3188304 rows x 13 columns]"
            ]
          },
          "metadata": {
            "tags": []
          },
          "execution_count": 454
        }
      ]
    },
    {
      "cell_type": "markdown",
      "metadata": {
        "id": "IpDFryuqMPK6",
        "colab_type": "text"
      },
      "source": [
        "# 1.6 - Prophet Output- Obtain and Scrub"
      ]
    },
    {
      "cell_type": "markdown",
      "metadata": {
        "id": "Z7e_9g4eczXD",
        "colab_type": "text"
      },
      "source": [
        "## 1.6.1 - Zillow Data"
      ]
    },
    {
      "cell_type": "code",
      "metadata": {
        "id": "ATJDdcfenOBq",
        "colab_type": "code",
        "colab": {}
      },
      "source": [
        "#Import the CSV from Prophet Model (Forecast by Year for All Zip Codes)\n",
        "Forecast17_21 = []\n",
        "with open('/content/drive/My Drive/Colab Notebooks/IST718/Lab2/ProphetOutZip.csv', newline='') as csvfile:\n",
        "  reader = csv.reader(csvfile, delimiter='a')#, quotechar='a')\n",
        "  for row in reader:\n",
        "    #print(', '.join(row))\n",
        "    Forecast17_21.append(row)\n",
        "Forecast17_21 = pd.DataFrame(Forecast17_21)\n",
        "Forecast17_21 = Forecast17_21.rename(columns = {0:'year_idx',1:'zip',2:'state',3:'year_idx2',4:'yhat',5:'rmse',6:'year_float'}) \n",
        "Forecast17_21 = Forecast17_21.iloc[1:]\n",
        "Forecast17_21 = Forecast17_21.drop(['state','year_idx2'], axis=1)"
      ],
      "execution_count": 0,
      "outputs": []
    },
    {
      "cell_type": "code",
      "metadata": {
        "id": "nvt1VDq3_LQ9",
        "colab_type": "code",
        "outputId": "a075851b-c524-4e71-b040-0d0978c86d75",
        "colab": {
          "base_uri": "https://localhost:8080/",
          "height": 402
        }
      },
      "source": [
        "Forecast17_21"
      ],
      "execution_count": 0,
      "outputs": [
        {
          "output_type": "execute_result",
          "data": {
            "text/html": [
              "<div>\n",
              "<style scoped>\n",
              "    .dataframe tbody tr th:only-of-type {\n",
              "        vertical-align: middle;\n",
              "    }\n",
              "\n",
              "    .dataframe tbody tr th {\n",
              "        vertical-align: top;\n",
              "    }\n",
              "\n",
              "    .dataframe thead th {\n",
              "        text-align: right;\n",
              "    }\n",
              "</style>\n",
              "<table border=\"1\" class=\"dataframe\">\n",
              "  <thead>\n",
              "    <tr style=\"text-align: right;\">\n",
              "      <th></th>\n",
              "      <th>year_idx</th>\n",
              "      <th>zip</th>\n",
              "      <th>yhat</th>\n",
              "      <th>rmse</th>\n",
              "      <th>year_float</th>\n",
              "    </tr>\n",
              "  </thead>\n",
              "  <tbody>\n",
              "    <tr>\n",
              "      <th>1</th>\n",
              "      <td>17</td>\n",
              "      <td>00715</td>\n",
              "      <td>125875.99502570015</td>\n",
              "      <td>6488.145580543039</td>\n",
              "      <td>17.0</td>\n",
              "    </tr>\n",
              "    <tr>\n",
              "      <th>2</th>\n",
              "      <td>18</td>\n",
              "      <td>00715</td>\n",
              "      <td>129523.98578665836</td>\n",
              "      <td>6488.145580543039</td>\n",
              "      <td>18.0</td>\n",
              "    </tr>\n",
              "    <tr>\n",
              "      <th>3</th>\n",
              "      <td>19</td>\n",
              "      <td>00715</td>\n",
              "      <td>133697.59439069795</td>\n",
              "      <td>6488.145580543039</td>\n",
              "      <td>19.0</td>\n",
              "    </tr>\n",
              "    <tr>\n",
              "      <th>4</th>\n",
              "      <td>20</td>\n",
              "      <td>00715</td>\n",
              "      <td>141444.93301088054</td>\n",
              "      <td>6488.145580543039</td>\n",
              "      <td>20.0</td>\n",
              "    </tr>\n",
              "    <tr>\n",
              "      <th>5</th>\n",
              "      <td>21</td>\n",
              "      <td>00715</td>\n",
              "      <td>144568.6117480877</td>\n",
              "      <td>6488.145580543039</td>\n",
              "      <td>21.0</td>\n",
              "    </tr>\n",
              "    <tr>\n",
              "      <th>...</th>\n",
              "      <td>...</td>\n",
              "      <td>...</td>\n",
              "      <td>...</td>\n",
              "      <td>...</td>\n",
              "      <td>...</td>\n",
              "    </tr>\n",
              "    <tr>\n",
              "      <th>63256</th>\n",
              "      <td>17</td>\n",
              "      <td>99587</td>\n",
              "      <td>378825.99387550156</td>\n",
              "      <td>11093.052444545723</td>\n",
              "      <td>17.0</td>\n",
              "    </tr>\n",
              "    <tr>\n",
              "      <th>63257</th>\n",
              "      <td>18</td>\n",
              "      <td>99587</td>\n",
              "      <td>383703.6822780363</td>\n",
              "      <td>11093.052444545723</td>\n",
              "      <td>18.0</td>\n",
              "    </tr>\n",
              "    <tr>\n",
              "      <th>63258</th>\n",
              "      <td>19</td>\n",
              "      <td>99587</td>\n",
              "      <td>388242.9443871775</td>\n",
              "      <td>11093.052444545723</td>\n",
              "      <td>19.0</td>\n",
              "    </tr>\n",
              "    <tr>\n",
              "      <th>63259</th>\n",
              "      <td>20</td>\n",
              "      <td>99587</td>\n",
              "      <td>391364.30156065756</td>\n",
              "      <td>11093.052444545723</td>\n",
              "      <td>20.0</td>\n",
              "    </tr>\n",
              "    <tr>\n",
              "      <th>63260</th>\n",
              "      <td>21</td>\n",
              "      <td>99587</td>\n",
              "      <td>396580.67932846094</td>\n",
              "      <td>11093.052444545723</td>\n",
              "      <td>21.0</td>\n",
              "    </tr>\n",
              "  </tbody>\n",
              "</table>\n",
              "<p>63260 rows × 5 columns</p>\n",
              "</div>"
            ],
            "text/plain": [
              "      year_idx    zip                yhat                rmse year_float\n",
              "1           17  00715  125875.99502570015   6488.145580543039       17.0\n",
              "2           18  00715  129523.98578665836   6488.145580543039       18.0\n",
              "3           19  00715  133697.59439069795   6488.145580543039       19.0\n",
              "4           20  00715  141444.93301088054   6488.145580543039       20.0\n",
              "5           21  00715   144568.6117480877   6488.145580543039       21.0\n",
              "...        ...    ...                 ...                 ...        ...\n",
              "63256       17  99587  378825.99387550156  11093.052444545723       17.0\n",
              "63257       18  99587   383703.6822780363  11093.052444545723       18.0\n",
              "63258       19  99587   388242.9443871775  11093.052444545723       19.0\n",
              "63259       20  99587  391364.30156065756  11093.052444545723       20.0\n",
              "63260       21  99587  396580.67932846094  11093.052444545723       21.0\n",
              "\n",
              "[63260 rows x 5 columns]"
            ]
          },
          "metadata": {
            "tags": []
          },
          "execution_count": 456
        }
      ]
    },
    {
      "cell_type": "code",
      "metadata": {
        "id": "Gu5rNSBuQ_DD",
        "colab_type": "code",
        "colab": {}
      },
      "source": [
        "# StateAnnualProphet = pd.read_csv('/content/drive/My Drive/Colab Notebooks/IST718/Lab2/ProphetOut.csv')\n",
        "# StateAnnualProphet = StateAnnualProphet.dropna()\n",
        "# StateAnnualProphet"
      ],
      "execution_count": 0,
      "outputs": []
    },
    {
      "cell_type": "code",
      "metadata": {
        "id": "NTDyvQBmV-Yx",
        "colab_type": "code",
        "colab": {}
      },
      "source": [
        "Forecast_18 = Forecast17_21.loc[Forecast17_21[\"year_idx\"]=='18']\n",
        "#Forecast_18=Forecast_18.rename(columns = {'state':'State'})\n",
        "#StateAnnualProphet18 = pd.Index.delete(StateAnnualProphet18)\n",
        "Forecast_18 = Forecast_18.reset_index()"
      ],
      "execution_count": 0,
      "outputs": []
    },
    {
      "cell_type": "code",
      "metadata": {
        "id": "aSDkKRiPSXyq",
        "colab_type": "code",
        "colab": {}
      },
      "source": [
        "zillowZipYears97 = zillowZipYears.loc[zillowZipYears[\"ds\"]=='1997-01-01']"
      ],
      "execution_count": 0,
      "outputs": []
    },
    {
      "cell_type": "code",
      "metadata": {
        "id": "FKtcSsSAUKYJ",
        "colab_type": "code",
        "colab": {}
      },
      "source": [
        "zillowZipYears17 = zillowZipYears.loc[zillowZipYears[\"ds\"]=='2017-01-01']"
      ],
      "execution_count": 0,
      "outputs": []
    },
    {
      "cell_type": "code",
      "metadata": {
        "id": "xVFRbpB1W2m2",
        "colab_type": "code",
        "colab": {}
      },
      "source": [
        "df97_17 = pd.merge(zillowZipYears97, zillowZipYears17, on=\"RegionName\")"
      ],
      "execution_count": 0,
      "outputs": []
    },
    {
      "cell_type": "code",
      "metadata": {
        "id": "v1Yrd-bbcrAZ",
        "colab_type": "code",
        "colab": {}
      },
      "source": [
        "# Merge two Dataframes on index of both the dataframes\n",
        "mergedDF = pd.DataFrame(df97_17.merge(Forecast_18, left_index=True, right_index=True))\n",
        "mergedDF = mergedDF.drop(['index'], axis=1)\n",
        "mergedDF[\"yhat\"] = mergedDF.yhat.astype(float)\n",
        "mergedDF[\"rmse\"] = mergedDF.rmse.astype(float)"
      ],
      "execution_count": 0,
      "outputs": []
    },
    {
      "cell_type": "code",
      "metadata": {
        "id": "I4py8YITe5xw",
        "colab_type": "code",
        "outputId": "df027df2-856c-49ab-c405-92e77cd2a104",
        "colab": {
          "base_uri": "https://localhost:8080/",
          "height": 756
        }
      },
      "source": [
        "# Calculate growth for top 5 zips from 97-18 and 17-18\n",
        "USAgrowth = mergedDF\n",
        "USAgrowth['Growth97_18'] = (mergedDF.yhat - mergedDF.y_x)/mergedDF.y_x\n",
        "#USAgrowthLog = log((mergedDF.yhat - mergedDF.y_x)/mergedDF.y_x)\n",
        "USAgrowth['Growth17_18'] = (mergedDF.yhat - mergedDF.y_y)/mergedDF.y_y\n",
        "#USA17to18growthLog = log((mergedDF.yhat - mergedDF.y_y)/mergedDF.y_y\n",
        "#USAgrowth = pd.DataFrame(USA97to17growth, USA17to18growth)\n",
        "\n",
        "print(USAgrowth.nlargest(10, ['Growth97_18']))\n",
        "Z_Top5_97_18 = (USAgrowth.nlargest(5, ['Growth97_18']))\n",
        "print(USAgrowth.nlargest(10, ['Growth17_18']))\n",
        "Z_Top5_17_18 = (USAgrowth.nlargest(5, ['Growth17_18']))\n",
        "\n",
        "print(USAgrowth.nsmallest(5, ['Growth97_18']))\n",
        "print(USAgrowth.nsmallest(5, ['Growth17_18']))"
      ],
      "execution_count": 0,
      "outputs": [
        {
          "output_type": "stream",
          "text": [
            "            ds_x            y_x RegionName  ... year_float  Growth97_18 Growth17_18\n",
            "11007 1997-01-01  177260.583333      90403  ...       18.0     5.569455   -0.378333\n",
            "11080 1997-01-01  154016.666667      91108  ...       18.0     5.322848   -0.396657\n",
            "10923 1997-01-01  299114.416667      90020  ...       18.0     5.175988   -0.319967\n",
            "1708  1997-01-01  171526.500000      11216  ...       18.0     5.103610   -0.261397\n",
            "10930 1997-01-01  135017.833333      90027  ...       18.0     4.833254   -0.334052\n",
            "10950 1997-01-01  189568.083333      90048  ...       18.0     4.783220   -0.317404\n",
            "1713  1997-01-01  236189.416667      11222  ...       18.0     4.774779   -0.195808\n",
            "10910 1997-01-01  128048.333333      90004  ...       18.0     4.748343   -0.322476\n",
            "10988 1997-01-01  222121.500000      90266  ...       18.0     4.404521   -0.367019\n",
            "10940 1997-01-01  146759.416667      90038  ...       18.0     4.386398   -0.221824\n",
            "\n",
            "[10 rows x 12 columns]\n",
            "           ds_x            y_x RegionName  ... year_float  Growth97_18 Growth17_18\n",
            "1396 1997-01-01   81552.583333      08401  ...       18.0     0.978974    0.751238\n",
            "1367 1997-01-01   90392.583333      08232  ...       18.0     0.502951    0.610288\n",
            "8584 1997-01-01  113244.083333      60475  ...       18.0    -0.083921    0.426177\n",
            "1370 1997-01-01  174008.833333      08241  ...       18.0     0.729373    0.386065\n",
            "3331 1997-01-01   67364.833333      19013  ...       18.0    -0.136834    0.357357\n",
            "1360 1997-01-01  123084.583333      08215  ...       18.0     0.739135    0.353136\n",
            "8818 1997-01-01   89495.250000      62537  ...       18.0     0.177828    0.336910\n",
            "873  1997-01-01   93549.000000      06120  ...       18.0     0.850042    0.331201\n",
            "8753 1997-01-01  113477.583333      61770  ...       18.0    -0.059887    0.330360\n",
            "1191 1997-01-01  109480.333333      07734  ...       18.0     1.096231    0.328752\n",
            "\n",
            "[10 rows x 12 columns]\n",
            "           ds_x            y_x RegionName  ... year_float  Growth97_18 Growth17_18\n",
            "6023 1997-01-01   98577.500000      36105  ...       18.0    -0.696329    0.164619\n",
            "6915 1997-01-01  256924.750000      44049  ...       18.0    -0.607511    0.211272\n",
            "6384 1997-01-01  110245.750000      38112  ...       18.0    -0.501563   -0.003921\n",
            "6813 1997-01-01  145617.250000      43457  ...       18.0    -0.450592   -0.087715\n",
            "3043 1997-01-01   49116.166667      16503  ...       18.0    -0.407751    0.042184\n",
            "\n",
            "[5 rows x 12 columns]\n",
            "            ds_x            y_x RegionName  ... year_float  Growth97_18 Growth17_18\n",
            "9713  1997-01-01   57533.666667      75208  ...       18.0     1.447911   -0.427685\n",
            "9725  1997-01-01   37470.166667      75226  ...       18.0     2.016520   -0.404897\n",
            "11080 1997-01-01  154016.666667      91108  ...       18.0     5.322848   -0.396657\n",
            "11781 1997-01-01  145830.583333      94610  ...       18.0     4.195149   -0.393910\n",
            "9722  1997-01-01   58607.583333      75223  ...       18.0     0.670798   -0.384965\n",
            "\n",
            "[5 rows x 12 columns]\n"
          ],
          "name": "stdout"
        }
      ]
    },
    {
      "cell_type": "code",
      "metadata": {
        "id": "GW-OWhB88Gsj",
        "colab_type": "code",
        "outputId": "177b64f5-0af1-4535-903f-e4c962fc9d21",
        "colab": {
          "base_uri": "https://localhost:8080/",
          "height": 316
        }
      },
      "source": [
        "USAgrowth['rmse_yhat']=(USAgrowth.rmse)/(USAgrowth.y_y)\n",
        "rmseMin = print(min(USAgrowth.rmse_yhat))\n",
        "print(USAgrowth.nsmallest(5, ['rmse_yhat']))\n",
        "print(USAgrowth.nlargest(5, ['rmse_yhat']))"
      ],
      "execution_count": 0,
      "outputs": [
        {
          "output_type": "stream",
          "text": [
            "0.0005080398691599509\n",
            "           ds_x            y_x RegionName  ... Growth97_18  Growth17_18 rmse_yhat\n",
            "9538 1997-01-01   48069.583333      74403  ...    0.608006    -0.044479  0.000508\n",
            "7989 1997-01-01   79985.583333      51401  ...    0.660520    -0.098688  0.002508\n",
            "7937 1997-01-01   70067.666667      50208  ...    0.487379    -0.040754  0.003643\n",
            "9401 1997-01-01   75486.166667      73160  ...    0.760970    -0.039894  0.003951\n",
            "9398 1997-01-01  130436.083333      73150  ...    0.708784    -0.050796  0.004114\n",
            "\n",
            "[5 rows x 13 columns]\n",
            "           ds_x            y_x RegionName  ... Growth97_18  Growth17_18 rmse_yhat\n",
            "1396 1997-01-01   81552.583333      08401  ...    0.978974     0.751238  0.622893\n",
            "1367 1997-01-01   90392.583333      08232  ...    0.502951     0.610288  0.531317\n",
            "8584 1997-01-01  113244.083333      60475  ...   -0.083921     0.426177  0.444116\n",
            "1070 1997-01-01  224839.250000      07114  ...    0.308165     0.249457  0.439139\n",
            "1430 1997-01-01   53852.333333      08611  ...    0.180871     0.223159  0.394355\n",
            "\n",
            "[5 rows x 13 columns]\n"
          ],
          "name": "stdout"
        }
      ]
    },
    {
      "cell_type": "code",
      "metadata": {
        "id": "lMpGJesZz8Vb",
        "colab_type": "code",
        "outputId": "5248348d-748f-4c78-a219-17013fb2fec7",
        "colab": {
          "base_uri": "https://localhost:8080/",
          "height": 175
        }
      },
      "source": [
        "print(USAgrowth.query('RegionName in [\"90403\",\"90027\",\"90020\",\"08401\",\"08232\",\"08241\"]'))"
      ],
      "execution_count": 0,
      "outputs": [
        {
          "output_type": "stream",
          "text": [
            "            ds_x            y_x RegionName  ... Growth97_18  Growth17_18 rmse_yhat\n",
            "1367  1997-01-01   90392.583333      08232  ...    0.502951     0.610288  0.531317\n",
            "1370  1997-01-01  174008.833333      08241  ...    0.729373     0.386065  0.260511\n",
            "1396  1997-01-01   81552.583333      08401  ...    0.978974     0.751238  0.622893\n",
            "10923 1997-01-01  299114.416667      90020  ...    5.175988    -0.319967  0.119416\n",
            "10930 1997-01-01  135017.833333      90027  ...    4.833254    -0.334052  0.123620\n",
            "11007 1997-01-01  177260.583333      90403  ...    5.569455    -0.378333  0.139013\n",
            "\n",
            "[6 rows x 13 columns]\n"
          ],
          "name": "stdout"
        }
      ]
    },
    {
      "cell_type": "code",
      "metadata": {
        "id": "RF749AR9x6__",
        "colab_type": "code",
        "outputId": "ee29faf7-fa3a-45f9-a6ed-e5104b8a2bba",
        "colab": {
          "base_uri": "https://localhost:8080/",
          "height": 590
        }
      },
      "source": [
        "USAgrowth"
      ],
      "execution_count": 0,
      "outputs": [
        {
          "output_type": "execute_result",
          "data": {
            "text/html": [
              "<div>\n",
              "<style scoped>\n",
              "    .dataframe tbody tr th:only-of-type {\n",
              "        vertical-align: middle;\n",
              "    }\n",
              "\n",
              "    .dataframe tbody tr th {\n",
              "        vertical-align: top;\n",
              "    }\n",
              "\n",
              "    .dataframe thead th {\n",
              "        text-align: right;\n",
              "    }\n",
              "</style>\n",
              "<table border=\"1\" class=\"dataframe\">\n",
              "  <thead>\n",
              "    <tr style=\"text-align: right;\">\n",
              "      <th></th>\n",
              "      <th>ds_x</th>\n",
              "      <th>y_x</th>\n",
              "      <th>RegionName</th>\n",
              "      <th>ds_y</th>\n",
              "      <th>y_y</th>\n",
              "      <th>year_idx</th>\n",
              "      <th>zip</th>\n",
              "      <th>yhat</th>\n",
              "      <th>rmse</th>\n",
              "      <th>year_float</th>\n",
              "      <th>Growth97_18</th>\n",
              "      <th>Growth17_18</th>\n",
              "      <th>rmse_yhat</th>\n",
              "    </tr>\n",
              "  </thead>\n",
              "  <tbody>\n",
              "    <tr>\n",
              "      <th>0</th>\n",
              "      <td>1997-01-01</td>\n",
              "      <td>52463.833333</td>\n",
              "      <td>00715</td>\n",
              "      <td>2017-01-01</td>\n",
              "      <td>135933.750000</td>\n",
              "      <td>18</td>\n",
              "      <td>00715</td>\n",
              "      <td>129523.985787</td>\n",
              "      <td>6488.145581</td>\n",
              "      <td>18.0</td>\n",
              "      <td>1.468824</td>\n",
              "      <td>-0.047154</td>\n",
              "      <td>0.047730</td>\n",
              "    </tr>\n",
              "    <tr>\n",
              "      <th>1</th>\n",
              "      <td>1997-01-01</td>\n",
              "      <td>120219.750000</td>\n",
              "      <td>01001</td>\n",
              "      <td>2017-01-01</td>\n",
              "      <td>218558.500000</td>\n",
              "      <td>18</td>\n",
              "      <td>01001</td>\n",
              "      <td>225379.429000</td>\n",
              "      <td>22868.286527</td>\n",
              "      <td>18.0</td>\n",
              "      <td>0.874729</td>\n",
              "      <td>0.031209</td>\n",
              "      <td>0.104632</td>\n",
              "    </tr>\n",
              "    <tr>\n",
              "      <th>2</th>\n",
              "      <td>1997-01-01</td>\n",
              "      <td>168708.333333</td>\n",
              "      <td>01002</td>\n",
              "      <td>2017-01-01</td>\n",
              "      <td>345908.583333</td>\n",
              "      <td>18</td>\n",
              "      <td>01002</td>\n",
              "      <td>366466.975075</td>\n",
              "      <td>37476.136847</td>\n",
              "      <td>18.0</td>\n",
              "      <td>1.172192</td>\n",
              "      <td>0.059433</td>\n",
              "      <td>0.108341</td>\n",
              "    </tr>\n",
              "    <tr>\n",
              "      <th>3</th>\n",
              "      <td>1997-01-01</td>\n",
              "      <td>111665.416667</td>\n",
              "      <td>01005</td>\n",
              "      <td>2017-01-01</td>\n",
              "      <td>217154.750000</td>\n",
              "      <td>18</td>\n",
              "      <td>01005</td>\n",
              "      <td>215462.532837</td>\n",
              "      <td>32221.734300</td>\n",
              "      <td>18.0</td>\n",
              "      <td>0.929537</td>\n",
              "      <td>-0.007793</td>\n",
              "      <td>0.148381</td>\n",
              "    </tr>\n",
              "    <tr>\n",
              "      <th>4</th>\n",
              "      <td>1997-01-01</td>\n",
              "      <td>146727.000000</td>\n",
              "      <td>01007</td>\n",
              "      <td>2017-01-01</td>\n",
              "      <td>277221.833333</td>\n",
              "      <td>18</td>\n",
              "      <td>01007</td>\n",
              "      <td>290973.333710</td>\n",
              "      <td>29996.005986</td>\n",
              "      <td>18.0</td>\n",
              "      <td>0.983093</td>\n",
              "      <td>0.049605</td>\n",
              "      <td>0.108202</td>\n",
              "    </tr>\n",
              "    <tr>\n",
              "      <th>...</th>\n",
              "      <td>...</td>\n",
              "      <td>...</td>\n",
              "      <td>...</td>\n",
              "      <td>...</td>\n",
              "      <td>...</td>\n",
              "      <td>...</td>\n",
              "      <td>...</td>\n",
              "      <td>...</td>\n",
              "      <td>...</td>\n",
              "      <td>...</td>\n",
              "      <td>...</td>\n",
              "      <td>...</td>\n",
              "      <td>...</td>\n",
              "    </tr>\n",
              "    <tr>\n",
              "      <th>12647</th>\n",
              "      <td>1997-01-01</td>\n",
              "      <td>132757.916667</td>\n",
              "      <td>99517</td>\n",
              "      <td>2017-01-01</td>\n",
              "      <td>306611.583333</td>\n",
              "      <td>18</td>\n",
              "      <td>99517</td>\n",
              "      <td>302719.161920</td>\n",
              "      <td>5860.232002</td>\n",
              "      <td>18.0</td>\n",
              "      <td>1.280234</td>\n",
              "      <td>-0.012695</td>\n",
              "      <td>0.019113</td>\n",
              "    </tr>\n",
              "    <tr>\n",
              "      <th>12648</th>\n",
              "      <td>1997-01-01</td>\n",
              "      <td>115400.166667</td>\n",
              "      <td>99518</td>\n",
              "      <td>2017-01-01</td>\n",
              "      <td>282743.083333</td>\n",
              "      <td>18</td>\n",
              "      <td>99518</td>\n",
              "      <td>279700.773074</td>\n",
              "      <td>5982.675189</td>\n",
              "      <td>18.0</td>\n",
              "      <td>1.423747</td>\n",
              "      <td>-0.010760</td>\n",
              "      <td>0.021159</td>\n",
              "    </tr>\n",
              "    <tr>\n",
              "      <th>12649</th>\n",
              "      <td>1997-01-01</td>\n",
              "      <td>180884.416667</td>\n",
              "      <td>99567</td>\n",
              "      <td>2017-01-01</td>\n",
              "      <td>395991.666667</td>\n",
              "      <td>18</td>\n",
              "      <td>99567</td>\n",
              "      <td>388749.761534</td>\n",
              "      <td>8359.058294</td>\n",
              "      <td>18.0</td>\n",
              "      <td>1.149161</td>\n",
              "      <td>-0.018288</td>\n",
              "      <td>0.021109</td>\n",
              "    </tr>\n",
              "    <tr>\n",
              "      <th>12650</th>\n",
              "      <td>1997-01-01</td>\n",
              "      <td>187869.166667</td>\n",
              "      <td>99577</td>\n",
              "      <td>2017-01-01</td>\n",
              "      <td>374580.666667</td>\n",
              "      <td>18</td>\n",
              "      <td>99577</td>\n",
              "      <td>373849.664606</td>\n",
              "      <td>9498.275117</td>\n",
              "      <td>18.0</td>\n",
              "      <td>0.989947</td>\n",
              "      <td>-0.001952</td>\n",
              "      <td>0.025357</td>\n",
              "    </tr>\n",
              "    <tr>\n",
              "      <th>12651</th>\n",
              "      <td>1997-01-01</td>\n",
              "      <td>241251.833333</td>\n",
              "      <td>99587</td>\n",
              "      <td>2017-01-01</td>\n",
              "      <td>395935.750000</td>\n",
              "      <td>18</td>\n",
              "      <td>99587</td>\n",
              "      <td>383703.682278</td>\n",
              "      <td>11093.052445</td>\n",
              "      <td>18.0</td>\n",
              "      <td>0.590469</td>\n",
              "      <td>-0.030894</td>\n",
              "      <td>0.028017</td>\n",
              "    </tr>\n",
              "  </tbody>\n",
              "</table>\n",
              "<p>12652 rows × 13 columns</p>\n",
              "</div>"
            ],
            "text/plain": [
              "            ds_x            y_x RegionName  ... Growth97_18  Growth17_18 rmse_yhat\n",
              "0     1997-01-01   52463.833333      00715  ...    1.468824    -0.047154  0.047730\n",
              "1     1997-01-01  120219.750000      01001  ...    0.874729     0.031209  0.104632\n",
              "2     1997-01-01  168708.333333      01002  ...    1.172192     0.059433  0.108341\n",
              "3     1997-01-01  111665.416667      01005  ...    0.929537    -0.007793  0.148381\n",
              "4     1997-01-01  146727.000000      01007  ...    0.983093     0.049605  0.108202\n",
              "...          ...            ...        ...  ...         ...          ...       ...\n",
              "12647 1997-01-01  132757.916667      99517  ...    1.280234    -0.012695  0.019113\n",
              "12648 1997-01-01  115400.166667      99518  ...    1.423747    -0.010760  0.021159\n",
              "12649 1997-01-01  180884.416667      99567  ...    1.149161    -0.018288  0.021109\n",
              "12650 1997-01-01  187869.166667      99577  ...    0.989947    -0.001952  0.025357\n",
              "12651 1997-01-01  241251.833333      99587  ...    0.590469    -0.030894  0.028017\n",
              "\n",
              "[12652 rows x 13 columns]"
            ]
          },
          "metadata": {
            "tags": []
          },
          "execution_count": 466
        }
      ]
    },
    {
      "cell_type": "code",
      "metadata": {
        "id": "iyn0a_xV9IbU",
        "colab_type": "code",
        "outputId": "12955bb8-b27e-4573-e682-a193a35fabb8",
        "colab": {
          "base_uri": "https://localhost:8080/",
          "height": 263
        }
      },
      "source": [
        "USAgrowth.dtypes"
      ],
      "execution_count": 0,
      "outputs": [
        {
          "output_type": "execute_result",
          "data": {
            "text/plain": [
              "ds_x           datetime64[ns]\n",
              "y_x                   float64\n",
              "RegionName             object\n",
              "ds_y           datetime64[ns]\n",
              "y_y                   float64\n",
              "year_idx               object\n",
              "zip                    object\n",
              "yhat                  float64\n",
              "rmse                  float64\n",
              "year_float             object\n",
              "Growth97_18           float64\n",
              "Growth17_18           float64\n",
              "rmse_yhat             float64\n",
              "dtype: object"
            ]
          },
          "metadata": {
            "tags": []
          },
          "execution_count": 467
        }
      ]
    },
    {
      "cell_type": "markdown",
      "metadata": {
        "id": "AYMdv6q6cnFo",
        "colab_type": "text"
      },
      "source": [
        "## 1.6.2 - GDP Data"
      ]
    },
    {
      "cell_type": "code",
      "metadata": {
        "id": "l-QWPBrP6Vqi",
        "colab_type": "code",
        "colab": {}
      },
      "source": [
        "#Import the CSV from Prophet Model (GDP)\n",
        "ForecastGDP = []\n",
        "with open('/content/drive/My Drive/Colab Notebooks/IST718/Lab2/ProphetOutGDP.csv', newline='') as csvfile:\n",
        "  reader = csv.reader(csvfile, delimiter='a')#, quotechar='a')\n",
        "  for row in reader:\n",
        "    #print(', '.join(row))\n",
        "    ForecastGDP.append(row)\n",
        "ForecastGDP = pd.DataFrame(ForecastGDP)\n",
        "ForecastGDP = ForecastGDP.rename(columns = {0:'year_idx',1:'zip',2: 'blank',3:'yhat'}) \n",
        "ForecastGDP = ForecastGDP.iloc[1:]\n",
        "ForecastGDP = ForecastGDP.drop(['blank'], axis=1)"
      ],
      "execution_count": 0,
      "outputs": []
    },
    {
      "cell_type": "code",
      "metadata": {
        "id": "xhNJREqG73Cn",
        "colab_type": "code",
        "colab": {}
      },
      "source": [
        "Forecast_18_GDP = ForecastGDP.loc[ForecastGDP[\"year_idx\"]=='18']\n",
        "#Forecast_18=Forecast_18.rename(columns = {'state':'State'})\n",
        "#StateAnnualProphet18 = pd.Index.delete(StateAnnualProphet18)\n",
        "Forecast_18_GDP = Forecast_18_GDP.reset_index()\n",
        "#Forecast_18_GDP = Forecast_18_GDP.drop(['rmse'], axis=1)"
      ],
      "execution_count": 0,
      "outputs": []
    },
    {
      "cell_type": "code",
      "metadata": {
        "id": "ihEDqvPVg8rg",
        "colab_type": "code",
        "outputId": "2bc87ae4-bf67-4a2b-fb26-569039caa81c",
        "colab": {
          "base_uri": "https://localhost:8080/",
          "height": 402
        }
      },
      "source": [
        "GDP_Prophet"
      ],
      "execution_count": 0,
      "outputs": [
        {
          "output_type": "execute_result",
          "data": {
            "text/html": [
              "<div>\n",
              "<style scoped>\n",
              "    .dataframe tbody tr th:only-of-type {\n",
              "        vertical-align: middle;\n",
              "    }\n",
              "\n",
              "    .dataframe tbody tr th {\n",
              "        vertical-align: top;\n",
              "    }\n",
              "\n",
              "    .dataframe thead th {\n",
              "        text-align: right;\n",
              "    }\n",
              "</style>\n",
              "<table border=\"1\" class=\"dataframe\">\n",
              "  <thead>\n",
              "    <tr style=\"text-align: right;\">\n",
              "      <th></th>\n",
              "      <th>ds</th>\n",
              "      <th>y</th>\n",
              "      <th>ZIP</th>\n",
              "    </tr>\n",
              "  </thead>\n",
              "  <tbody>\n",
              "    <tr>\n",
              "      <th>0</th>\n",
              "      <td>2001-01-01</td>\n",
              "      <td>13560367</td>\n",
              "      <td>08232</td>\n",
              "    </tr>\n",
              "    <tr>\n",
              "      <th>1</th>\n",
              "      <td>2001-01-01</td>\n",
              "      <td>13560367</td>\n",
              "      <td>08241</td>\n",
              "    </tr>\n",
              "    <tr>\n",
              "      <th>2</th>\n",
              "      <td>2001-01-01</td>\n",
              "      <td>13560367</td>\n",
              "      <td>08401</td>\n",
              "    </tr>\n",
              "    <tr>\n",
              "      <th>3</th>\n",
              "      <td>2001-01-01</td>\n",
              "      <td>55204996</td>\n",
              "      <td>11216</td>\n",
              "    </tr>\n",
              "    <tr>\n",
              "      <th>4</th>\n",
              "      <td>2001-01-01</td>\n",
              "      <td>24173276</td>\n",
              "      <td>19013</td>\n",
              "    </tr>\n",
              "    <tr>\n",
              "      <th>...</th>\n",
              "      <td>...</td>\n",
              "      <td>...</td>\n",
              "      <td>...</td>\n",
              "    </tr>\n",
              "    <tr>\n",
              "      <th>157</th>\n",
              "      <td>2018-01-01</td>\n",
              "      <td>30635413</td>\n",
              "      <td>19013</td>\n",
              "    </tr>\n",
              "    <tr>\n",
              "      <th>158</th>\n",
              "      <td>2018-01-01</td>\n",
              "      <td>710893266</td>\n",
              "      <td>90020</td>\n",
              "    </tr>\n",
              "    <tr>\n",
              "      <th>159</th>\n",
              "      <td>2018-01-01</td>\n",
              "      <td>710893266</td>\n",
              "      <td>90027</td>\n",
              "    </tr>\n",
              "    <tr>\n",
              "      <th>160</th>\n",
              "      <td>2018-01-01</td>\n",
              "      <td>710893266</td>\n",
              "      <td>90403</td>\n",
              "    </tr>\n",
              "    <tr>\n",
              "      <th>161</th>\n",
              "      <td>2018-01-01</td>\n",
              "      <td>710893266</td>\n",
              "      <td>91108</td>\n",
              "    </tr>\n",
              "  </tbody>\n",
              "</table>\n",
              "<p>162 rows × 3 columns</p>\n",
              "</div>"
            ],
            "text/plain": [
              "            ds          y    ZIP\n",
              "0   2001-01-01   13560367  08232\n",
              "1   2001-01-01   13560367  08241\n",
              "2   2001-01-01   13560367  08401\n",
              "3   2001-01-01   55204996  11216\n",
              "4   2001-01-01   24173276  19013\n",
              "..         ...        ...    ...\n",
              "157 2018-01-01   30635413  19013\n",
              "158 2018-01-01  710893266  90020\n",
              "159 2018-01-01  710893266  90027\n",
              "160 2018-01-01  710893266  90403\n",
              "161 2018-01-01  710893266  91108\n",
              "\n",
              "[162 rows x 3 columns]"
            ]
          },
          "metadata": {
            "tags": []
          },
          "execution_count": 470
        }
      ]
    },
    {
      "cell_type": "code",
      "metadata": {
        "id": "Lfg3QWEC-pAO",
        "colab_type": "code",
        "colab": {}
      },
      "source": [
        "GDPtransTarget = GDPtrans[GDPtrans['ZIP'].isin(['08401','08232','60475','08241','19013','90403','91108','90020','11216','90027'])]\n",
        "Forecast_17_GDP = GDPtransTarget.loc[GDPtrans[\"Date\"]=='2017']\n",
        "#Forecast_17_GDP = Forecast_17_GDP.groupby(\"COUNTYNAME\")\n",
        "Forecast_17_GDP = Forecast_17_GDP.drop(['GeoFIPS','GeoName','CLASSFP','COUNTYNAME','STATE'], axis=1)\n",
        "Forecast_17_GDP = Forecast_17_GDP.reset_index()\n",
        "Forecast_17_GDP = Forecast_17_GDP.drop(['index'], axis=1)\n",
        "Forecast_17_GDP.head = pd.DataFrame(Forecast_17_GDP)\n",
        "#Forecast_17_GDP = Forecast_17_GDP.drop_duplicates(subset =\"ZIP\",keep = \"last\", inplace = True) "
      ],
      "execution_count": 0,
      "outputs": []
    },
    {
      "cell_type": "code",
      "metadata": {
        "id": "i3ZZp1P5_7CA",
        "colab_type": "code",
        "outputId": "e2486a07-78c6-47ad-bb2d-c3475f61444d",
        "colab": {
          "base_uri": "https://localhost:8080/",
          "height": 314
        }
      },
      "source": [
        "Forecast_01_GDP = GDPtransTarget.loc[GDPtransTarget['Date']=='2001']\n",
        "Forecast_01_GDP = Forecast_01_GDP.drop(['GeoFIPS','GeoName','CLASSFP','COUNTYNAME','STATE'], axis=1)\n",
        "Forecast_01_GDP = Forecast_01_GDP.reset_index()\n",
        "Forecast_01_GDP = Forecast_01_GDP.drop(['index'], axis=1)\n",
        "Forecast_01_GDP"
      ],
      "execution_count": 0,
      "outputs": [
        {
          "output_type": "execute_result",
          "data": {
            "text/html": [
              "<div>\n",
              "<style scoped>\n",
              "    .dataframe tbody tr th:only-of-type {\n",
              "        vertical-align: middle;\n",
              "    }\n",
              "\n",
              "    .dataframe tbody tr th {\n",
              "        vertical-align: top;\n",
              "    }\n",
              "\n",
              "    .dataframe thead th {\n",
              "        text-align: right;\n",
              "    }\n",
              "</style>\n",
              "<table border=\"1\" class=\"dataframe\">\n",
              "  <thead>\n",
              "    <tr style=\"text-align: right;\">\n",
              "      <th></th>\n",
              "      <th>ZIP</th>\n",
              "      <th>Date</th>\n",
              "      <th>value</th>\n",
              "    </tr>\n",
              "  </thead>\n",
              "  <tbody>\n",
              "    <tr>\n",
              "      <th>0</th>\n",
              "      <td>90403</td>\n",
              "      <td>2001</td>\n",
              "      <td>476894105</td>\n",
              "    </tr>\n",
              "    <tr>\n",
              "      <th>1</th>\n",
              "      <td>91108</td>\n",
              "      <td>2001</td>\n",
              "      <td>476894105</td>\n",
              "    </tr>\n",
              "    <tr>\n",
              "      <th>2</th>\n",
              "      <td>90027</td>\n",
              "      <td>2001</td>\n",
              "      <td>476894105</td>\n",
              "    </tr>\n",
              "    <tr>\n",
              "      <th>3</th>\n",
              "      <td>90020</td>\n",
              "      <td>2001</td>\n",
              "      <td>476894105</td>\n",
              "    </tr>\n",
              "    <tr>\n",
              "      <th>4</th>\n",
              "      <td>08232</td>\n",
              "      <td>2001</td>\n",
              "      <td>13560367</td>\n",
              "    </tr>\n",
              "    <tr>\n",
              "      <th>5</th>\n",
              "      <td>08401</td>\n",
              "      <td>2001</td>\n",
              "      <td>13560367</td>\n",
              "    </tr>\n",
              "    <tr>\n",
              "      <th>6</th>\n",
              "      <td>08241</td>\n",
              "      <td>2001</td>\n",
              "      <td>13560367</td>\n",
              "    </tr>\n",
              "    <tr>\n",
              "      <th>7</th>\n",
              "      <td>11216</td>\n",
              "      <td>2001</td>\n",
              "      <td>55204996</td>\n",
              "    </tr>\n",
              "    <tr>\n",
              "      <th>8</th>\n",
              "      <td>19013</td>\n",
              "      <td>2001</td>\n",
              "      <td>24173276</td>\n",
              "    </tr>\n",
              "  </tbody>\n",
              "</table>\n",
              "</div>"
            ],
            "text/plain": [
              "     ZIP  Date      value\n",
              "0  90403  2001  476894105\n",
              "1  91108  2001  476894105\n",
              "2  90027  2001  476894105\n",
              "3  90020  2001  476894105\n",
              "4  08232  2001   13560367\n",
              "5  08401  2001   13560367\n",
              "6  08241  2001   13560367\n",
              "7  11216  2001   55204996\n",
              "8  19013  2001   24173276"
            ]
          },
          "metadata": {
            "tags": []
          },
          "execution_count": 472
        }
      ]
    },
    {
      "cell_type": "code",
      "metadata": {
        "id": "13y7L1oiAJHl",
        "colab_type": "code",
        "outputId": "35cec146-c537-422c-f7d0-78fab118b0e6",
        "colab": {
          "base_uri": "https://localhost:8080/",
          "height": 314
        }
      },
      "source": [
        "#df01_17 = pd.merge(Forecast_01_GDP, Forecast_17_GDP, on=\"ZIP\",index=True)\n",
        "df01_17 = Forecast_01_GDP.merge(Forecast_17_GDP, left_index=True, right_index=True)\n",
        "\n",
        "#df01_17 = df01_17.rename(columns = {'ZIP_x':'zip'})\n",
        "df01_17"
      ],
      "execution_count": 0,
      "outputs": [
        {
          "output_type": "execute_result",
          "data": {
            "text/html": [
              "<div>\n",
              "<style scoped>\n",
              "    .dataframe tbody tr th:only-of-type {\n",
              "        vertical-align: middle;\n",
              "    }\n",
              "\n",
              "    .dataframe tbody tr th {\n",
              "        vertical-align: top;\n",
              "    }\n",
              "\n",
              "    .dataframe thead th {\n",
              "        text-align: right;\n",
              "    }\n",
              "</style>\n",
              "<table border=\"1\" class=\"dataframe\">\n",
              "  <thead>\n",
              "    <tr style=\"text-align: right;\">\n",
              "      <th></th>\n",
              "      <th>ZIP_x</th>\n",
              "      <th>Date_x</th>\n",
              "      <th>value_x</th>\n",
              "      <th>ZIP_y</th>\n",
              "      <th>Date_y</th>\n",
              "      <th>value_y</th>\n",
              "    </tr>\n",
              "  </thead>\n",
              "  <tbody>\n",
              "    <tr>\n",
              "      <th>0</th>\n",
              "      <td>90403</td>\n",
              "      <td>2001</td>\n",
              "      <td>476894105</td>\n",
              "      <td>90403</td>\n",
              "      <td>2017</td>\n",
              "      <td>688661590</td>\n",
              "    </tr>\n",
              "    <tr>\n",
              "      <th>1</th>\n",
              "      <td>91108</td>\n",
              "      <td>2001</td>\n",
              "      <td>476894105</td>\n",
              "      <td>91108</td>\n",
              "      <td>2017</td>\n",
              "      <td>688661590</td>\n",
              "    </tr>\n",
              "    <tr>\n",
              "      <th>2</th>\n",
              "      <td>90027</td>\n",
              "      <td>2001</td>\n",
              "      <td>476894105</td>\n",
              "      <td>90027</td>\n",
              "      <td>2017</td>\n",
              "      <td>688661590</td>\n",
              "    </tr>\n",
              "    <tr>\n",
              "      <th>3</th>\n",
              "      <td>90020</td>\n",
              "      <td>2001</td>\n",
              "      <td>476894105</td>\n",
              "      <td>90020</td>\n",
              "      <td>2017</td>\n",
              "      <td>688661590</td>\n",
              "    </tr>\n",
              "    <tr>\n",
              "      <th>4</th>\n",
              "      <td>08232</td>\n",
              "      <td>2001</td>\n",
              "      <td>13560367</td>\n",
              "      <td>08232</td>\n",
              "      <td>2017</td>\n",
              "      <td>12424734</td>\n",
              "    </tr>\n",
              "    <tr>\n",
              "      <th>5</th>\n",
              "      <td>08401</td>\n",
              "      <td>2001</td>\n",
              "      <td>13560367</td>\n",
              "      <td>08401</td>\n",
              "      <td>2017</td>\n",
              "      <td>12424734</td>\n",
              "    </tr>\n",
              "    <tr>\n",
              "      <th>6</th>\n",
              "      <td>08241</td>\n",
              "      <td>2001</td>\n",
              "      <td>13560367</td>\n",
              "      <td>08241</td>\n",
              "      <td>2017</td>\n",
              "      <td>12424734</td>\n",
              "    </tr>\n",
              "    <tr>\n",
              "      <th>7</th>\n",
              "      <td>11216</td>\n",
              "      <td>2001</td>\n",
              "      <td>55204996</td>\n",
              "      <td>11216</td>\n",
              "      <td>2017</td>\n",
              "      <td>85445141</td>\n",
              "    </tr>\n",
              "    <tr>\n",
              "      <th>8</th>\n",
              "      <td>19013</td>\n",
              "      <td>2001</td>\n",
              "      <td>24173276</td>\n",
              "      <td>19013</td>\n",
              "      <td>2017</td>\n",
              "      <td>29899618</td>\n",
              "    </tr>\n",
              "  </tbody>\n",
              "</table>\n",
              "</div>"
            ],
            "text/plain": [
              "   ZIP_x Date_x    value_x  ZIP_y Date_y    value_y\n",
              "0  90403   2001  476894105  90403   2017  688661590\n",
              "1  91108   2001  476894105  91108   2017  688661590\n",
              "2  90027   2001  476894105  90027   2017  688661590\n",
              "3  90020   2001  476894105  90020   2017  688661590\n",
              "4  08232   2001   13560367  08232   2017   12424734\n",
              "5  08401   2001   13560367  08401   2017   12424734\n",
              "6  08241   2001   13560367  08241   2017   12424734\n",
              "7  11216   2001   55204996  11216   2017   85445141\n",
              "8  19013   2001   24173276  19013   2017   29899618"
            ]
          },
          "metadata": {
            "tags": []
          },
          "execution_count": 473
        }
      ]
    },
    {
      "cell_type": "code",
      "metadata": {
        "id": "hRq4FIUcHsji",
        "colab_type": "code",
        "outputId": "d7b5158c-c597-4e84-b6fe-9075167b9f13",
        "colab": {
          "base_uri": "https://localhost:8080/",
          "height": 314
        }
      },
      "source": [
        "# Merge two Dataframes on index of both the dataframes\n",
        "mergedDFgdp = pd.DataFrame(df01_17.merge(Forecast_18_GDP,left_on='ZIP_x',right_on='zip'))\n",
        "#mergedDFgdp = mergedDF.drop(['index'], axis=1)\n",
        "mergedDFgdp[\"yhat\"] = mergedDF.yhat.astype(float)\n",
        "#mergedDFgdp[\"rmse\"] = mergedDF.rmse.astype(float)\n",
        "mergedDFgdp\n",
        "\n",
        "#crosswalk = crosswalk.rename(columns = {'STCOUNTYFP':'GeoFIPS'})"
      ],
      "execution_count": 0,
      "outputs": [
        {
          "output_type": "execute_result",
          "data": {
            "text/html": [
              "<div>\n",
              "<style scoped>\n",
              "    .dataframe tbody tr th:only-of-type {\n",
              "        vertical-align: middle;\n",
              "    }\n",
              "\n",
              "    .dataframe tbody tr th {\n",
              "        vertical-align: top;\n",
              "    }\n",
              "\n",
              "    .dataframe thead th {\n",
              "        text-align: right;\n",
              "    }\n",
              "</style>\n",
              "<table border=\"1\" class=\"dataframe\">\n",
              "  <thead>\n",
              "    <tr style=\"text-align: right;\">\n",
              "      <th></th>\n",
              "      <th>ZIP_x</th>\n",
              "      <th>Date_x</th>\n",
              "      <th>value_x</th>\n",
              "      <th>ZIP_y</th>\n",
              "      <th>Date_y</th>\n",
              "      <th>value_y</th>\n",
              "      <th>index</th>\n",
              "      <th>year_idx</th>\n",
              "      <th>zip</th>\n",
              "      <th>yhat</th>\n",
              "    </tr>\n",
              "  </thead>\n",
              "  <tbody>\n",
              "    <tr>\n",
              "      <th>0</th>\n",
              "      <td>90403</td>\n",
              "      <td>2001</td>\n",
              "      <td>476894105</td>\n",
              "      <td>90403</td>\n",
              "      <td>2017</td>\n",
              "      <td>688661590</td>\n",
              "      <td>36</td>\n",
              "      <td>18</td>\n",
              "      <td>90403</td>\n",
              "      <td>129523.985787</td>\n",
              "    </tr>\n",
              "    <tr>\n",
              "      <th>1</th>\n",
              "      <td>91108</td>\n",
              "      <td>2001</td>\n",
              "      <td>476894105</td>\n",
              "      <td>91108</td>\n",
              "      <td>2017</td>\n",
              "      <td>688661590</td>\n",
              "      <td>41</td>\n",
              "      <td>18</td>\n",
              "      <td>91108</td>\n",
              "      <td>225379.429000</td>\n",
              "    </tr>\n",
              "    <tr>\n",
              "      <th>2</th>\n",
              "      <td>90027</td>\n",
              "      <td>2001</td>\n",
              "      <td>476894105</td>\n",
              "      <td>90027</td>\n",
              "      <td>2017</td>\n",
              "      <td>688661590</td>\n",
              "      <td>31</td>\n",
              "      <td>18</td>\n",
              "      <td>90027</td>\n",
              "      <td>366466.975075</td>\n",
              "    </tr>\n",
              "    <tr>\n",
              "      <th>3</th>\n",
              "      <td>90020</td>\n",
              "      <td>2001</td>\n",
              "      <td>476894105</td>\n",
              "      <td>90020</td>\n",
              "      <td>2017</td>\n",
              "      <td>688661590</td>\n",
              "      <td>26</td>\n",
              "      <td>18</td>\n",
              "      <td>90020</td>\n",
              "      <td>215462.532837</td>\n",
              "    </tr>\n",
              "    <tr>\n",
              "      <th>4</th>\n",
              "      <td>08232</td>\n",
              "      <td>2001</td>\n",
              "      <td>13560367</td>\n",
              "      <td>08232</td>\n",
              "      <td>2017</td>\n",
              "      <td>12424734</td>\n",
              "      <td>1</td>\n",
              "      <td>18</td>\n",
              "      <td>08232</td>\n",
              "      <td>290973.333710</td>\n",
              "    </tr>\n",
              "    <tr>\n",
              "      <th>5</th>\n",
              "      <td>08401</td>\n",
              "      <td>2001</td>\n",
              "      <td>13560367</td>\n",
              "      <td>08401</td>\n",
              "      <td>2017</td>\n",
              "      <td>12424734</td>\n",
              "      <td>11</td>\n",
              "      <td>18</td>\n",
              "      <td>08401</td>\n",
              "      <td>226653.943943</td>\n",
              "    </tr>\n",
              "    <tr>\n",
              "      <th>6</th>\n",
              "      <td>08241</td>\n",
              "      <td>2001</td>\n",
              "      <td>13560367</td>\n",
              "      <td>08241</td>\n",
              "      <td>2017</td>\n",
              "      <td>12424734</td>\n",
              "      <td>6</td>\n",
              "      <td>18</td>\n",
              "      <td>08241</td>\n",
              "      <td>258880.185752</td>\n",
              "    </tr>\n",
              "    <tr>\n",
              "      <th>7</th>\n",
              "      <td>11216</td>\n",
              "      <td>2001</td>\n",
              "      <td>55204996</td>\n",
              "      <td>11216</td>\n",
              "      <td>2017</td>\n",
              "      <td>85445141</td>\n",
              "      <td>16</td>\n",
              "      <td>18</td>\n",
              "      <td>11216</td>\n",
              "      <td>232289.386552</td>\n",
              "    </tr>\n",
              "    <tr>\n",
              "      <th>8</th>\n",
              "      <td>19013</td>\n",
              "      <td>2001</td>\n",
              "      <td>24173276</td>\n",
              "      <td>19013</td>\n",
              "      <td>2017</td>\n",
              "      <td>29899618</td>\n",
              "      <td>21</td>\n",
              "      <td>18</td>\n",
              "      <td>19013</td>\n",
              "      <td>178578.592444</td>\n",
              "    </tr>\n",
              "  </tbody>\n",
              "</table>\n",
              "</div>"
            ],
            "text/plain": [
              "   ZIP_x Date_x    value_x  ZIP_y  ... index year_idx    zip           yhat\n",
              "0  90403   2001  476894105  90403  ...    36       18  90403  129523.985787\n",
              "1  91108   2001  476894105  91108  ...    41       18  91108  225379.429000\n",
              "2  90027   2001  476894105  90027  ...    31       18  90027  366466.975075\n",
              "3  90020   2001  476894105  90020  ...    26       18  90020  215462.532837\n",
              "4  08232   2001   13560367  08232  ...     1       18  08232  290973.333710\n",
              "5  08401   2001   13560367  08401  ...    11       18  08401  226653.943943\n",
              "6  08241   2001   13560367  08241  ...     6       18  08241  258880.185752\n",
              "7  11216   2001   55204996  11216  ...    16       18  11216  232289.386552\n",
              "8  19013   2001   24173276  19013  ...    21       18  19013  178578.592444\n",
              "\n",
              "[9 rows x 10 columns]"
            ]
          },
          "metadata": {
            "tags": []
          },
          "execution_count": 474
        }
      ]
    },
    {
      "cell_type": "code",
      "metadata": {
        "id": "rgHVrd3yjx3_",
        "colab_type": "code",
        "outputId": "c79ac025-3872-460b-ad98-41c3ac9fbaf0",
        "colab": {
          "base_uri": "https://localhost:8080/",
          "height": 439
        }
      },
      "source": [
        "# Calculate growth for top 5 zips from 01-18 and 17-18 based on GDP\n",
        "USAgrowthGDP = mergedDFgdp\n",
        "USAgrowthGDP['Growth01_18'] = (mergedDF.yhat - mergedDF.y_x)/mergedDF.y_x\n",
        "#USAgrowthLog = log((mergedDF.yhat - mergedDF.y_x)/mergedDF.y_x)\n",
        "USAgrowthGDP['Growth17_18'] = (mergedDF.yhat - mergedDF.y_y)/mergedDF.y_y\n",
        "#USA17to18growthLog = log((mergedDF.yhat - mergedDF.y_y)/mergedDF.y_y\n",
        "#USAgrowth = pd.DataFrame(USA97to17growth, USA17to18growth)\n",
        "USAgrowthGDP\n",
        "print(USAgrowthGDP.nlargest(10, ['Growth01_18']))\n",
        "print(USAgrowthGDP.nlargest(10, ['Growth17_18']))\n",
        "\n",
        "G_Top5_01_18 = (USAgrowthGDP.nlargest(5, ['Growth01_18']))\n",
        "G_Top5_17_18 = (USAgrowthGDP.nlargest(5, ['Growth17_18']))"
      ],
      "execution_count": 0,
      "outputs": [
        {
          "output_type": "stream",
          "text": [
            "   ZIP_x Date_x    value_x  ...           yhat Growth01_18 Growth17_18\n",
            "0  90403   2001  476894105  ...  129523.985787    1.468824   -0.047154\n",
            "2  90027   2001  476894105  ...  366466.975075    1.172192    0.059433\n",
            "6  08241   2001   13560367  ...  258880.185752    1.036525    0.036761\n",
            "4  08232   2001   13560367  ...  290973.333710    0.983093    0.049605\n",
            "3  90020   2001  476894105  ...  215462.532837    0.929537   -0.007793\n",
            "7  11216   2001   55204996  ...  232289.386552    0.925565    0.007200\n",
            "8  19013   2001   24173276  ...  178578.592444    0.880730    0.031715\n",
            "1  91108   2001  476894105  ...  225379.429000    0.874729    0.031209\n",
            "5  08401   2001   13560367  ...  226653.943943    0.459395    0.066519\n",
            "\n",
            "[9 rows x 12 columns]\n",
            "   ZIP_x Date_x    value_x  ...           yhat Growth01_18 Growth17_18\n",
            "5  08401   2001   13560367  ...  226653.943943    0.459395    0.066519\n",
            "2  90027   2001  476894105  ...  366466.975075    1.172192    0.059433\n",
            "4  08232   2001   13560367  ...  290973.333710    0.983093    0.049605\n",
            "6  08241   2001   13560367  ...  258880.185752    1.036525    0.036761\n",
            "8  19013   2001   24173276  ...  178578.592444    0.880730    0.031715\n",
            "1  91108   2001  476894105  ...  225379.429000    0.874729    0.031209\n",
            "7  11216   2001   55204996  ...  232289.386552    0.925565    0.007200\n",
            "3  90020   2001  476894105  ...  215462.532837    0.929537   -0.007793\n",
            "0  90403   2001  476894105  ...  129523.985787    1.468824   -0.047154\n",
            "\n",
            "[9 rows x 12 columns]\n"
          ],
          "name": "stdout"
        }
      ]
    },
    {
      "cell_type": "code",
      "metadata": {
        "id": "HmbKQTy-hm2y",
        "colab_type": "code",
        "colab": {}
      },
      "source": [
        "#from pandas_datareader import data\n",
        "#mergedDf['Growth97_18'] = (mergedDf['yhat'] - mergedDF['y_x']) / (mergedDF['y_x'])\n",
        "#(mergedDf['yhat'] - mergedDF['y_x']) / (mergedDF['y_x'])\n",
        "#mergedDf.apply(lambda row: (row.iloc[10]-row.iloc[0])/row.iloc[0]*100, axis=1)\n",
        "\n",
        "#path = '/content/drive/My Drive/Colab Notebooks/IST718/Lab2/'\n",
        "#mergedDF.to_excel(path+'mergedDF.xlsx',index=False)\n",
        "\n",
        "#newmergedDF.to_excel(r'/content/drive/My Drive/Colab Notebooks/IST718/Lab2/mergedDF.xlsx', index = False)\n"
      ],
      "execution_count": 0,
      "outputs": []
    },
    {
      "cell_type": "code",
      "metadata": {
        "id": "0muSFlnsXp0L",
        "colab_type": "code",
        "colab": {}
      },
      "source": [
        "#pip install \"pandas<0.25.0\""
      ],
      "execution_count": 0,
      "outputs": []
    },
    {
      "cell_type": "markdown",
      "metadata": {
        "id": "C9u1128rGg4m",
        "colab_type": "text"
      },
      "source": [
        "# 1.7 - USA Explore"
      ]
    },
    {
      "cell_type": "code",
      "metadata": {
        "id": "LwoVFAgyGjq9",
        "colab_type": "code",
        "colab": {}
      },
      "source": [
        "#Commenting out due to long run time\n",
        "# plt.clf()\n",
        "# sns.lineplot(x=\"Year\", y=\"Value\", data=zillowUSA97to17)\n",
        "# plt.xticks(rotation=15)\n",
        "# plt.title('seaborn-matplotlib example')\n",
        "# plt.show()"
      ],
      "execution_count": 0,
      "outputs": []
    },
    {
      "cell_type": "code",
      "metadata": {
        "id": "p1V4p7-6G1Nc",
        "colab_type": "code",
        "outputId": "9ce314c9-5128-4e47-d527-becad99f2d4a",
        "colab": {
          "base_uri": "https://localhost:8080/",
          "height": 318
        }
      },
      "source": [
        "#Plot of Log Values\n",
        "plt.hist(zillowUSA97to17['LogValue'], alpha=0.5)\n",
        "plt.xlabel('Number of Houses (log scale)')\n",
        "plt.ylabel('Value of Houses (log scale)')\n",
        "plt.title('United States Housing Prices 1997-2020')"
      ],
      "execution_count": 0,
      "outputs": [
        {
          "output_type": "execute_result",
          "data": {
            "text/plain": [
              "Text(0.5, 1.0, 'United States Housing Prices 1997-2020')"
            ]
          },
          "metadata": {
            "tags": []
          },
          "execution_count": 478
        },
        {
          "output_type": "display_data",
          "data": {
            "image/png": "[encoded data removed]",
            "text/plain": [
              "<Figure size 792x288 with 1 Axes>"
            ]
          },
          "metadata": {
            "tags": []
          }
        }
      ]
    },
    {
      "cell_type": "code",
      "metadata": {
        "id": "-w5WQNUBIOV2",
        "colab_type": "code",
        "outputId": "7650d829-8aa5-4470-9668-6c6059f037de",
        "colab": {
          "base_uri": "https://localhost:8080/",
          "height": 318
        }
      },
      "source": [
        "sns.kdeplot(zillowUSA97to17['LogValue'], shade=True)\n",
        "plt.xlabel('Number of Houses (log scale)')\n",
        "plt.ylabel('Value of Houses (log scale)')\n",
        "plt.title('United States Housing Prices 1997-2020')"
      ],
      "execution_count": 0,
      "outputs": [
        {
          "output_type": "execute_result",
          "data": {
            "text/plain": [
              "Text(0.5, 1.0, 'United States Housing Prices 1997-2020')"
            ]
          },
          "metadata": {
            "tags": []
          },
          "execution_count": 479
        },
        {
          "output_type": "display_data",
          "data": {
            "image/png": "[encoded data removed]",
            "text/plain": [
              "<Figure size 792x288 with 1 Axes>"
            ]
          },
          "metadata": {
            "tags": []
          }
        }
      ]
    },
    {
      "cell_type": "code",
      "metadata": {
        "id": "X0a6VAvrLLgp",
        "colab_type": "code",
        "outputId": "8ee8b49f-441a-41e7-fd22-5b0a33ee2f1b",
        "colab": {
          "base_uri": "https://localhost:8080/",
          "height": 318
        }
      },
      "source": [
        "zillowUSATop400 = zillowUSA97to17.nlargest(400, ['Value'])\n",
        "sns.boxplot(data=zillowUSATop400, x='Year', y='Value');\n",
        "plt.ylabel('Value of Houses (millions)')\n",
        "plt.title('400 Highest United States Housing Prices 1997-2020')"
      ],
      "execution_count": 0,
      "outputs": [
        {
          "output_type": "execute_result",
          "data": {
            "text/plain": [
              "Text(0.5, 1.0, '400 Highest United States Housing Prices 1997-2020')"
            ]
          },
          "metadata": {
            "tags": []
          },
          "execution_count": 480
        },
        {
          "output_type": "display_data",
          "data": {
            "image/png": "[encoded data removed]",
            "text/plain": [
              "<Figure size 792x288 with 1 Axes>"
            ]
          },
          "metadata": {
            "tags": []
          }
        }
      ]
    },
    {
      "cell_type": "code",
      "metadata": {
        "id": "CY79LrI1QM3G",
        "colab_type": "code",
        "outputId": "24db09ba-2e96-404c-91c4-6f0be1bda472",
        "colab": {
          "base_uri": "https://localhost:8080/",
          "height": 301
        }
      },
      "source": [
        "plt.title('400 Lowest United States Housing Prices 1997-2020')\n",
        "zillowUSABottom400 = zillowUSA97to17.nsmallest(400, ['Value'])\n",
        "sns.boxplot(data=zillowUSABottom400, x='Year', y='Value');"
      ],
      "execution_count": 0,
      "outputs": [
        {
          "output_type": "display_data",
          "data": {
            "image/png": "[encoded data removed]",
            "text/plain": [
              "<Figure size 792x288 with 1 Axes>"
            ]
          },
          "metadata": {
            "tags": []
          }
        }
      ]
    },
    {
      "cell_type": "markdown",
      "metadata": {
        "id": "1UYYhk5xQBBt",
        "colab_type": "text"
      },
      "source": [
        "# 2.0 - MODEL"
      ]
    },
    {
      "cell_type": "code",
      "metadata": {
        "id": "4Dxzc7dhQ49g",
        "colab_type": "code",
        "outputId": "ac6378fc-4c2d-4f0a-f03c-901c41a527a4",
        "colab": {
          "base_uri": "https://localhost:8080/",
          "height": 316
        }
      },
      "source": [
        "#Look at Residuals, Seasonal and Trend for the Zillow USA data.\n",
        "#Since there is no noticeable patterns, no additional transforrmations are needed.\n",
        "from pylab import rcParams\n",
        "plt.figure(figsize=(16, 6))\n",
        "res = sm.tsa.seasonal_decompose(zillowUSA97to17.Value,\n",
        "                                freq=12,\n",
        "                                model='additive')\n",
        "resplot = res.plot()\n",
        "resplot.savefig('Seasonal_Decompose.png', dpi=150)"
      ],
      "execution_count": 0,
      "outputs": [
        {
          "output_type": "display_data",
          "data": {
            "text/plain": [
              "<Figure size 1152x432 with 0 Axes>"
            ]
          },
          "metadata": {
            "tags": []
          }
        },
        {
          "output_type": "display_data",
          "data": {
            "image/png": "[encoded data removed]",
            "text/plain": [
              "<Figure size 792x288 with 4 Axes>"
            ]
          },
          "metadata": {
            "tags": []
          }
        }
      ]
    },
    {
      "cell_type": "markdown",
      "metadata": {
        "id": "fUJL3CinvMlj",
        "colab_type": "text"
      },
      "source": [
        "# 2.1 - Prophet - Analyze All Zip Codes By Year"
      ]
    },
    {
      "cell_type": "markdown",
      "metadata": {
        "id": "vBKr16W3JFfK",
        "colab_type": "text"
      },
      "source": [
        "### 2.1.1 - GDP Functions"
      ]
    },
    {
      "cell_type": "code",
      "metadata": {
        "id": "ThuoI0nBfDng",
        "colab_type": "code",
        "colab": {}
      },
      "source": [
        "#Function to predict 2018 GDP for top ten zip codes identified with Zillow forecast\n",
        "def forecastZip(zip1, zillowByZip):\n",
        "    house_model = Prophet(interval_width=0.95)\n",
        "    house_model.fit(zillowByZip)\n",
        "    future_dates = house_model.make_future_dataframe(periods=5, freq='YS')\n",
        "    forecast = house_model.predict(future_dates)\n",
        "    forecast_data_zip = forecast[['yhat']].tail(5)\n",
        "    forecast_data_zip_all = forecast[['yhat']]\n",
        "    #Calculate the RMSE\n",
        "    #se1 = forecast_data_zip_all.loc[:, 'yhat'].to_numpy()\n",
        "    #se2 = zillowUSA97to18zip.loc[zillowUSA97to18zip['RegionName']==zip1].Value\n",
        "    #se = np.square(se1 - se2)\n",
        "    #mse = np.mean(se)\n",
        "    #Create variables to pass to accumulator\n",
        "    #forecast_data_zip['zip1_idx'] = forecast_data_zip.index\n",
        "    forecast_data_zip['zip1'] = zip1\n",
        "    #forecast_data_county['state'] = state\n",
        "    #forecast_data_zip['rmse'] = np.sqrt(mse)\n",
        "    \n",
        "    print (forecast_data_zip)\n",
        "    return forecast_data_zip\n",
        "\n",
        "def mainGDP():\n",
        "    accumulator = pd.DataFrame([], columns=['zip1', 'state'])\n",
        "    for zip1, rows in GDP_Prophet.groupby('ZIP'): \n",
        "          accumulator = pd.concat([accumulator, forecastZip(zip1, rows)], axis=0)\n",
        "    #print(accumulator)\n",
        "    accumulator.to_csv('/content/drive/My Drive/Colab Notebooks/IST718/Lab2/ProphetOutGDP.csv','a')"
      ],
      "execution_count": 0,
      "outputs": []
    },
    {
      "cell_type": "code",
      "metadata": {
        "id": "WqwQMUx5urB6",
        "colab_type": "code",
        "colab": {}
      },
      "source": [
        "#mainGDP()"
      ],
      "execution_count": 0,
      "outputs": []
    },
    {
      "cell_type": "markdown",
      "metadata": {
        "id": "9GR96qo5ddo7",
        "colab_type": "text"
      },
      "source": [
        "### 2.1.2 - Zillow Functions"
      ]
    },
    {
      "cell_type": "code",
      "metadata": {
        "id": "EhHbafdek4sl",
        "colab_type": "code",
        "colab": {}
      },
      "source": [
        "#All zip codes by year by year ~265k observations\n",
        "def forecastZip(zip1, zillowByZip):\n",
        "    house_model = Prophet(interval_width=0.95)\n",
        "    house_model.fit(zillowByZip)\n",
        "    future_dates = house_model.make_future_dataframe(periods=1, freq='YS')\n",
        "    forecast = house_model.predict(future_dates)\n",
        "    forecast_data_zip = forecast[['yhat']].tail(5)\n",
        "    forecast_data_zip_all = forecast[['yhat']]\n",
        "    #Calculate the RMSE\n",
        "    se1 = forecast_data_zip_all.loc[:, 'yhat'].to_numpy()\n",
        "    se2 = zillowUSA97to18zip.loc[zillowUSA97to18zip['RegionName']==zip1].Value\n",
        "    se = np.square(se1 - se2)\n",
        "    mse = np.mean(se)\n",
        "    #Create variables to pass to accumulator\n",
        "    forecast_data_zip['zip1_idx'] = forecast_data_zip.index\n",
        "    forecast_data_zip['zip1'] = zip1\n",
        "    #forecast_data_county['state'] = state\n",
        "    forecast_data_zip['rmse'] = np.sqrt(mse)\n",
        "\n",
        "    print (forecast_data_zip)\n",
        "    return forecast_data_zip\n",
        "\n",
        "def mainZip():\n",
        "    accumulator = pd.DataFrame([], columns=['zip1', 'state','year_idx', 'yhat', 'rmse'])\n",
        "    for zip1, rows in zillowZipYears.groupby('RegionName'): \n",
        "          accumulator = pd.concat([accumulator, forecastZip(zip1, rows)], axis=0)\n",
        "    accumulator.to_csv('/content/drive/My Drive/Colab Notebooks/IST718/Lab2/ProphetOutZip.csv','a')"
      ],
      "execution_count": 0,
      "outputs": []
    },
    {
      "cell_type": "code",
      "metadata": {
        "id": "2-Ncb2v-lzVm",
        "colab_type": "code",
        "colab": {}
      },
      "source": [
        "#mainZip()"
      ],
      "execution_count": 0,
      "outputs": []
    },
    {
      "cell_type": "code",
      "metadata": {
        "id": "uAeX6fAN6h-B",
        "colab_type": "code",
        "colab": {}
      },
      "source": [
        "# Create dataset grouped by state and week\n",
        "# zillowUSAmonths = zillowUSA97to17.loc[zillowUSA97to17['RegionName']=='08401']\n",
        "# #zillowUSAmonths = zillowUSA97to17.loc[zillowUSA97to17['State']==\"WI\"]\n",
        "# #zillowUSAmonths = zillowUSAmonths.reset_index(drop=True)\n",
        "# #zillowUSAmonths   = zillowUSAmonths.drop(['Month','SizeRank','RegionID'], axis=1)\n",
        "# #zillowUSAmonths = zillowUSAmonths.groupby([\"State\",\"Year\"],as_index=False).mean()\n",
        "# #zillowUSAmonths.index = pd.to_datetime(zillowUSAmonths['Year'], format='%Y')\n",
        "# #zillowUSAmonths['Date'] = zillowUSAmonths.index\n",
        "# zillowUSAmonths = zillowUSAmonths.rename(index=str, columns={\"Date\":\"ds\",\"Value\":\"y\"})\n",
        "# zillowUSAmonths['ds'] = zillowUSAmonths.index\n",
        "# zillowUSAmonths = zillowUSAmonths[[\"ds\",\"y\",\"RegionName\",\"Year\"]]\n",
        "# zillowUSAmonths = zillowUSAmonths.reset_index(drop=True)"
      ],
      "execution_count": 0,
      "outputs": []
    },
    {
      "cell_type": "code",
      "metadata": {
        "id": "_Qer34HIhc86",
        "colab_type": "code",
        "colab": {}
      },
      "source": [
        "# #All zip codes by month\n",
        "# def forecastZip(zip1, zillowByZip):\n",
        "#     house_model = Prophet(interval_width=0.95)\n",
        "#     house_model.fit(zillowByZip)\n",
        "#     future_dates = house_model.make_future_dataframe(periods=12, freq='MS')\n",
        "#     forecast = house_model.predict(future_dates)\n",
        "#     forecast_data_zip = forecast[['yhat']].tail(5)\n",
        "#     forecast_data_zip_all = forecast[['yhat']]\n",
        "#     #Calculate the RMSE\n",
        "#     # se1 = forecast_data_zip_all.loc[:, 'yhat'].to_numpy()\n",
        "#     # se2 = zillowUSA97to18zip.loc[zillowUSA97to18zip['RegionName']==zip1].Value\n",
        "#     # se = np.square(se1 - se2)\n",
        "#     # mse = np.mean(se)\n",
        "#     #Create variables to pass to accumulator\n",
        "#     forecast_data_zip['zip1_idx'] = forecast_data_zip.index\n",
        "#     forecast_data_zip['zip1'] = zip1\n",
        "#     #forecast_data_county['state'] = state\n",
        "#     #forecast_data_zip['rmse'] = np.sqrt(mse)\n",
        "\n",
        "#     print (forecast_data_zip)\n",
        "#     return forecast_data_zip\n",
        "\n",
        "# def mainZip2():\n",
        "#     accumulator = pd.DataFrame([], columns=['zip1', 'state','year_idx', 'yhat','Year'])\n",
        "#     for zip1, rows in zillowUSAmonths.groupby('RegionName'): \n",
        "#           accumulator = pd.concat([accumulator, forecastZip(zip1, rows)], axis=0)\n",
        "#     #accumulator.to_csv('/content/drive/My Drive/Colab Notebooks/IST718/Lab2/ProphetOutZip.csv','a')"
      ],
      "execution_count": 0,
      "outputs": []
    },
    {
      "cell_type": "markdown",
      "metadata": {
        "id": "xgQ7PtpcQuXB",
        "colab_type": "text"
      },
      "source": [
        "# 2.2 - AtsPy - Analyze Single Zip Codes By Month"
      ]
    },
    {
      "cell_type": "markdown",
      "metadata": {
        "id": "mgJW2lkQQ5eQ",
        "colab_type": "text"
      },
      "source": [
        "## 2.2.1 - Install AtsPy Packages"
      ]
    },
    {
      "cell_type": "code",
      "metadata": {
        "id": "9KTZsgug1cXQ",
        "colab_type": "code",
        "outputId": "804da742-a8b7-4beb-b7bb-0c1658053a89",
        "colab": {
          "base_uri": "https://localhost:8080/",
          "height": 1000
        }
      },
      "source": [
        "!pip install atspy\n",
        "!pip install pigar\n",
        "#!pip install pydantic==1.4\n",
        "!pip freeze > requirements.txt\n",
        "from atspy import AutomatedModel"
      ],
      "execution_count": 0,
      "outputs": [
        {
          "output_type": "stream",
          "text": [
            "Requirement already satisfied: atspy in /usr/local/lib/python3.6/dist-packages (0.2.8)\n",
            "Requirement already satisfied: Cython==0.29.14 in /usr/local/lib/python3.6/dist-packages (from atspy) (0.29.14)\n",
            "Requirement already satisfied: tqdm==4.28.1 in /usr/local/lib/python3.6/dist-packages (from atspy) (4.28.1)\n",
            "Requirement already satisfied: statsmodels==0.10.2 in /usr/local/lib/python3.6/dist-packages (from atspy) (0.10.2)\n",
            "Requirement already satisfied: scikit-learn==0.22.1 in /usr/local/lib/python3.6/dist-packages (from atspy) (0.22.1)\n",
            "Requirement already satisfied: mxnet-cu100==1.4.1 in /usr/local/lib/python3.6/dist-packages (from atspy) (1.4.1)\n",
            "Requirement already satisfied: torch==1.4.0 in /usr/local/lib/python3.6/dist-packages (from atspy) (1.4.0)\n",
            "Requirement already satisfied: numexpr==2.7.1 in /usr/local/lib/python3.6/dist-packages (from atspy) (2.7.1)\n",
            "Requirement already satisfied: psycopg2==2.7.6.1 in /usr/local/lib/python3.6/dist-packages (from atspy) (2.7.6.1)\n",
            "Requirement already satisfied: gluonts==0.4.2 in /usr/local/lib/python3.6/dist-packages (from atspy) (0.4.2)\n",
            "Requirement already satisfied: tweepy==3.6.0 in /usr/local/lib/python3.6/dist-packages (from atspy) (3.6.0)\n",
            "Requirement already satisfied: numpy==1.17.4 in /usr/local/lib/python3.6/dist-packages (from atspy) (1.17.4)\n",
            "Requirement already satisfied: fbprophet==0.5 in /usr/local/lib/python3.6/dist-packages (from atspy) (0.5)\n",
            "Requirement already satisfied: dataclasses in /usr/local/lib/python3.6/dist-packages (from atspy) (0.7)\n",
            "Requirement already satisfied: DateTime==4.3 in /usr/local/lib/python3.6/dist-packages (from atspy) (4.3)\n",
            "Requirement already satisfied: sympy==1.1.1 in /usr/local/lib/python3.6/dist-packages (from atspy) (1.1.1)\n",
            "Requirement already satisfied: pydantic==1.4 in /usr/local/lib/python3.6/dist-packages (from atspy) (1.4)\n",
            "Requirement already satisfied: pandas==0.25.3 in /usr/local/lib/python3.6/dist-packages (from atspy) (0.25.3)\n",
            "Requirement already satisfied: tflearn==0.3.2 in /usr/local/lib/python3.6/dist-packages (from atspy) (0.3.2)\n",
            "Requirement already satisfied: gunicorn==20.0.4 in /usr/local/lib/python3.6/dist-packages (from atspy) (20.0.4)\n",
            "Requirement already satisfied: psutil==5.4.8 in /usr/local/lib/python3.6/dist-packages (from atspy) (5.4.8)\n",
            "Requirement already satisfied: tsfresh==0.14.1 in /usr/local/lib/python3.6/dist-packages (from atspy) (0.14.1)\n",
            "Requirement already satisfied: xlrd==1.1.0 in /usr/local/lib/python3.6/dist-packages (from atspy) (1.1.0)\n",
            "Requirement already satisfied: decorator==4.4.1 in /usr/local/lib/python3.6/dist-packages (from atspy) (4.4.1)\n",
            "Requirement already satisfied: matplotlib==3.1.2 in /usr/local/lib/python3.6/dist-packages (from atspy) (3.1.2)\n",
            "Requirement already satisfied: seaborn==0.9.1 in /usr/local/lib/python3.6/dist-packages (from atspy) (0.9.1)\n",
            "Requirement already satisfied: scipy==1.4.1 in /usr/local/lib/python3.6/dist-packages (from atspy) (1.4.1)\n",
            "Requirement already satisfied: easydict==1.9 in /usr/local/lib/python3.6/dist-packages (from atspy) (1.9)\n",
            "Requirement already satisfied: typing-extensions==3.6.6 in /usr/local/lib/python3.6/dist-packages (from atspy) (3.6.6)\n",
            "Requirement already satisfied: pmdarima==1.5.2 in /usr/local/lib/python3.6/dist-packages (from atspy) (1.5.2)\n",
            "Requirement already satisfied: numba==0.47.0 in /usr/local/lib/python3.6/dist-packages (from atspy) (0.47.0)\n",
            "Requirement already satisfied: tbats==1.0.9 in /usr/local/lib/python3.6/dist-packages (from atspy) (1.0.9)\n",
            "Requirement already satisfied: nbeats-pytorch==1.3.0 in /usr/local/lib/python3.6/dist-packages (from atspy) (1.3.0)\n",
            "Requirement already satisfied: lightgbm==2.2.3 in /usr/local/lib/python3.6/dist-packages (from atspy) (2.2.3)\n",
            "Requirement already satisfied: cachetools==4.0.0 in /usr/local/lib/python3.6/dist-packages (from atspy) (4.0.0)\n",
            "Requirement already satisfied: typing==3.6.6 in /usr/local/lib/python3.6/dist-packages (from atspy) (3.6.6)\n",
            "Requirement already satisfied: Keras==2.2.5 in /usr/local/lib/python3.6/dist-packages (from atspy) (2.2.5)\n",
            "Requirement already satisfied: tensorflow==1.15.0 in /usr/local/lib/python3.6/dist-packages (from atspy) (1.15.0)\n",
            "Requirement already satisfied: tblib==1.6.0 in /usr/local/lib/python3.6/dist-packages (from atspy) (1.6.0)\n",
            "Requirement already satisfied: seasonal==0.3.1 in /usr/local/lib/python3.6/dist-packages (from atspy) (0.3.1)\n",
            "Requirement already satisfied: pip-tools==4.2.0 in /usr/local/lib/python3.6/dist-packages (from atspy) (4.2.0)\n",
            "Requirement already satisfied: sklearn==0.0 in /usr/local/lib/python3.6/dist-packages (from atspy) (0.0)\n",
            "Requirement already satisfied: patsy>=0.4.0 in /usr/local/lib/python3.6/dist-packages (from statsmodels==0.10.2->atspy) (0.5.1)\n",
            "Requirement already satisfied: joblib>=0.11 in /usr/local/lib/python3.6/dist-packages (from scikit-learn==0.22.1->atspy) (0.14.1)\n",
            "Requirement already satisfied: requests>=2.20.0 in /usr/local/lib/python3.6/dist-packages (from mxnet-cu100==1.4.1->atspy) (2.23.0)\n",
            "Requirement already satisfied: graphviz<0.9.0,>=0.8.1 in /usr/local/lib/python3.6/dist-packages (from mxnet-cu100==1.4.1->atspy) (0.8.4)\n",
            "Requirement already satisfied: boto3~=1.0 in /usr/local/lib/python3.6/dist-packages (from gluonts==0.4.2->atspy) (1.13.1)\n",
            "Requirement already satisfied: python-dateutil==2.8.0 in /usr/local/lib/python3.6/dist-packages (from gluonts==0.4.2->atspy) (2.8.0)\n",
            "Requirement already satisfied: ujson~=1.35 in /usr/local/lib/python3.6/dist-packages (from gluonts==0.4.2->atspy) (1.35)\n",
            "Requirement already satisfied: holidays<0.10,>=0.9 in /usr/local/lib/python3.6/dist-packages (from gluonts==0.4.2->atspy) (0.9.12)\n",
            "Requirement already satisfied: six>=1.10.0 in /usr/local/lib/python3.6/dist-packages (from tweepy==3.6.0->atspy) (1.12.0)\n",
            "Requirement already satisfied: requests-oauthlib>=0.7.0 in /usr/local/lib/python3.6/dist-packages (from tweepy==3.6.0->atspy) (1.3.0)\n",
            "Requirement already satisfied: PySocks>=1.5.7 in /usr/local/lib/python3.6/dist-packages (from tweepy==3.6.0->atspy) (1.7.1)\n",
            "Requirement already satisfied: convertdate>=2.1.2 in /usr/local/lib/python3.6/dist-packages (from fbprophet==0.5->atspy) (2.2.0)\n",
            "Requirement already satisfied: pystan>=2.14 in /usr/local/lib/python3.6/dist-packages (from fbprophet==0.5->atspy) (2.19.1.1)\n",
            "Requirement already satisfied: lunardate>=0.1.5 in /usr/local/lib/python3.6/dist-packages (from fbprophet==0.5->atspy) (0.2.0)\n",
            "Requirement already satisfied: setuptools-git>=1.2 in /usr/local/lib/python3.6/dist-packages (from fbprophet==0.5->atspy) (1.2)\n",
            "Requirement already satisfied: zope.interface in /usr/local/lib/python3.6/dist-packages (from DateTime==4.3->atspy) (5.1.0)\n",
            "Requirement already satisfied: pytz in /usr/local/lib/python3.6/dist-packages (from DateTime==4.3->atspy) (2018.9)\n",
            "Requirement already satisfied: mpmath>=0.19 in /usr/local/lib/python3.6/dist-packages (from sympy==1.1.1->atspy) (1.1.0)\n",
            "Requirement already satisfied: Pillow in /usr/local/lib/python3.6/dist-packages (from tflearn==0.3.2->atspy) (7.0.0)\n",
            "Requirement already satisfied: setuptools>=3.0 in /usr/local/lib/python3.6/dist-packages (from gunicorn==20.0.4->atspy) (46.1.3)\n",
            "Requirement already satisfied: dask[dataframe]>=0.15.2 in /usr/local/lib/python3.6/dist-packages (from tsfresh==0.14.1->atspy) (2.12.0)\n",
            "Requirement already satisfied: distributed>=1.18.3 in /usr/local/lib/python3.6/dist-packages (from tsfresh==0.14.1->atspy) (1.25.3)\n",
            "Requirement already satisfied: kiwisolver>=1.0.1 in /usr/local/lib/python3.6/dist-packages (from matplotlib==3.1.2->atspy) (1.2.0)\n",
            "Requirement already satisfied: cycler>=0.10 in /usr/local/lib/python3.6/dist-packages (from matplotlib==3.1.2->atspy) (0.10.0)\n",
            "Requirement already satisfied: pyparsing!=2.0.4,!=2.1.2,!=2.1.6,>=2.0.1 in /usr/local/lib/python3.6/dist-packages (from matplotlib==3.1.2->atspy) (2.4.7)\n",
            "Requirement already satisfied: llvmlite>=0.31.0dev0 in /usr/local/lib/python3.6/dist-packages (from numba==0.47.0->atspy) (0.31.0)\n",
            "Requirement already satisfied: torchvision in /usr/local/lib/python3.6/dist-packages (from nbeats-pytorch==1.3.0->atspy) (0.6.0+cu101)\n",
            "Requirement already satisfied: h5py in /usr/local/lib/python3.6/dist-packages (from Keras==2.2.5->atspy) (2.10.0)\n",
            "Requirement already satisfied: keras-preprocessing>=1.1.0 in /usr/local/lib/python3.6/dist-packages (from Keras==2.2.5->atspy) (1.1.0)\n",
            "Requirement already satisfied: pyyaml in /usr/local/lib/python3.6/dist-packages (from Keras==2.2.5->atspy) (3.13)\n",
            "Requirement already satisfied: keras-applications>=1.0.8 in /usr/local/lib/python3.6/dist-packages (from Keras==2.2.5->atspy) (1.0.8)\n",
            "Requirement already satisfied: opt-einsum>=2.3.2 in /usr/local/lib/python3.6/dist-packages (from tensorflow==1.15.0->atspy) (3.2.1)\n",
            "Requirement already satisfied: termcolor>=1.1.0 in /usr/local/lib/python3.6/dist-packages (from tensorflow==1.15.0->atspy) (1.1.0)\n",
            "Requirement already satisfied: absl-py>=0.7.0 in /usr/local/lib/python3.6/dist-packages (from tensorflow==1.15.0->atspy) (0.9.0)\n",
            "Requirement already satisfied: wrapt>=1.11.1 in /usr/local/lib/python3.6/dist-packages (from tensorflow==1.15.0->atspy) (1.12.1)\n",
            "Requirement already satisfied: google-pasta>=0.1.6 in /usr/local/lib/python3.6/dist-packages (from tensorflow==1.15.0->atspy) (0.2.0)\n",
            "Requirement already satisfied: astor>=0.6.0 in /usr/local/lib/python3.6/dist-packages (from tensorflow==1.15.0->atspy) (0.8.1)\n",
            "Requirement already satisfied: tensorboard<1.16.0,>=1.15.0 in /usr/local/lib/python3.6/dist-packages (from tensorflow==1.15.0->atspy) (1.15.0)\n",
            "Requirement already satisfied: tensorflow-estimator==1.15.1 in /usr/local/lib/python3.6/dist-packages (from tensorflow==1.15.0->atspy) (1.15.1)\n",
            "Requirement already satisfied: grpcio>=1.8.6 in /usr/local/lib/python3.6/dist-packages (from tensorflow==1.15.0->atspy) (1.28.1)\n",
            "Requirement already satisfied: gast==0.2.2 in /usr/local/lib/python3.6/dist-packages (from tensorflow==1.15.0->atspy) (0.2.2)\n",
            "Requirement already satisfied: protobuf>=3.6.1 in /usr/local/lib/python3.6/dist-packages (from tensorflow==1.15.0->atspy) (3.10.0)\n",
            "Requirement already satisfied: wheel>=0.26 in /usr/local/lib/python3.6/dist-packages (from tensorflow==1.15.0->atspy) (0.34.2)\n",
            "Requirement already satisfied: click>=6 in /usr/local/lib/python3.6/dist-packages (from pip-tools==4.2.0->atspy) (7.1.2)\n",
            "Requirement already satisfied: idna<3,>=2.5 in /usr/local/lib/python3.6/dist-packages (from requests>=2.20.0->mxnet-cu100==1.4.1->atspy) (2.9)\n",
            "Requirement already satisfied: certifi>=2017.4.17 in /usr/local/lib/python3.6/dist-packages (from requests>=2.20.0->mxnet-cu100==1.4.1->atspy) (2020.4.5.1)\n",
            "Requirement already satisfied: urllib3!=1.25.0,!=1.25.1,<1.26,>=1.21.1 in /usr/local/lib/python3.6/dist-packages (from requests>=2.20.0->mxnet-cu100==1.4.1->atspy) (1.24.3)\n",
            "Requirement already satisfied: chardet<4,>=3.0.2 in /usr/local/lib/python3.6/dist-packages (from requests>=2.20.0->mxnet-cu100==1.4.1->atspy) (3.0.4)\n",
            "Requirement already satisfied: s3transfer<0.4.0,>=0.3.0 in /usr/local/lib/python3.6/dist-packages (from boto3~=1.0->gluonts==0.4.2->atspy) (0.3.3)\n",
            "Requirement already satisfied: botocore<1.17.0,>=1.16.1 in /usr/local/lib/python3.6/dist-packages (from boto3~=1.0->gluonts==0.4.2->atspy) (1.16.1)\n",
            "Requirement already satisfied: jmespath<1.0.0,>=0.7.1 in /usr/local/lib/python3.6/dist-packages (from boto3~=1.0->gluonts==0.4.2->atspy) (0.9.5)\n",
            "Requirement already satisfied: oauthlib>=3.0.0 in /usr/local/lib/python3.6/dist-packages (from requests-oauthlib>=0.7.0->tweepy==3.6.0->atspy) (3.1.0)\n",
            "Requirement already satisfied: pymeeus<=1,>=0.3.6 in /usr/local/lib/python3.6/dist-packages (from convertdate>=2.1.2->fbprophet==0.5->atspy) (0.3.7)\n",
            "Requirement already satisfied: fsspec>=0.6.0; extra == \"dataframe\" in /usr/local/lib/python3.6/dist-packages (from dask[dataframe]>=0.15.2->tsfresh==0.14.1->atspy) (0.7.3)\n",
            "Requirement already satisfied: partd>=0.3.10; extra == \"dataframe\" in /usr/local/lib/python3.6/dist-packages (from dask[dataframe]>=0.15.2->tsfresh==0.14.1->atspy) (1.1.0)\n",
            "Requirement already satisfied: toolz>=0.7.3; extra == \"dataframe\" in /usr/local/lib/python3.6/dist-packages (from dask[dataframe]>=0.15.2->tsfresh==0.14.1->atspy) (0.10.0)\n",
            "Requirement already satisfied: sortedcontainers!=2.0.0,!=2.0.1 in /usr/local/lib/python3.6/dist-packages (from distributed>=1.18.3->tsfresh==0.14.1->atspy) (2.1.0)\n",
            "Requirement already satisfied: tornado>=4.5.1 in /usr/local/lib/python3.6/dist-packages (from distributed>=1.18.3->tsfresh==0.14.1->atspy) (4.5.3)\n",
            "Requirement already satisfied: zict>=0.1.3 in /usr/local/lib/python3.6/dist-packages (from distributed>=1.18.3->tsfresh==0.14.1->atspy) (2.0.0)\n",
            "Requirement already satisfied: cloudpickle>=0.2.2 in /usr/local/lib/python3.6/dist-packages (from distributed>=1.18.3->tsfresh==0.14.1->atspy) (1.3.0)\n",
            "Requirement already satisfied: msgpack in /usr/local/lib/python3.6/dist-packages (from distributed>=1.18.3->tsfresh==0.14.1->atspy) (1.0.0)\n",
            "Requirement already satisfied: werkzeug>=0.11.15 in /usr/local/lib/python3.6/dist-packages (from tensorboard<1.16.0,>=1.15.0->tensorflow==1.15.0->atspy) (1.0.1)\n",
            "Requirement already satisfied: markdown>=2.6.8 in /usr/local/lib/python3.6/dist-packages (from tensorboard<1.16.0,>=1.15.0->tensorflow==1.15.0->atspy) (3.2.1)\n",
            "Requirement already satisfied: docutils<0.16,>=0.10 in /usr/local/lib/python3.6/dist-packages (from botocore<1.17.0,>=1.16.1->boto3~=1.0->gluonts==0.4.2->atspy) (0.15.2)\n",
            "Requirement already satisfied: locket in /usr/local/lib/python3.6/dist-packages (from partd>=0.3.10; extra == \"dataframe\"->dask[dataframe]>=0.15.2->tsfresh==0.14.1->atspy) (0.2.0)\n",
            "Requirement already satisfied: heapdict in /usr/local/lib/python3.6/dist-packages (from zict>=0.1.3->distributed>=1.18.3->tsfresh==0.14.1->atspy) (1.0.1)\n",
            "Requirement already satisfied: pigar in /usr/local/lib/python3.6/dist-packages (0.10.0)\n",
            "Requirement already satisfied: nbformat>=4.4.0 in /usr/local/lib/python3.6/dist-packages (from pigar) (5.0.6)\n",
            "Requirement already satisfied: colorama>=0.3.9 in /usr/local/lib/python3.6/dist-packages (from pigar) (0.4.3)\n",
            "Requirement already satisfied: requests>=2.20.0 in /usr/local/lib/python3.6/dist-packages (from pigar) (2.23.0)\n",
            "Requirement already satisfied: jupyter-core in /usr/local/lib/python3.6/dist-packages (from nbformat>=4.4.0->pigar) (4.6.3)\n",
            "Requirement already satisfied: jsonschema!=2.5.0,>=2.4 in /usr/local/lib/python3.6/dist-packages (from nbformat>=4.4.0->pigar) (2.6.0)\n",
            "Requirement already satisfied: ipython-genutils in /usr/local/lib/python3.6/dist-packages (from nbformat>=4.4.0->pigar) (0.2.0)\n",
            "Requirement already satisfied: traitlets>=4.1 in /usr/local/lib/python3.6/dist-packages (from nbformat>=4.4.0->pigar) (4.3.3)\n",
            "Requirement already satisfied: urllib3!=1.25.0,!=1.25.1,<1.26,>=1.21.1 in /usr/local/lib/python3.6/dist-packages (from requests>=2.20.0->pigar) (1.24.3)\n",
            "Requirement already satisfied: certifi>=2017.4.17 in /usr/local/lib/python3.6/dist-packages (from requests>=2.20.0->pigar) (2020.4.5.1)\n",
            "Requirement already satisfied: chardet<4,>=3.0.2 in /usr/local/lib/python3.6/dist-packages (from requests>=2.20.0->pigar) (3.0.4)\n",
            "Requirement already satisfied: idna<3,>=2.5 in /usr/local/lib/python3.6/dist-packages (from requests>=2.20.0->pigar) (2.9)\n",
            "Requirement already satisfied: decorator in /usr/local/lib/python3.6/dist-packages (from traitlets>=4.1->nbformat>=4.4.0->pigar) (4.4.1)\n",
            "Requirement already satisfied: six in /usr/local/lib/python3.6/dist-packages (from traitlets>=4.1->nbformat>=4.4.0->pigar) (1.12.0)\n"
          ],
          "name": "stdout"
        }
      ]
    },
    {
      "cell_type": "markdown",
      "metadata": {
        "id": "R0rTG65rRaus",
        "colab_type": "text"
      },
      "source": [
        "## 2.2.2.- Functions"
      ]
    },
    {
      "cell_type": "code",
      "metadata": {
        "id": "qGKXmHLxqanJ",
        "colab_type": "code",
        "colab": {}
      },
      "source": [
        "#Code for running metro against all records\n",
        "def ForecastMetro(metro):\n",
        "  zillowByMetro = zillowUSA97to17.loc[zillowUSA97to17['Metro']==metro]\n",
        "  del zillowByMetro.index.name\n",
        "  zillowByMetro = zillowByMetro.groupby(['Date'],as_index=False).mean()\n",
        "  zillowByMetro = zillowByMetro[['Value', 'Date']] \n",
        "  zillowByMetro.index = pd.to_datetime(zillowByMetro['Date'], format='%Y%m%d')\n",
        "  zillowByMetro = zillowByMetro.set_index('Date') \n",
        "  #if len(zillowByMetro) < 3:\n",
        "    #return None\n",
        "  #elif len(zillowByMetro) > 3:\n",
        "    #model_list=[\"ARIMA\",\"Gluonts\",\"Prophet\",\"NBEATS\", \"TBAT\", \"TATS\", \"TBATS1\", \"TBATP1\", \"TBATS2\"]\n",
        "  model_list=[\"ARIMA\",\"Gluonts\",\"Prophet\"]\n",
        "  am = AutomatedModel(df = zillowByMetro, model_list=model_list, season=\"infer_from_data\",forecast_len=12)\n",
        "  forecast_in, performance = am.forecast_insample()\n",
        "  forecast_out = am.forecast_outsample()\n",
        "  all_ensemble_in, all_ensemble_out, all_performance = am.ensemble(forecast_in, forecast_out)\n",
        "  print(forecast_out.head(12))\n",
        "  print(performance.head(12))\n",
        "  all_performance\n",
        "  all_ensemble_in[[\"Target\",\"Prophet\",\"ARIMA\",\"Gluonts\"]].plot()\n",
        "  all_ensemble_in\n",
        "  all_ensemble_out\n",
        "  all_ensemble_out[[\"Prophet\",\"ARIMA\",\"Gluonts\"]].plot()\n",
        "  am.models_dict_in\n",
        "  am.models_dict_out"
      ],
      "execution_count": 0,
      "outputs": []
    },
    {
      "cell_type": "code",
      "metadata": {
        "id": "_B5Om6gzUOwr",
        "colab_type": "code",
        "outputId": "a267fc94-db11-4150-b97d-5470f16ed9c1",
        "colab": {
          "base_uri": "https://localhost:8080/",
          "height": 1000
        }
      },
      "source": [
        "#ForecastMetro(\"Hot Springs\")"
      ],
      "execution_count": 0,
      "outputs": [
        {
          "output_type": "stream",
          "text": [
            "<class 'pandas.core.frame.DataFrame'>\n",
            "The data has been successfully parsed by infering a frequency, and establishing a 'Date' index and 'Target' column.\n",
            "189\n",
            "An insample split of training size 189 and testing size 63 has been constructed\n",
            "Model ARIMA is being trained for in sample prediction\n"
          ],
          "name": "stdout"
        },
        {
          "output_type": "stream",
          "text": [
            "INFO:root:Start model training\n",
            "INFO:root:Epoch[0] Learning rate is 0.001\n",
            "  0%|          | 0/50 [00:00<?, ?it/s]"
          ],
          "name": "stderr"
        },
        {
          "output_type": "stream",
          "text": [
            "Model Gluonts is being trained for in sample prediction\n"
          ],
          "name": "stdout"
        },
        {
          "output_type": "stream",
          "text": [
            "INFO:root:Number of parameters in DeepARTrainingNetwork: 23324\n",
            "100%|██████████| 50/50 [00:07<00:00,  6.62it/s, avg_epoch_loss=10.5]\n",
            "INFO:root:Epoch[0] Elapsed time 7.551 seconds\n",
            "INFO:root:Epoch[0] Evaluation metric 'epoch_loss'=10.458075\n",
            "INFO:root:Epoch[1] Learning rate is 0.001\n",
            "100%|██████████| 50/50 [00:07<00:00,  7.02it/s, avg_epoch_loss=9.73]\n",
            "INFO:root:Epoch[1] Elapsed time 7.122 seconds\n",
            "INFO:root:Epoch[1] Evaluation metric 'epoch_loss'=9.725818\n",
            "INFO:root:Epoch[2] Learning rate is 0.001\n",
            "100%|██████████| 50/50 [00:07<00:00,  6.94it/s, avg_epoch_loss=9.38]\n",
            "INFO:root:Epoch[2] Elapsed time 7.202 seconds\n",
            "INFO:root:Epoch[2] Evaluation metric 'epoch_loss'=9.375242\n",
            "INFO:root:Epoch[3] Learning rate is 0.001\n",
            "100%|██████████| 50/50 [00:07<00:00,  6.81it/s, avg_epoch_loss=9.22]\n",
            "INFO:root:Epoch[3] Elapsed time 7.348 seconds\n",
            "INFO:root:Epoch[3] Evaluation metric 'epoch_loss'=9.219258\n",
            "INFO:root:Epoch[4] Learning rate is 0.001\n",
            "100%|██████████| 50/50 [00:06<00:00,  7.15it/s, avg_epoch_loss=9.08]\n",
            "INFO:root:Epoch[4] Elapsed time 7.000 seconds\n",
            "INFO:root:Epoch[4] Evaluation metric 'epoch_loss'=9.083325\n",
            "INFO:root:Epoch[5] Learning rate is 0.001\n",
            "100%|██████████| 50/50 [00:07<00:00,  7.01it/s, avg_epoch_loss=9.04]\n",
            "INFO:root:Epoch[5] Elapsed time 7.137 seconds\n",
            "INFO:root:Epoch[5] Evaluation metric 'epoch_loss'=9.037433\n",
            "INFO:root:Loading parameters from best epoch (5)\n",
            "INFO:root:Final loss: 9.03743320465088 (occurred at epoch 5)\n",
            "INFO:root:End model training\n",
            "INFO:fbprophet:Disabling weekly seasonality. Run prophet with weekly_seasonality=True to override this.\n",
            "INFO:fbprophet:Disabling daily seasonality. Run prophet with daily_seasonality=True to override this.\n"
          ],
          "name": "stderr"
        },
        {
          "output_type": "stream",
          "text": [
            "Model Prophet is being trained for in sample prediction\n",
            "Model ARIMA is being used to forcast in sample\n",
            "Model Gluonts is being used to forcast in sample\n",
            "Model Prophet is being used to forcast in sample\n",
            "Successfully finished in sample forecast\n",
            "<class 'pandas.core.frame.DataFrame'>\n",
            "The data has been successfully parsed by infering a frequency, and establishing a 'Date' index and 'Target' column.\n",
            "Model ARIMA is being trained for out of sample prediction\n"
          ],
          "name": "stdout"
        },
        {
          "output_type": "stream",
          "text": [
            "INFO:root:Start model training\n",
            "INFO:root:Epoch[0] Learning rate is 0.001\n",
            "  0%|          | 0/50 [00:00<?, ?it/s]"
          ],
          "name": "stderr"
        },
        {
          "output_type": "stream",
          "text": [
            "Model Gluonts is being trained for out of sample prediction\n"
          ],
          "name": "stdout"
        },
        {
          "output_type": "stream",
          "text": [
            "INFO:root:Number of parameters in DeepARTrainingNetwork: 23324\n",
            "100%|██████████| 50/50 [00:02<00:00, 24.62it/s, avg_epoch_loss=11]\n",
            "INFO:root:Epoch[0] Elapsed time 2.033 seconds\n",
            "INFO:root:Epoch[0] Evaluation metric 'epoch_loss'=11.017644\n",
            "INFO:root:Epoch[1] Learning rate is 0.001\n",
            "100%|██████████| 50/50 [00:01<00:00, 26.71it/s, avg_epoch_loss=9.84]\n",
            "INFO:root:Epoch[1] Elapsed time 1.874 seconds\n",
            "INFO:root:Epoch[1] Evaluation metric 'epoch_loss'=9.835759\n",
            "INFO:root:Epoch[2] Learning rate is 0.001\n",
            "100%|██████████| 50/50 [00:01<00:00, 26.04it/s, avg_epoch_loss=9.69]\n",
            "INFO:root:Epoch[2] Elapsed time 1.923 seconds\n",
            "INFO:root:Epoch[2] Evaluation metric 'epoch_loss'=9.690902\n",
            "INFO:root:Epoch[3] Learning rate is 0.001\n",
            "100%|██████████| 50/50 [00:01<00:00, 27.16it/s, avg_epoch_loss=9.63]\n",
            "INFO:root:Epoch[3] Elapsed time 1.843 seconds\n",
            "INFO:root:Epoch[3] Evaluation metric 'epoch_loss'=9.625574\n",
            "INFO:root:Epoch[4] Learning rate is 0.001\n",
            "100%|██████████| 50/50 [00:01<00:00, 27.21it/s, avg_epoch_loss=9.56]\n",
            "INFO:root:Epoch[4] Elapsed time 1.841 seconds\n",
            "INFO:root:Epoch[4] Evaluation metric 'epoch_loss'=9.563751\n",
            "INFO:root:Epoch[5] Learning rate is 0.001\n",
            "100%|██████████| 50/50 [00:01<00:00, 26.22it/s, avg_epoch_loss=9.48]\n",
            "INFO:root:Epoch[5] Elapsed time 1.914 seconds\n",
            "INFO:root:Epoch[5] Evaluation metric 'epoch_loss'=9.477245\n",
            "INFO:root:Loading parameters from best epoch (5)\n",
            "INFO:root:Final loss: 9.477244815826417 (occurred at epoch 5)\n",
            "INFO:root:End model training\n",
            "INFO:fbprophet:Disabling weekly seasonality. Run prophet with weekly_seasonality=True to override this.\n",
            "INFO:fbprophet:Disabling daily seasonality. Run prophet with daily_seasonality=True to override this.\n"
          ],
          "name": "stderr"
        },
        {
          "output_type": "stream",
          "text": [
            "Model Prophet is being trained for out of sample prediction\n",
            "Model ARIMA is being used to forcast out of sample\n",
            "Model Gluonts is being used to forcast out of sample\n",
            "Model Prophet is being used to forcast out of sample\n",
            "Successfully finished out of sample forecast\n",
            "Building LightGBM Ensemble from TS data (ensemble_lgb)\n",
            "Building LightGBM Ensemble from PCA reduced TSFresh Features (ensemble_ts). This can take a long time.\n",
            "LightGBM ensemble have been successfully built\n",
            "367  variables are found to be almost constant\n",
            "LightGBM ensemble have been successfully built\n",
            "Building Standard First Level Ensemble\n",
            "Building Final Multi-level Ensemble\n",
            "                    ARIMA        Gluonts        Prophet\n",
            "Date                                                   \n",
            "2018-01-31  131969.149750  131142.156250  127761.860957\n",
            "2018-02-28  132215.424970  132401.578125  127869.769228\n",
            "2018-03-31  132399.298620  132270.406250  127997.531953\n",
            "2018-04-30  132566.452711  132353.390625  128130.147863\n",
            "2018-05-31  132726.068365  132468.062500  128177.084656\n",
            "2018-06-30  132883.096459  132498.000000  128235.378970\n",
            "2018-07-31  133039.108485  133017.437500  128340.203224\n",
            "2018-08-31  133194.748009  132687.812500  128516.998139\n",
            "2018-09-30  133350.246175  132718.546875  128626.546025\n",
            "2018-10-31  133505.691629  132710.875000  128738.339398\n",
            "2018-11-30  133661.117251  132341.156250  128858.073741\n",
            "2018-12-31  133816.535446  133618.109375  129041.051826\n",
            "             Target         ARIMA       Gluonts       Prophet\n",
            "rmse       0.000000  5.284589e+03  3.845605e+04  7.534903e+03\n",
            "mse        0.000000  2.792688e+07  1.478868e+09  5.677476e+07\n",
            "mean  124765.136508  1.210010e+05  1.603617e+05  1.185070e+05\n"
          ],
          "name": "stdout"
        },
        {
          "output_type": "display_data",
          "data": {
            "image/png": "[encoded data removed]",
            "text/plain": [
              "<Figure size 792x288 with 1 Axes>"
            ]
          },
          "metadata": {
            "tags": [],
            "needs_background": "light"
          }
        },
        {
          "output_type": "display_data",
          "data": {
            "image/png": "[encoded data removed]",
            "text/plain": [
              "<Figure size 792x288 with 1 Axes>"
            ]
          },
          "metadata": {
            "tags": [],
            "needs_background": "light"
          }
        }
      ]
    },
    {
      "cell_type": "code",
      "metadata": {
        "id": "ftTHVkd48g2-",
        "colab_type": "code",
        "outputId": "40346149-ac98-4ccb-9781-b325ec58d82a",
        "colab": {
          "base_uri": "https://localhost:8080/",
          "height": 1000
        }
      },
      "source": [
        "#ForecastMetro(\"Fayetteville-Springdale-Rogers\")"
      ],
      "execution_count": 0,
      "outputs": [
        {
          "output_type": "stream",
          "text": [
            "<class 'pandas.core.frame.DataFrame'>\n",
            "The data has been successfully parsed by infering a frequency, and establishing a 'Date' index and 'Target' column.\n",
            "189\n",
            "An insample split of training size 189 and testing size 63 has been constructed\n",
            "Model ARIMA is being trained for in sample prediction\n"
          ],
          "name": "stdout"
        },
        {
          "output_type": "stream",
          "text": [
            "INFO:root:Start model training\n",
            "INFO:root:Epoch[0] Learning rate is 0.001\n",
            "  0%|          | 0/50 [00:00<?, ?it/s]"
          ],
          "name": "stderr"
        },
        {
          "output_type": "stream",
          "text": [
            "Model Gluonts is being trained for in sample prediction\n"
          ],
          "name": "stdout"
        },
        {
          "output_type": "stream",
          "text": [
            "INFO:root:Number of parameters in DeepARTrainingNetwork: 23324\n",
            "100%|██████████| 50/50 [00:07<00:00,  6.78it/s, avg_epoch_loss=11.3]\n",
            "INFO:root:Epoch[0] Elapsed time 7.374 seconds\n",
            "INFO:root:Epoch[0] Evaluation metric 'epoch_loss'=11.291791\n",
            "INFO:root:Epoch[1] Learning rate is 0.001\n",
            "100%|██████████| 50/50 [00:07<00:00,  7.09it/s, avg_epoch_loss=9.98]\n",
            "INFO:root:Epoch[1] Elapsed time 7.054 seconds\n",
            "INFO:root:Epoch[1] Evaluation metric 'epoch_loss'=9.982148\n",
            "INFO:root:Epoch[2] Learning rate is 0.001\n",
            "100%|██████████| 50/50 [00:07<00:00,  7.12it/s, avg_epoch_loss=9.51]\n",
            "INFO:root:Epoch[2] Elapsed time 7.030 seconds\n",
            "INFO:root:Epoch[2] Evaluation metric 'epoch_loss'=9.507355\n",
            "INFO:root:Epoch[3] Learning rate is 0.001\n",
            "100%|██████████| 50/50 [00:07<00:00,  6.95it/s, avg_epoch_loss=9.22]\n",
            "INFO:root:Epoch[3] Elapsed time 7.192 seconds\n",
            "INFO:root:Epoch[3] Evaluation metric 'epoch_loss'=9.218694\n",
            "INFO:root:Epoch[4] Learning rate is 0.001\n",
            "100%|██████████| 50/50 [00:07<00:00,  6.99it/s, avg_epoch_loss=9.09]\n",
            "INFO:root:Epoch[4] Elapsed time 7.158 seconds\n",
            "INFO:root:Epoch[4] Evaluation metric 'epoch_loss'=9.090570\n",
            "INFO:root:Epoch[5] Learning rate is 0.001\n",
            "100%|██████████| 50/50 [00:07<00:00,  7.05it/s, avg_epoch_loss=8.99]\n",
            "INFO:root:Epoch[5] Elapsed time 7.092 seconds\n",
            "INFO:root:Epoch[5] Evaluation metric 'epoch_loss'=8.988507\n",
            "INFO:root:Loading parameters from best epoch (5)\n",
            "INFO:root:Final loss: 8.988507499694824 (occurred at epoch 5)\n",
            "INFO:root:End model training\n",
            "INFO:fbprophet:Disabling weekly seasonality. Run prophet with weekly_seasonality=True to override this.\n",
            "INFO:fbprophet:Disabling daily seasonality. Run prophet with daily_seasonality=True to override this.\n"
          ],
          "name": "stderr"
        },
        {
          "output_type": "stream",
          "text": [
            "Model Prophet is being trained for in sample prediction\n",
            "Model ARIMA is being used to forcast in sample\n",
            "Model Gluonts is being used to forcast in sample\n",
            "Model Prophet is being used to forcast in sample\n",
            "Successfully finished in sample forecast\n",
            "<class 'pandas.core.frame.DataFrame'>\n",
            "The data has been successfully parsed by infering a frequency, and establishing a 'Date' index and 'Target' column.\n",
            "Model ARIMA is being trained for out of sample prediction\n"
          ],
          "name": "stdout"
        },
        {
          "output_type": "stream",
          "text": [
            "INFO:root:Start model training\n",
            "INFO:root:Epoch[0] Learning rate is 0.001\n",
            "  0%|          | 0/50 [00:00<?, ?it/s]"
          ],
          "name": "stderr"
        },
        {
          "output_type": "stream",
          "text": [
            "Model Gluonts is being trained for out of sample prediction\n"
          ],
          "name": "stdout"
        },
        {
          "output_type": "stream",
          "text": [
            "INFO:root:Number of parameters in DeepARTrainingNetwork: 23324\n",
            "100%|██████████| 50/50 [00:01<00:00, 25.16it/s, avg_epoch_loss=11.1]\n",
            "INFO:root:Epoch[0] Elapsed time 1.990 seconds\n",
            "INFO:root:Epoch[0] Evaluation metric 'epoch_loss'=11.144783\n",
            "INFO:root:Epoch[1] Learning rate is 0.001\n",
            "100%|██████████| 50/50 [00:01<00:00, 27.07it/s, avg_epoch_loss=10.2]\n",
            "INFO:root:Epoch[1] Elapsed time 1.849 seconds\n",
            "INFO:root:Epoch[1] Evaluation metric 'epoch_loss'=10.201208\n",
            "INFO:root:Epoch[2] Learning rate is 0.001\n",
            "100%|██████████| 50/50 [00:01<00:00, 27.27it/s, avg_epoch_loss=10.1]\n",
            "INFO:root:Epoch[2] Elapsed time 1.836 seconds\n",
            "INFO:root:Epoch[2] Evaluation metric 'epoch_loss'=10.097039\n",
            "INFO:root:Epoch[3] Learning rate is 0.001\n",
            "100%|██████████| 50/50 [00:01<00:00, 27.65it/s, avg_epoch_loss=9.97]\n",
            "INFO:root:Epoch[3] Elapsed time 1.810 seconds\n",
            "INFO:root:Epoch[3] Evaluation metric 'epoch_loss'=9.965048\n",
            "INFO:root:Epoch[4] Learning rate is 0.001\n",
            "100%|██████████| 50/50 [00:01<00:00, 27.19it/s, avg_epoch_loss=9.92]\n",
            "INFO:root:Epoch[4] Elapsed time 1.843 seconds\n",
            "INFO:root:Epoch[4] Evaluation metric 'epoch_loss'=9.923890\n",
            "INFO:root:Epoch[5] Learning rate is 0.001\n",
            "100%|██████████| 50/50 [00:01<00:00, 26.89it/s, avg_epoch_loss=9.77]\n",
            "INFO:root:Epoch[5] Elapsed time 1.862 seconds\n",
            "INFO:root:Epoch[5] Evaluation metric 'epoch_loss'=9.770329\n",
            "INFO:root:Loading parameters from best epoch (5)\n",
            "INFO:root:Final loss: 9.770329418182373 (occurred at epoch 5)\n",
            "INFO:root:End model training\n",
            "INFO:fbprophet:Disabling weekly seasonality. Run prophet with weekly_seasonality=True to override this.\n",
            "INFO:fbprophet:Disabling daily seasonality. Run prophet with daily_seasonality=True to override this.\n"
          ],
          "name": "stderr"
        },
        {
          "output_type": "stream",
          "text": [
            "Model Prophet is being trained for out of sample prediction\n",
            "Model ARIMA is being used to forcast out of sample\n",
            "Model Gluonts is being used to forcast out of sample\n",
            "Model Prophet is being used to forcast out of sample\n",
            "Successfully finished out of sample forecast\n",
            "Building LightGBM Ensemble from TS data (ensemble_lgb)\n",
            "Building LightGBM Ensemble from PCA reduced TSFresh Features (ensemble_ts). This can take a long time.\n",
            "LightGBM ensemble have been successfully built\n",
            "406  variables are found to be almost constant\n",
            "LightGBM ensemble have been successfully built\n",
            "Building Standard First Level Ensemble\n",
            "Building Final Multi-level Ensemble\n",
            "                    ARIMA        Gluonts        Prophet\n",
            "Date                                                   \n",
            "2018-01-31  168270.524773  159727.812500  165251.042149\n",
            "2018-02-28  168763.685814  160621.421875  165829.623626\n",
            "2018-03-31  169228.819205  160381.265625  166315.154901\n",
            "2018-04-30  169669.535696  159961.906250  166805.095418\n",
            "2018-05-31  170087.866236  161041.968750  167304.253508\n",
            "2018-06-30  170485.528644  160810.093750  167921.268371\n",
            "2018-07-31  170864.091196  159724.187500  168594.787179\n",
            "2018-08-31  171225.001003  160522.796875  169301.503902\n",
            "2018-09-30  171569.595274  160924.562500  169960.301758\n",
            "2018-10-31  171899.109889  161764.562500  170510.716065\n",
            "2018-11-30  172214.687107  162244.515625  171023.864231\n",
            "2018-12-31  172517.382665  160329.015625  171522.961604\n",
            "             Target         ARIMA       Gluonts       Prophet\n",
            "rmse       0.000000  7.132396e+03  6.211493e+04  3.853849e+04\n",
            "mse        0.000000  5.087107e+07  3.858265e+09  1.485215e+09\n",
            "mean  147081.066564  1.416891e+05  2.080306e+05  1.125520e+05\n"
          ],
          "name": "stdout"
        },
        {
          "output_type": "display_data",
          "data": {
            "image/png": "[encoded data removed]",
            "text/plain": [
              "<Figure size 792x288 with 1 Axes>"
            ]
          },
          "metadata": {
            "tags": [],
            "needs_background": "light"
          }
        },
        {
          "output_type": "display_data",
          "data": {
            "image/png": "[encoded data removed]",
            "text/plain": [
              "<Figure size 792x288 with 1 Axes>"
            ]
          },
          "metadata": {
            "tags": [],
            "needs_background": "light"
          }
        }
      ]
    },
    {
      "cell_type": "code",
      "metadata": {
        "id": "nUpaI3KQ8Sqm",
        "colab_type": "code",
        "outputId": "4cea21d1-d73e-4502-eee7-f5bab648dd1d",
        "colab": {
          "base_uri": "https://localhost:8080/",
          "height": 1000
        }
      },
      "source": [
        "## NEED TO TROUBLESHOOT ERROR\n",
        "ForecastMetro(\"Little Rock-North Little Rock-Conway\")"
      ],
      "execution_count": 0,
      "outputs": [
        {
          "output_type": "stream",
          "text": [
            "<class 'pandas.core.frame.DataFrame'>\n",
            "The data has been successfully parsed by infering a frequency, and establishing a 'Date' index and 'Target' column.\n",
            "189\n",
            "An insample split of training size 189 and testing size 63 has been constructed\n",
            "Model ARIMA is being trained for in sample prediction\n"
          ],
          "name": "stdout"
        },
        {
          "output_type": "stream",
          "text": [
            "INFO:root:Start model training\n",
            "INFO:root:Epoch[0] Learning rate is 0.001\n",
            "  0%|          | 0/50 [00:00<?, ?it/s]"
          ],
          "name": "stderr"
        },
        {
          "output_type": "stream",
          "text": [
            "Model Gluonts is being trained for in sample prediction\n"
          ],
          "name": "stdout"
        },
        {
          "output_type": "stream",
          "text": [
            "INFO:root:Number of parameters in DeepARTrainingNetwork: 23324\n",
            "100%|██████████| 50/50 [00:07<00:00,  6.62it/s, avg_epoch_loss=11.2]\n",
            "INFO:root:Epoch[0] Elapsed time 7.562 seconds\n",
            "INFO:root:Epoch[0] Evaluation metric 'epoch_loss'=11.179832\n",
            "INFO:root:Epoch[1] Learning rate is 0.001\n",
            "100%|██████████| 50/50 [00:07<00:00,  6.96it/s, avg_epoch_loss=9.91]\n",
            "INFO:root:Epoch[1] Elapsed time 7.181 seconds\n",
            "INFO:root:Epoch[1] Evaluation metric 'epoch_loss'=9.914302\n",
            "INFO:root:Epoch[2] Learning rate is 0.001\n",
            "100%|██████████| 50/50 [00:07<00:00,  7.01it/s, avg_epoch_loss=9.24]\n",
            "INFO:root:Epoch[2] Elapsed time 7.139 seconds\n",
            "INFO:root:Epoch[2] Evaluation metric 'epoch_loss'=9.241395\n",
            "INFO:root:Epoch[3] Learning rate is 0.001\n",
            "100%|██████████| 50/50 [00:07<00:00,  7.07it/s, avg_epoch_loss=9.08]\n",
            "INFO:root:Epoch[3] Elapsed time 7.073 seconds\n",
            "INFO:root:Epoch[3] Evaluation metric 'epoch_loss'=9.084368\n",
            "INFO:root:Epoch[4] Learning rate is 0.001\n",
            "100%|██████████| 50/50 [00:07<00:00,  7.14it/s, avg_epoch_loss=8.95]\n",
            "INFO:root:Epoch[4] Elapsed time 7.004 seconds\n",
            "INFO:root:Epoch[4] Evaluation metric 'epoch_loss'=8.954033\n",
            "INFO:root:Epoch[5] Learning rate is 0.001\n",
            "100%|██████████| 50/50 [00:07<00:00,  6.96it/s, avg_epoch_loss=8.85]\n",
            "INFO:root:Epoch[5] Elapsed time 7.190 seconds\n",
            "INFO:root:Epoch[5] Evaluation metric 'epoch_loss'=8.847173\n",
            "INFO:root:Loading parameters from best epoch (5)\n",
            "INFO:root:Final loss: 8.847172527313232 (occurred at epoch 5)\n",
            "INFO:root:End model training\n",
            "INFO:fbprophet:Disabling weekly seasonality. Run prophet with weekly_seasonality=True to override this.\n",
            "INFO:fbprophet:Disabling daily seasonality. Run prophet with daily_seasonality=True to override this.\n"
          ],
          "name": "stderr"
        },
        {
          "output_type": "stream",
          "text": [
            "Model Prophet is being trained for in sample prediction\n",
            "Model ARIMA is being used to forcast in sample\n",
            "Model Gluonts is being used to forcast in sample\n",
            "Model Prophet is being used to forcast in sample\n",
            "Successfully finished in sample forecast\n",
            "<class 'pandas.core.frame.DataFrame'>\n",
            "The data has been successfully parsed by infering a frequency, and establishing a 'Date' index and 'Target' column.\n",
            "Model ARIMA is being trained for out of sample prediction\n"
          ],
          "name": "stdout"
        },
        {
          "output_type": "stream",
          "text": [
            "INFO:root:Start model training\n",
            "INFO:root:Epoch[0] Learning rate is 0.001\n",
            "  0%|          | 0/50 [00:00<?, ?it/s]"
          ],
          "name": "stderr"
        },
        {
          "output_type": "stream",
          "text": [
            "Model Gluonts is being trained for out of sample prediction\n"
          ],
          "name": "stdout"
        },
        {
          "output_type": "stream",
          "text": [
            "INFO:root:Number of parameters in DeepARTrainingNetwork: 23324\n",
            "100%|██████████| 50/50 [00:01<00:00, 25.82it/s, avg_epoch_loss=11.8]\n",
            "INFO:root:Epoch[0] Elapsed time 1.941 seconds\n",
            "INFO:root:Epoch[0] Evaluation metric 'epoch_loss'=11.775434\n",
            "INFO:root:Epoch[1] Learning rate is 0.001\n",
            "100%|██████████| 50/50 [00:01<00:00, 26.39it/s, avg_epoch_loss=9.65]\n",
            "INFO:root:Epoch[1] Elapsed time 1.897 seconds\n",
            "INFO:root:Epoch[1] Evaluation metric 'epoch_loss'=9.652036\n",
            "INFO:root:Epoch[2] Learning rate is 0.001\n",
            "100%|██████████| 50/50 [00:01<00:00, 26.19it/s, avg_epoch_loss=9.53]\n",
            "INFO:root:Epoch[2] Elapsed time 1.911 seconds\n",
            "INFO:root:Epoch[2] Evaluation metric 'epoch_loss'=9.527666\n",
            "INFO:root:Epoch[3] Learning rate is 0.001\n",
            "100%|██████████| 50/50 [00:01<00:00, 26.23it/s, avg_epoch_loss=9.52]\n",
            "INFO:root:Epoch[3] Elapsed time 1.909 seconds\n",
            "INFO:root:Epoch[3] Evaluation metric 'epoch_loss'=9.516347\n",
            "INFO:root:Epoch[4] Learning rate is 0.001\n",
            "100%|██████████| 50/50 [00:01<00:00, 27.30it/s, avg_epoch_loss=9.32]\n",
            "INFO:root:Epoch[4] Elapsed time 1.835 seconds\n",
            "INFO:root:Epoch[4] Evaluation metric 'epoch_loss'=9.320477\n",
            "INFO:root:Epoch[5] Learning rate is 0.001\n",
            "100%|██████████| 50/50 [00:01<00:00, 27.27it/s, avg_epoch_loss=9.28]\n",
            "INFO:root:Epoch[5] Elapsed time 1.835 seconds\n",
            "INFO:root:Epoch[5] Evaluation metric 'epoch_loss'=9.284531\n",
            "INFO:root:Loading parameters from best epoch (5)\n",
            "INFO:root:Final loss: 9.284531192779541 (occurred at epoch 5)\n",
            "INFO:root:End model training\n",
            "INFO:fbprophet:Disabling weekly seasonality. Run prophet with weekly_seasonality=True to override this.\n",
            "INFO:fbprophet:Disabling daily seasonality. Run prophet with daily_seasonality=True to override this.\n"
          ],
          "name": "stderr"
        },
        {
          "output_type": "stream",
          "text": [
            "Model Prophet is being trained for out of sample prediction\n",
            "Model ARIMA is being used to forcast out of sample\n",
            "Model Gluonts is being used to forcast out of sample\n",
            "Model Prophet is being used to forcast out of sample\n",
            "Successfully finished out of sample forecast\n",
            "Building LightGBM Ensemble from TS data (ensemble_lgb)\n",
            "Building LightGBM Ensemble from PCA reduced TSFresh Features (ensemble_ts). This can take a long time.\n",
            "LightGBM ensemble have been successfully built\n",
            "254  variables are found to be almost constant\n",
            "LightGBM ensemble have been successfully built\n",
            "Building Standard First Level Ensemble\n",
            "Building Final Multi-level Ensemble\n",
            "                    ARIMA        Gluonts        Prophet\n",
            "Date                                                   \n",
            "2018-01-31  140346.687120  139034.125000  137302.297017\n",
            "2018-02-28  140845.190957  143001.109375  137499.193881\n",
            "2018-03-31  141356.899845  142567.125000  137621.883345\n",
            "2018-04-30  141846.756771  142134.062500  137754.100633\n",
            "2018-05-31  142334.354435  142589.656250  137904.827816\n",
            "2018-06-30  142822.389083  142135.125000  138111.197741\n",
            "2018-07-31  143304.821234  141945.562500  138330.206603\n",
            "2018-08-31  143785.111192  142087.203125  138539.260350\n",
            "2018-09-30  144263.548321  142042.390625  138722.235081\n",
            "2018-10-31  144739.182097  141404.375000  138879.804418\n",
            "2018-11-30  145212.517133  142140.109375  139041.508606\n",
            "2018-12-31  145683.674776  142194.562500  139181.134570\n",
            "             Target         ARIMA       Gluonts       Prophet\n",
            "rmse       0.000000  5.632812e+03  1.683288e+04  1.079240e+04\n",
            "mse        0.000000  3.172858e+07  2.833458e+08  1.164759e+08\n",
            "mean  132261.164885  1.373579e+05  1.489142e+05  1.228433e+05\n"
          ],
          "name": "stdout"
        },
        {
          "output_type": "display_data",
          "data": {
            "image/png": "[encoded data removed]",
            "text/plain": [
              "<Figure size 792x288 with 1 Axes>"
            ]
          },
          "metadata": {
            "tags": [],
            "needs_background": "light"
          }
        },
        {
          "output_type": "display_data",
          "data": {
            "image/png": "[encoded data removed]",
            "text/plain": [
              "<Figure size 792x288 with 1 Axes>"
            ]
          },
          "metadata": {
            "tags": [],
            "needs_background": "light"
          }
        }
      ]
    },
    {
      "cell_type": "code",
      "metadata": {
        "id": "BGNDzV078hWI",
        "colab_type": "code",
        "outputId": "044ad02b-2e17-4476-e705-9f522938dca1",
        "colab": {
          "base_uri": "https://localhost:8080/",
          "height": 1000
        }
      },
      "source": [
        "# NEED TO TROUBLESHOOT ERROR\n",
        "#ForecastMetro(\"Searcy\")"
      ],
      "execution_count": 0,
      "outputs": [
        {
          "output_type": "stream",
          "text": [
            "<class 'pandas.core.frame.DataFrame'>\n",
            "The data has been successfully parsed by infering a frequency, and establishing a 'Date' index and 'Target' column.\n",
            "189\n",
            "An insample split of training size 189 and testing size 63 has been constructed\n",
            "Model ARIMA is being trained for in sample prediction\n"
          ],
          "name": "stdout"
        },
        {
          "output_type": "stream",
          "text": [
            "INFO:root:Start model training\n",
            "INFO:root:Epoch[0] Learning rate is 0.001\n",
            "  0%|          | 0/50 [00:00<?, ?it/s]"
          ],
          "name": "stderr"
        },
        {
          "output_type": "stream",
          "text": [
            "Model Gluonts is being trained for in sample prediction\n"
          ],
          "name": "stdout"
        },
        {
          "output_type": "stream",
          "text": [
            "INFO:root:Number of parameters in DeepARTrainingNetwork: 23324\n",
            "100%|██████████| 50/50 [00:07<00:00,  6.49it/s, avg_epoch_loss=10.4]\n",
            "INFO:root:Epoch[0] Elapsed time 7.709 seconds\n",
            "INFO:root:Epoch[0] Evaluation metric 'epoch_loss'=10.436254\n",
            "INFO:root:Epoch[1] Learning rate is 0.001\n",
            "100%|██████████| 50/50 [00:07<00:00,  7.01it/s, avg_epoch_loss=9.2]\n",
            "INFO:root:Epoch[1] Elapsed time 7.139 seconds\n",
            "INFO:root:Epoch[1] Evaluation metric 'epoch_loss'=9.201432\n",
            "INFO:root:Epoch[2] Learning rate is 0.001\n",
            "100%|██████████| 50/50 [00:07<00:00,  6.83it/s, avg_epoch_loss=8.64]\n",
            "INFO:root:Epoch[2] Elapsed time 7.327 seconds\n",
            "INFO:root:Epoch[2] Evaluation metric 'epoch_loss'=8.639679\n",
            "INFO:root:Epoch[3] Learning rate is 0.001\n",
            "100%|██████████| 50/50 [00:07<00:00,  6.97it/s, avg_epoch_loss=8.47]\n",
            "INFO:root:Epoch[3] Elapsed time 7.174 seconds\n",
            "INFO:root:Epoch[3] Evaluation metric 'epoch_loss'=8.466348\n",
            "INFO:root:Epoch[4] Learning rate is 0.001\n",
            "100%|██████████| 50/50 [00:07<00:00,  6.80it/s, avg_epoch_loss=8.38]\n",
            "INFO:root:Epoch[4] Elapsed time 7.356 seconds\n",
            "INFO:root:Epoch[4] Evaluation metric 'epoch_loss'=8.377421\n",
            "INFO:root:Epoch[5] Learning rate is 0.001\n",
            "100%|██████████| 50/50 [00:07<00:00,  6.94it/s, avg_epoch_loss=8.32]\n",
            "INFO:root:Epoch[5] Elapsed time 7.203 seconds\n",
            "INFO:root:Epoch[5] Evaluation metric 'epoch_loss'=8.315682\n",
            "INFO:root:Loading parameters from best epoch (5)\n",
            "INFO:root:Final loss: 8.315681610107422 (occurred at epoch 5)\n",
            "INFO:root:End model training\n",
            "INFO:fbprophet:Disabling weekly seasonality. Run prophet with weekly_seasonality=True to override this.\n",
            "INFO:fbprophet:Disabling daily seasonality. Run prophet with daily_seasonality=True to override this.\n"
          ],
          "name": "stderr"
        },
        {
          "output_type": "stream",
          "text": [
            "Model Prophet is being trained for in sample prediction\n",
            "Model ARIMA is being used to forcast in sample\n",
            "Model Gluonts is being used to forcast in sample\n",
            "Model Prophet is being used to forcast in sample\n",
            "Successfully finished in sample forecast\n",
            "<class 'pandas.core.frame.DataFrame'>\n",
            "The data has been successfully parsed by infering a frequency, and establishing a 'Date' index and 'Target' column.\n",
            "Model ARIMA is being trained for out of sample prediction\n"
          ],
          "name": "stdout"
        },
        {
          "output_type": "stream",
          "text": [
            "INFO:root:Start model training\n",
            "INFO:root:Epoch[0] Learning rate is 0.001\n",
            "  0%|          | 0/50 [00:00<?, ?it/s]"
          ],
          "name": "stderr"
        },
        {
          "output_type": "stream",
          "text": [
            "Model Gluonts is being trained for out of sample prediction\n"
          ],
          "name": "stdout"
        },
        {
          "output_type": "stream",
          "text": [
            "INFO:root:Number of parameters in DeepARTrainingNetwork: 23324\n",
            "100%|██████████| 50/50 [00:01<00:00, 26.48it/s, avg_epoch_loss=10.6]\n",
            "INFO:root:Epoch[0] Elapsed time 1.891 seconds\n",
            "INFO:root:Epoch[0] Evaluation metric 'epoch_loss'=10.564788\n",
            "INFO:root:Epoch[1] Learning rate is 0.001\n",
            "100%|██████████| 50/50 [00:02<00:00, 23.89it/s, avg_epoch_loss=9.3]\n",
            "INFO:root:Epoch[1] Elapsed time 2.095 seconds\n",
            "INFO:root:Epoch[1] Evaluation metric 'epoch_loss'=9.303562\n",
            "INFO:root:Epoch[2] Learning rate is 0.001\n",
            "100%|██████████| 50/50 [00:02<00:00, 24.75it/s, avg_epoch_loss=8.93]\n",
            "INFO:root:Epoch[2] Elapsed time 2.023 seconds\n",
            "INFO:root:Epoch[2] Evaluation metric 'epoch_loss'=8.928184\n",
            "INFO:root:Epoch[3] Learning rate is 0.001\n",
            "100%|██████████| 50/50 [00:01<00:00, 26.65it/s, avg_epoch_loss=8.94]\n",
            "INFO:root:Epoch[3] Elapsed time 1.880 seconds\n",
            "INFO:root:Epoch[3] Evaluation metric 'epoch_loss'=8.944658\n",
            "INFO:root:Epoch[4] Learning rate is 0.001\n",
            "100%|██████████| 50/50 [00:01<00:00, 28.01it/s, avg_epoch_loss=8.79]\n",
            "INFO:root:Epoch[4] Elapsed time 1.788 seconds\n",
            "INFO:root:Epoch[4] Evaluation metric 'epoch_loss'=8.791992\n",
            "INFO:root:Epoch[5] Learning rate is 0.001\n",
            "100%|██████████| 50/50 [00:01<00:00, 27.71it/s, avg_epoch_loss=8.83]\n",
            "INFO:root:Epoch[5] Elapsed time 1.808 seconds\n",
            "INFO:root:Epoch[5] Evaluation metric 'epoch_loss'=8.834787\n",
            "INFO:root:Loading parameters from best epoch (4)\n",
            "INFO:root:Final loss: 8.791991996765137 (occurred at epoch 4)\n",
            "INFO:root:End model training\n",
            "INFO:fbprophet:Disabling weekly seasonality. Run prophet with weekly_seasonality=True to override this.\n",
            "INFO:fbprophet:Disabling daily seasonality. Run prophet with daily_seasonality=True to override this.\n"
          ],
          "name": "stderr"
        },
        {
          "output_type": "stream",
          "text": [
            "Model Prophet is being trained for out of sample prediction\n",
            "Model ARIMA is being used to forcast out of sample\n",
            "Model Gluonts is being used to forcast out of sample\n",
            "Model Prophet is being used to forcast out of sample\n",
            "Successfully finished out of sample forecast\n",
            "Building LightGBM Ensemble from TS data (ensemble_lgb)\n",
            "Building LightGBM Ensemble from PCA reduced TSFresh Features (ensemble_ts). This can take a long time.\n",
            "LightGBM ensemble have been successfully built\n",
            "221  variables are found to be almost constant\n",
            "LightGBM ensemble have been successfully built\n",
            "Building Standard First Level Ensemble\n",
            "Building Final Multi-level Ensemble\n",
            "                   ARIMA       Gluonts       Prophet\n",
            "Date                                                \n",
            "2018-01-31  93916.778110  92387.062500  92460.610077\n",
            "2018-02-28  94343.250049  91994.320312  92743.435010\n",
            "2018-03-31  94571.188799  92030.796875  92986.424555\n",
            "2018-04-30  94815.624544  91961.882812  93235.684713\n",
            "2018-05-31  95019.929158  92048.109375  93497.449265\n",
            "2018-06-30  95177.980954  91586.070312  93786.868335\n",
            "2018-07-31  95345.045826  91753.992188  94082.149855\n",
            "2018-08-31  95494.398223  91539.578125  94368.762373\n",
            "2018-09-30  95635.069638  91814.781250  94650.629380\n",
            "2018-10-31  95778.021471  91401.226562  94917.850270\n",
            "2018-11-30  95914.696793  91824.812500  95178.016325\n",
            "2018-12-31  96050.353122  95054.156250  95435.160274\n",
            "            Target         ARIMA       Gluonts       Prophet\n",
            "rmse      0.000000  7.462463e+03  9.175024e+03  8.017737e+03\n",
            "mse       0.000000  5.568836e+07  8.418107e+07  6.428411e+07\n",
            "mean  84340.759259  7.896259e+04  9.272437e+04  7.773234e+04\n"
          ],
          "name": "stdout"
        },
        {
          "output_type": "display_data",
          "data": {
            "image/png": "[encoded data removed]",
            "text/plain": [
              "<Figure size 792x288 with 1 Axes>"
            ]
          },
          "metadata": {
            "tags": [],
            "needs_background": "light"
          }
        },
        {
          "output_type": "display_data",
          "data": {
            "image/png": "[encoded data removed]",
            "text/plain": [
              "<Figure size 792x288 with 1 Axes>"
            ]
          },
          "metadata": {
            "tags": [],
            "needs_background": "light"
          }
        }
      ]
    },
    {
      "cell_type": "code",
      "metadata": {
        "id": "PA643NSbyJ1t",
        "colab_type": "code",
        "colab": {}
      },
      "source": [
        "#Code for running Top Zip Code Analysis\n",
        "def ForecastTopZips(top):\n",
        "  zillowByTopZips = zillowUSA97to17.loc[zillowUSA97to17['RegionName']==top]\n",
        "  del zillowByTopZips.index.name\n",
        "  zillowByTopZips = zillowByTopZips.groupby(['Date'],as_index=False).mean()\n",
        "  zillowByTopZips = zillowByTopZips[['Value', 'Date']] \n",
        "  zillowByTopZips.index = pd.to_datetime(zillowByTopZips['Date'], format='%Y%m%d')\n",
        "  zillowByTopZips = zillowByTopZips.set_index('Date') \n",
        "  #if len(zillowByTopZips) < 3:\n",
        "    #return None\n",
        "  #elif len(zillowByTopZips) > 3:\n",
        "    #model_list=[\"ARIMA\",\"Gluonts\",\"Prophet\",\"NBEATS\", \"TBAT\", \"TATS\", \"TBATS1\", \"TBATP1\", \"TBATS2\"]\n",
        "  model_list=[\"ARIMA\",\"Gluonts\",\"Prophet\"]\n",
        "  am = AutomatedModel(df = zillowByTopZips, model_list=model_list, season=\"infer_from_data\",forecast_len=12)\n",
        "  forecast_in, performance = am.forecast_insample()\n",
        "  forecast_out = am.forecast_outsample()\n",
        "  all_ensemble_in, all_ensemble_out, all_performance = am.ensemble(forecast_in, forecast_out)\n",
        "  forecast_out.head()\n",
        "  print(forecast_out.head(12))\n",
        "  print(performance.head(12))\n",
        "  all_performance\n",
        "  all_ensemble_in[[\"Target\",\"Prophet\",\"ARIMA\",\"Gluonts\"]].plot()\n",
        "  all_ensemble_in\n",
        "  all_ensemble_out\n",
        "  all_ensemble_out[[\"Prophet\",\"ARIMA\",\"Gluonts\"]].plot()\n",
        "  am.models_dict_in\n",
        "  am.models_dict_out"
      ],
      "execution_count": 0,
      "outputs": []
    },
    {
      "cell_type": "code",
      "metadata": {
        "id": "9jpzd7MO1dr1",
        "colab_type": "code",
        "outputId": "91b5ad80-5cf5-420f-c1e3-7af7cc7d03ff",
        "colab": {
          "base_uri": "https://localhost:8080/",
          "height": 1000
        }
      },
      "source": [
        "ForecastTopZips(\"08401\")"
      ],
      "execution_count": 0,
      "outputs": [
        {
          "output_type": "stream",
          "text": [
            "<class 'pandas.core.frame.DataFrame'>\n",
            "The data has been successfully parsed by infering a frequency, and establishing a 'Date' index and 'Target' column.\n",
            "189\n",
            "An insample split of training size 189 and testing size 63 has been constructed\n",
            "Model ARIMA is being trained for in sample prediction\n"
          ],
          "name": "stdout"
        },
        {
          "output_type": "stream",
          "text": [
            "INFO:root:Start model training\n",
            "INFO:root:Epoch[0] Learning rate is 0.001\n",
            "  0%|          | 0/50 [00:00<?, ?it/s]"
          ],
          "name": "stderr"
        },
        {
          "output_type": "stream",
          "text": [
            "Model Gluonts is being trained for in sample prediction\n"
          ],
          "name": "stdout"
        },
        {
          "output_type": "stream",
          "text": [
            "INFO:root:Number of parameters in DeepARTrainingNetwork: 23324\n",
            "100%|██████████| 50/50 [00:07<00:00,  6.59it/s, avg_epoch_loss=11.8]\n",
            "INFO:root:Epoch[0] Elapsed time 7.588 seconds\n",
            "INFO:root:Epoch[0] Evaluation metric 'epoch_loss'=11.791581\n",
            "INFO:root:Epoch[1] Learning rate is 0.001\n",
            "100%|██████████| 50/50 [00:07<00:00,  6.88it/s, avg_epoch_loss=10.2]\n",
            "INFO:root:Epoch[1] Elapsed time 7.273 seconds\n",
            "INFO:root:Epoch[1] Evaluation metric 'epoch_loss'=10.201271\n",
            "INFO:root:Epoch[2] Learning rate is 0.001\n",
            "100%|██████████| 50/50 [00:07<00:00,  6.97it/s, avg_epoch_loss=9.71]\n",
            "INFO:root:Epoch[2] Elapsed time 7.171 seconds\n",
            "INFO:root:Epoch[2] Evaluation metric 'epoch_loss'=9.710132\n",
            "INFO:root:Epoch[3] Learning rate is 0.001\n",
            "100%|██████████| 50/50 [00:07<00:00,  6.82it/s, avg_epoch_loss=9.44]\n",
            "INFO:root:Epoch[3] Elapsed time 7.332 seconds\n",
            "INFO:root:Epoch[3] Evaluation metric 'epoch_loss'=9.438015\n",
            "INFO:root:Epoch[4] Learning rate is 0.001\n",
            "100%|██████████| 50/50 [00:07<00:00,  6.99it/s, avg_epoch_loss=9.32]\n",
            "INFO:root:Epoch[4] Elapsed time 7.158 seconds\n",
            "INFO:root:Epoch[4] Evaluation metric 'epoch_loss'=9.323098\n",
            "INFO:root:Epoch[5] Learning rate is 0.001\n",
            "100%|██████████| 50/50 [00:07<00:00,  6.64it/s, avg_epoch_loss=9.4]\n",
            "INFO:root:Epoch[5] Elapsed time 7.534 seconds\n",
            "INFO:root:Epoch[5] Evaluation metric 'epoch_loss'=9.400416\n",
            "INFO:root:Loading parameters from best epoch (4)\n",
            "INFO:root:Final loss: 9.323098068237305 (occurred at epoch 4)\n",
            "INFO:root:End model training\n",
            "INFO:fbprophet:Disabling weekly seasonality. Run prophet with weekly_seasonality=True to override this.\n",
            "INFO:fbprophet:Disabling daily seasonality. Run prophet with daily_seasonality=True to override this.\n"
          ],
          "name": "stderr"
        },
        {
          "output_type": "stream",
          "text": [
            "Model Prophet is being trained for in sample prediction\n",
            "Model ARIMA is being used to forcast in sample\n",
            "Model Gluonts is being used to forcast in sample\n",
            "Model Prophet is being used to forcast in sample\n",
            "Successfully finished in sample forecast\n",
            "<class 'pandas.core.frame.DataFrame'>\n",
            "The data has been successfully parsed by infering a frequency, and establishing a 'Date' index and 'Target' column.\n",
            "Model ARIMA is being trained for out of sample prediction\n"
          ],
          "name": "stdout"
        },
        {
          "output_type": "stream",
          "text": [
            "INFO:root:Start model training\n",
            "INFO:root:Epoch[0] Learning rate is 0.001\n",
            "  0%|          | 0/50 [00:00<?, ?it/s]"
          ],
          "name": "stderr"
        },
        {
          "output_type": "stream",
          "text": [
            "Model Gluonts is being trained for out of sample prediction\n"
          ],
          "name": "stdout"
        },
        {
          "output_type": "stream",
          "text": [
            "INFO:root:Number of parameters in DeepARTrainingNetwork: 23324\n",
            "100%|██████████| 50/50 [00:01<00:00, 26.49it/s, avg_epoch_loss=12.2]\n",
            "INFO:root:Epoch[0] Elapsed time 1.890 seconds\n",
            "INFO:root:Epoch[0] Evaluation metric 'epoch_loss'=12.187283\n",
            "INFO:root:Epoch[1] Learning rate is 0.001\n",
            "100%|██████████| 50/50 [00:01<00:00, 27.14it/s, avg_epoch_loss=10.8]\n",
            "INFO:root:Epoch[1] Elapsed time 1.846 seconds\n",
            "INFO:root:Epoch[1] Evaluation metric 'epoch_loss'=10.756082\n",
            "INFO:root:Epoch[2] Learning rate is 0.001\n",
            "100%|██████████| 50/50 [00:01<00:00, 27.93it/s, avg_epoch_loss=10.4]\n",
            "INFO:root:Epoch[2] Elapsed time 1.792 seconds\n",
            "INFO:root:Epoch[2] Evaluation metric 'epoch_loss'=10.404580\n",
            "INFO:root:Epoch[3] Learning rate is 0.001\n",
            "100%|██████████| 50/50 [00:01<00:00, 27.68it/s, avg_epoch_loss=10.1]\n",
            "INFO:root:Epoch[3] Elapsed time 1.810 seconds\n",
            "INFO:root:Epoch[3] Evaluation metric 'epoch_loss'=10.072367\n",
            "INFO:root:Epoch[4] Learning rate is 0.001\n",
            "100%|██████████| 50/50 [00:01<00:00, 27.59it/s, avg_epoch_loss=10.1]\n",
            "INFO:root:Epoch[4] Elapsed time 1.815 seconds\n",
            "INFO:root:Epoch[4] Evaluation metric 'epoch_loss'=10.085969\n",
            "INFO:root:Epoch[5] Learning rate is 0.001\n",
            "100%|██████████| 50/50 [00:01<00:00, 26.25it/s, avg_epoch_loss=9.99]\n",
            "INFO:root:Epoch[5] Elapsed time 1.909 seconds\n",
            "INFO:root:Epoch[5] Evaluation metric 'epoch_loss'=9.992704\n",
            "INFO:root:Loading parameters from best epoch (5)\n",
            "INFO:root:Final loss: 9.992703952789306 (occurred at epoch 5)\n",
            "INFO:root:End model training\n",
            "INFO:fbprophet:Disabling weekly seasonality. Run prophet with weekly_seasonality=True to override this.\n",
            "INFO:fbprophet:Disabling daily seasonality. Run prophet with daily_seasonality=True to override this.\n"
          ],
          "name": "stderr"
        },
        {
          "output_type": "stream",
          "text": [
            "Model Prophet is being trained for out of sample prediction\n",
            "Model ARIMA is being used to forcast out of sample\n",
            "Model Gluonts is being used to forcast out of sample\n",
            "Model Prophet is being used to forcast out of sample\n",
            "Successfully finished out of sample forecast\n",
            "Building LightGBM Ensemble from TS data (ensemble_lgb)\n",
            "Building LightGBM Ensemble from PCA reduced TSFresh Features (ensemble_ts). This can take a long time.\n",
            "LightGBM ensemble have been successfully built\n",
            "327  variables are found to be almost constant\n"
          ],
          "name": "stdout"
        },
        {
          "output_type": "error",
          "ename": "ValueError",
          "evalue": "ignored",
          "traceback": [
            "\u001b[0;31m---------------------------------------------------------------------------\u001b[0m",
            "\u001b[0;31mValueError\u001b[0m                                Traceback (most recent call last)",
            "\u001b[0;32m<ipython-input-351-885c8ef52c93>\u001b[0m in \u001b[0;36m<module>\u001b[0;34m()\u001b[0m\n\u001b[0;32m----> 1\u001b[0;31m \u001b[0mForecastTopZips\u001b[0m\u001b[0;34m(\u001b[0m\u001b[0;34m\"08401\"\u001b[0m\u001b[0;34m)\u001b[0m\u001b[0;34m\u001b[0m\u001b[0;34m\u001b[0m\u001b[0m\n\u001b[0m",
            "\u001b[0;32m<ipython-input-350-3e7c0e61616d>\u001b[0m in \u001b[0;36mForecastTopZips\u001b[0;34m(top)\u001b[0m\n\u001b[1;32m     14\u001b[0m   \u001b[0mforecast_in\u001b[0m\u001b[0;34m,\u001b[0m \u001b[0mperformance\u001b[0m \u001b[0;34m=\u001b[0m \u001b[0mam\u001b[0m\u001b[0;34m.\u001b[0m\u001b[0mforecast_insample\u001b[0m\u001b[0;34m(\u001b[0m\u001b[0;34m)\u001b[0m\u001b[0;34m\u001b[0m\u001b[0;34m\u001b[0m\u001b[0m\n\u001b[1;32m     15\u001b[0m   \u001b[0mforecast_out\u001b[0m \u001b[0;34m=\u001b[0m \u001b[0mam\u001b[0m\u001b[0;34m.\u001b[0m\u001b[0mforecast_outsample\u001b[0m\u001b[0;34m(\u001b[0m\u001b[0;34m)\u001b[0m\u001b[0;34m\u001b[0m\u001b[0;34m\u001b[0m\u001b[0m\n\u001b[0;32m---> 16\u001b[0;31m   \u001b[0mall_ensemble_in\u001b[0m\u001b[0;34m,\u001b[0m \u001b[0mall_ensemble_out\u001b[0m\u001b[0;34m,\u001b[0m \u001b[0mall_performance\u001b[0m \u001b[0;34m=\u001b[0m \u001b[0mam\u001b[0m\u001b[0;34m.\u001b[0m\u001b[0mensemble\u001b[0m\u001b[0;34m(\u001b[0m\u001b[0mforecast_in\u001b[0m\u001b[0;34m,\u001b[0m \u001b[0mforecast_out\u001b[0m\u001b[0;34m)\u001b[0m\u001b[0;34m\u001b[0m\u001b[0;34m\u001b[0m\u001b[0m\n\u001b[0m\u001b[1;32m     17\u001b[0m   \u001b[0mforecast_out\u001b[0m\u001b[0;34m.\u001b[0m\u001b[0mhead\u001b[0m\u001b[0;34m(\u001b[0m\u001b[0;34m)\u001b[0m\u001b[0;34m\u001b[0m\u001b[0;34m\u001b[0m\u001b[0m\n\u001b[1;32m     18\u001b[0m   \u001b[0mprint\u001b[0m\u001b[0;34m(\u001b[0m\u001b[0mforecast_out\u001b[0m\u001b[0;34m.\u001b[0m\u001b[0mhead\u001b[0m\u001b[0;34m(\u001b[0m\u001b[0;36m12\u001b[0m\u001b[0;34m)\u001b[0m\u001b[0;34m)\u001b[0m\u001b[0;34m\u001b[0m\u001b[0;34m\u001b[0m\u001b[0m\n",
            "\u001b[0;32m/usr/local/lib/python3.6/dist-packages/atspy/__init__.py\u001b[0m in \u001b[0;36mensemble\u001b[0;34m(self, forecast_in, forecast_out)\u001b[0m\n\u001b[1;32m    878\u001b[0m       \u001b[0mprint\u001b[0m\u001b[0;34m(\u001b[0m\u001b[0;34m\"Building LightGBM Ensemble from PCA reduced TSFresh Features (ensemble_ts). This can take a long time.\"\u001b[0m\u001b[0;34m)\u001b[0m\u001b[0;34m\u001b[0m\u001b[0;34m\u001b[0m\u001b[0m\n\u001b[1;32m    879\u001b[0m \u001b[0;34m\u001b[0m\u001b[0m\n\u001b[0;32m--> 880\u001b[0;31m       \u001b[0mensemble_ts_in\u001b[0m\u001b[0;34m,\u001b[0m \u001b[0mensemble_ts_out\u001b[0m \u001b[0;34m=\u001b[0m \u001b[0mensemble_tsfresh\u001b[0m\u001b[0;34m(\u001b[0m\u001b[0mforecast_in\u001b[0m\u001b[0;34m,\u001b[0m \u001b[0mforecast_out\u001b[0m\u001b[0;34m,\u001b[0m \u001b[0mseason\u001b[0m\u001b[0;34m,\u001b[0m \u001b[0mself\u001b[0m\u001b[0;34m.\u001b[0m\u001b[0mfreq\u001b[0m\u001b[0;34m)\u001b[0m\u001b[0;34m\u001b[0m\u001b[0;34m\u001b[0m\u001b[0m\n\u001b[0m\u001b[1;32m    881\u001b[0m \u001b[0;34m\u001b[0m\u001b[0m\n\u001b[1;32m    882\u001b[0m       \u001b[0mprint\u001b[0m\u001b[0;34m(\u001b[0m\u001b[0;34m\"Building Standard First Level Ensemble\"\u001b[0m\u001b[0;34m)\u001b[0m\u001b[0;34m\u001b[0m\u001b[0;34m\u001b[0m\u001b[0m\n",
            "\u001b[0;32m/usr/local/lib/python3.6/dist-packages/atspy/__init__.py\u001b[0m in \u001b[0;36mensemble_tsfresh\u001b[0;34m(forecast_in, forecast_out, season, perd)\u001b[0m\n\u001b[1;32m    685\u001b[0m \u001b[0;34m\u001b[0m\u001b[0m\n\u001b[1;32m    686\u001b[0m   \u001b[0mpca2\u001b[0m \u001b[0;34m=\u001b[0m \u001b[0mPCA\u001b[0m\u001b[0;34m(\u001b[0m\u001b[0mn_components\u001b[0m\u001b[0;34m=\u001b[0m\u001b[0;36m8\u001b[0m\u001b[0;34m)\u001b[0m\u001b[0;34m\u001b[0m\u001b[0;34m\u001b[0m\u001b[0m\n\u001b[0;32m--> 687\u001b[0;31m   \u001b[0mpca2\u001b[0m\u001b[0;34m.\u001b[0m\u001b[0mfit\u001b[0m\u001b[0;34m(\u001b[0m\u001b[0mextracted_n_selected\u001b[0m\u001b[0;34m)\u001b[0m\u001b[0;34m\u001b[0m\u001b[0;34m\u001b[0m\u001b[0m\n\u001b[0m\u001b[1;32m    688\u001b[0m   \u001b[0mpca2_results_in\u001b[0m \u001b[0;34m=\u001b[0m \u001b[0mpca2\u001b[0m\u001b[0;34m.\u001b[0m\u001b[0mtransform\u001b[0m\u001b[0;34m(\u001b[0m\u001b[0mextracted_n_selected\u001b[0m\u001b[0;34m)\u001b[0m\u001b[0;34m\u001b[0m\u001b[0;34m\u001b[0m\u001b[0m\n\u001b[1;32m    689\u001b[0m   \u001b[0mpca2_results_out\u001b[0m \u001b[0;34m=\u001b[0m \u001b[0mpca2\u001b[0m\u001b[0;34m.\u001b[0m\u001b[0mtransform\u001b[0m\u001b[0;34m(\u001b[0m\u001b[0mextracted_n_selected_out\u001b[0m\u001b[0;34m)\u001b[0m\u001b[0;34m\u001b[0m\u001b[0;34m\u001b[0m\u001b[0m\n",
            "\u001b[0;32m/usr/local/lib/python3.6/dist-packages/sklearn/decomposition/_pca.py\u001b[0m in \u001b[0;36mfit\u001b[0;34m(self, X, y)\u001b[0m\n\u001b[1;32m    342\u001b[0m             \u001b[0mReturns\u001b[0m \u001b[0mthe\u001b[0m \u001b[0minstance\u001b[0m \u001b[0mitself\u001b[0m\u001b[0;34m.\u001b[0m\u001b[0;34m\u001b[0m\u001b[0;34m\u001b[0m\u001b[0m\n\u001b[1;32m    343\u001b[0m         \"\"\"\n\u001b[0;32m--> 344\u001b[0;31m         \u001b[0mself\u001b[0m\u001b[0;34m.\u001b[0m\u001b[0m_fit\u001b[0m\u001b[0;34m(\u001b[0m\u001b[0mX\u001b[0m\u001b[0;34m)\u001b[0m\u001b[0;34m\u001b[0m\u001b[0;34m\u001b[0m\u001b[0m\n\u001b[0m\u001b[1;32m    345\u001b[0m         \u001b[0;32mreturn\u001b[0m \u001b[0mself\u001b[0m\u001b[0;34m\u001b[0m\u001b[0;34m\u001b[0m\u001b[0m\n\u001b[1;32m    346\u001b[0m \u001b[0;34m\u001b[0m\u001b[0m\n",
            "\u001b[0;32m/usr/local/lib/python3.6/dist-packages/sklearn/decomposition/_pca.py\u001b[0m in \u001b[0;36m_fit\u001b[0;34m(self, X)\u001b[0m\n\u001b[1;32m    389\u001b[0m \u001b[0;34m\u001b[0m\u001b[0m\n\u001b[1;32m    390\u001b[0m         X = check_array(X, dtype=[np.float64, np.float32], ensure_2d=True,\n\u001b[0;32m--> 391\u001b[0;31m                         copy=self.copy)\n\u001b[0m\u001b[1;32m    392\u001b[0m \u001b[0;34m\u001b[0m\u001b[0m\n\u001b[1;32m    393\u001b[0m         \u001b[0;31m# Handle n_components==None\u001b[0m\u001b[0;34m\u001b[0m\u001b[0;34m\u001b[0m\u001b[0;34m\u001b[0m\u001b[0m\n",
            "\u001b[0;32m/usr/local/lib/python3.6/dist-packages/sklearn/utils/validation.py\u001b[0m in \u001b[0;36mcheck_array\u001b[0;34m(array, accept_sparse, accept_large_sparse, dtype, order, copy, force_all_finite, ensure_2d, allow_nd, ensure_min_samples, ensure_min_features, warn_on_dtype, estimator)\u001b[0m\n\u001b[1;32m    473\u001b[0m \u001b[0;34m\u001b[0m\u001b[0m\n\u001b[1;32m    474\u001b[0m         \u001b[0;32mif\u001b[0m \u001b[0mall\u001b[0m\u001b[0;34m(\u001b[0m\u001b[0misinstance\u001b[0m\u001b[0;34m(\u001b[0m\u001b[0mdtype\u001b[0m\u001b[0;34m,\u001b[0m \u001b[0mnp\u001b[0m\u001b[0;34m.\u001b[0m\u001b[0mdtype\u001b[0m\u001b[0;34m)\u001b[0m \u001b[0;32mfor\u001b[0m \u001b[0mdtype\u001b[0m \u001b[0;32min\u001b[0m \u001b[0mdtypes_orig\u001b[0m\u001b[0;34m)\u001b[0m\u001b[0;34m:\u001b[0m\u001b[0;34m\u001b[0m\u001b[0;34m\u001b[0m\u001b[0m\n\u001b[0;32m--> 475\u001b[0;31m             \u001b[0mdtype_orig\u001b[0m \u001b[0;34m=\u001b[0m \u001b[0mnp\u001b[0m\u001b[0;34m.\u001b[0m\u001b[0mresult_type\u001b[0m\u001b[0;34m(\u001b[0m\u001b[0;34m*\u001b[0m\u001b[0mdtypes_orig\u001b[0m\u001b[0;34m)\u001b[0m\u001b[0;34m\u001b[0m\u001b[0;34m\u001b[0m\u001b[0m\n\u001b[0m\u001b[1;32m    476\u001b[0m \u001b[0;34m\u001b[0m\u001b[0m\n\u001b[1;32m    477\u001b[0m     \u001b[0;32mif\u001b[0m \u001b[0mdtype_numeric\u001b[0m\u001b[0;34m:\u001b[0m\u001b[0;34m\u001b[0m\u001b[0;34m\u001b[0m\u001b[0m\n",
            "\u001b[0;32m<__array_function__ internals>\u001b[0m in \u001b[0;36mresult_type\u001b[0;34m(*args, **kwargs)\u001b[0m\n",
            "\u001b[0;31mValueError\u001b[0m: at least one array or dtype is required"
          ]
        }
      ]
    },
    {
      "cell_type": "code",
      "metadata": {
        "id": "pLb7qGAV646M",
        "colab_type": "code",
        "colab": {}
      },
      "source": [
        "ForecastTopZips(\"08232\")"
      ],
      "execution_count": 0,
      "outputs": []
    },
    {
      "cell_type": "code",
      "metadata": {
        "id": "RH09w-nk65HH",
        "colab_type": "code",
        "colab": {}
      },
      "source": [
        "ForecastTopZips(\"60475\")"
      ],
      "execution_count": 0,
      "outputs": []
    },
    {
      "cell_type": "code",
      "metadata": {
        "id": "OYRmXvUG7IOY",
        "colab_type": "code",
        "colab": {}
      },
      "source": [
        "ForecastTopZips(\"08241\")"
      ],
      "execution_count": 0,
      "outputs": []
    },
    {
      "cell_type": "code",
      "metadata": {
        "id": "9ITyZLUm7MG8",
        "colab_type": "code",
        "colab": {}
      },
      "source": [
        "ForecastTopZips(\"19013\")"
      ],
      "execution_count": 0,
      "outputs": []
    },
    {
      "cell_type": "markdown",
      "metadata": {
        "id": "YROxrEOCQPDi",
        "colab_type": "text"
      },
      "source": [
        "# 3.0 - INTERPRET"
      ]
    },
    {
      "cell_type": "code",
      "metadata": {
        "id": "HdschxkmvQRb",
        "colab_type": "code",
        "colab": {}
      },
      "source": [
        "#Bar plot of Forecast growth using Zillow data from 1997-2017 data and predicting 2018\n",
        "height = Z_Top5_97_18.Growth97_18.sort_values(ascending=False)\n",
        "bars = Z_Top5_97_18.RegionName\n",
        "y_pos = np.arange(len(bars))\n",
        " # Create bars\n",
        "plt.bar(y_pos, height)\n",
        "# Create names on the x-axis\n",
        "plt.xticks(y_pos, bars)\n",
        "# Add title and axis names\n",
        "plt.title('Top Zip Codes for Projected Growth from 1997 to 2018 based on 1997-2017 Zillow Average Housing Data')\n",
        "plt.xlabel('Zip Codes')\n",
        "plt.ylabel('Percent Increase (1.0 = 100%)')\n",
        "# Show graphic\n",
        "plt.show()"
      ],
      "execution_count": 0,
      "outputs": []
    },
    {
      "cell_type": "code",
      "metadata": {
        "id": "au8MR57ev566",
        "colab_type": "code",
        "colab": {}
      },
      "source": [
        "#Bar plot of Forecast growth using Zillow data from 1997-2017 data and predicting 2018\n",
        "height = Z_Top5_17_18.Growth17_18.sort_values(ascending=False)\n",
        "bars = Z_Top5_17_18.RegionName\n",
        "y_pos = np.arange(len(bars))\n",
        " # Create bars\n",
        "plt.bar(y_pos, height)\n",
        "# Create names on the x-axis\n",
        "plt.xticks(y_pos, bars)\n",
        "# Add title and axis names\n",
        "plt.title('Top Zip Codes for Projected Growth from 2017 to 2018 based on 1997-2017 Zillow Average Housing Data')\n",
        "plt.xlabel('Zip Codes')\n",
        "plt.ylabel('Percent Increase (1.0 = 100%)')\n",
        "# Show graphic\n",
        "plt.show()"
      ],
      "execution_count": 0,
      "outputs": []
    },
    {
      "cell_type": "code",
      "metadata": {
        "id": "ZLGxpnxcwKZ3",
        "colab_type": "code",
        "colab": {}
      },
      "source": [
        "#Bar plot of Forecast GDP growth using 2001-2017 data and predicting 2018\n",
        "height = G_Top5_01_18.Growth01_18.sort_values(ascending=False)\n",
        "bars = G_Top5_01_18.ZIP_x\n",
        "y_pos = np.arange(len(bars))\n",
        " # Create bars\n",
        "plt.bar(y_pos, height)\n",
        "# Create names on the x-axis\n",
        "plt.xticks(y_pos, bars)\n",
        "# Add title and axis names\n",
        "plt.title('Evaluation of Zillow Forecasted Top Zip Codes for 1997-2018 with 2001-2017 GDP Data')\n",
        "plt.xlabel('Zip Codes')\n",
        "plt.ylabel('Percent Increase (1.0 = 100%)')\n",
        "# Show graphic\n",
        "plt.show()"
      ],
      "execution_count": 0,
      "outputs": []
    },
    {
      "cell_type": "code",
      "metadata": {
        "id": "q_LKc_KDwXda",
        "colab_type": "code",
        "colab": {}
      },
      "source": [
        "#Bar plot of Forecast GDP growth using 2001-2017 data and predicting 2018\n",
        "height = G_Top5_17_18.Growth17_18.sort_values(ascending=False)\n",
        "bars = G_Top5_17_18.ZIP_x\n",
        "y_pos = np.arange(len(bars))\n",
        " # Create bars\n",
        "plt.bar(y_pos, height)\n",
        "# Create names on the x-axis\n",
        "plt.xticks(y_pos, bars)\n",
        "# Add title and axis names\n",
        "plt.title('Evaluation of Zillow Forecasted Top Zip Codes for 2017-2018 with 2001-2017 GDP Data')\n",
        "plt.xlabel('Zip Codes')\n",
        "plt.ylabel('Percent Increase (1.0 = 100%)')\n",
        "# Show graphic\n",
        "plt.show()"
      ],
      "execution_count": 0,
      "outputs": []
    },
    {
      "cell_type": "markdown",
      "metadata": {
        "id": "D8nXIuiw-nH2",
        "colab_type": "text"
      },
      "source": [
        "# 4.0 - MAPPING"
      ]
    },
    {
      "cell_type": "code",
      "metadata": {
        "id": "wHfllvqw-uu1",
        "colab_type": "code",
        "outputId": "0ce07eaf-4dc8-406d-cd83-bacf581d15ee",
        "colab": {
          "base_uri": "https://localhost:8080/",
          "height": 402
        }
      },
      "source": [
        "ZipMap = pd.read_csv(\"/content/drive/My Drive/Colab Notebooks/IST718/Lab2/us-zip-code-latitude-and-longitude.csv\", sep=';')\n",
        "ZipMap"
      ],
      "execution_count": 0,
      "outputs": [
        {
          "output_type": "execute_result",
          "data": {
            "text/html": [
              "<div>\n",
              "<style scoped>\n",
              "    .dataframe tbody tr th:only-of-type {\n",
              "        vertical-align: middle;\n",
              "    }\n",
              "\n",
              "    .dataframe tbody tr th {\n",
              "        vertical-align: top;\n",
              "    }\n",
              "\n",
              "    .dataframe thead th {\n",
              "        text-align: right;\n",
              "    }\n",
              "</style>\n",
              "<table border=\"1\" class=\"dataframe\">\n",
              "  <thead>\n",
              "    <tr style=\"text-align: right;\">\n",
              "      <th></th>\n",
              "      <th>Zip</th>\n",
              "      <th>City</th>\n",
              "      <th>State</th>\n",
              "      <th>Latitude</th>\n",
              "      <th>Longitude</th>\n",
              "      <th>Timezone</th>\n",
              "      <th>Daylight savings time flag</th>\n",
              "      <th>geopoint</th>\n",
              "    </tr>\n",
              "  </thead>\n",
              "  <tbody>\n",
              "    <tr>\n",
              "      <th>0</th>\n",
              "      <td>71937</td>\n",
              "      <td>Cove</td>\n",
              "      <td>AR</td>\n",
              "      <td>34.398483</td>\n",
              "      <td>-94.393980</td>\n",
              "      <td>-6</td>\n",
              "      <td>1</td>\n",
              "      <td>34.398483,-94.39398</td>\n",
              "    </tr>\n",
              "    <tr>\n",
              "      <th>1</th>\n",
              "      <td>72044</td>\n",
              "      <td>Edgemont</td>\n",
              "      <td>AR</td>\n",
              "      <td>35.624351</td>\n",
              "      <td>-92.160560</td>\n",
              "      <td>-6</td>\n",
              "      <td>1</td>\n",
              "      <td>35.624351,-92.16056</td>\n",
              "    </tr>\n",
              "    <tr>\n",
              "      <th>2</th>\n",
              "      <td>56171</td>\n",
              "      <td>Sherburn</td>\n",
              "      <td>MN</td>\n",
              "      <td>43.660847</td>\n",
              "      <td>-94.743570</td>\n",
              "      <td>-6</td>\n",
              "      <td>1</td>\n",
              "      <td>43.660847,-94.74357</td>\n",
              "    </tr>\n",
              "    <tr>\n",
              "      <th>3</th>\n",
              "      <td>49430</td>\n",
              "      <td>Lamont</td>\n",
              "      <td>MI</td>\n",
              "      <td>43.010337</td>\n",
              "      <td>-85.897540</td>\n",
              "      <td>-5</td>\n",
              "      <td>1</td>\n",
              "      <td>43.010337,-85.89754</td>\n",
              "    </tr>\n",
              "    <tr>\n",
              "      <th>4</th>\n",
              "      <td>52585</td>\n",
              "      <td>Richland</td>\n",
              "      <td>IA</td>\n",
              "      <td>41.194129</td>\n",
              "      <td>-91.980270</td>\n",
              "      <td>-6</td>\n",
              "      <td>1</td>\n",
              "      <td>41.194129,-91.98027</td>\n",
              "    </tr>\n",
              "    <tr>\n",
              "      <th>...</th>\n",
              "      <td>...</td>\n",
              "      <td>...</td>\n",
              "      <td>...</td>\n",
              "      <td>...</td>\n",
              "      <td>...</td>\n",
              "      <td>...</td>\n",
              "      <td>...</td>\n",
              "      <td>...</td>\n",
              "    </tr>\n",
              "    <tr>\n",
              "      <th>43186</th>\n",
              "      <td>45002</td>\n",
              "      <td>Cleves</td>\n",
              "      <td>OH</td>\n",
              "      <td>39.180358</td>\n",
              "      <td>-84.737830</td>\n",
              "      <td>-5</td>\n",
              "      <td>1</td>\n",
              "      <td>39.180358,-84.73783</td>\n",
              "    </tr>\n",
              "    <tr>\n",
              "      <th>43187</th>\n",
              "      <td>38695</td>\n",
              "      <td>Water Valley</td>\n",
              "      <td>MS</td>\n",
              "      <td>34.164116</td>\n",
              "      <td>-89.625197</td>\n",
              "      <td>-6</td>\n",
              "      <td>1</td>\n",
              "      <td>34.164116,-89.625197</td>\n",
              "    </tr>\n",
              "    <tr>\n",
              "      <th>43188</th>\n",
              "      <td>43828</td>\n",
              "      <td>Keene</td>\n",
              "      <td>OH</td>\n",
              "      <td>40.351271</td>\n",
              "      <td>-81.873607</td>\n",
              "      <td>-5</td>\n",
              "      <td>1</td>\n",
              "      <td>40.351271,-81.873607</td>\n",
              "    </tr>\n",
              "    <tr>\n",
              "      <th>43189</th>\n",
              "      <td>30177</td>\n",
              "      <td>Tate</td>\n",
              "      <td>GA</td>\n",
              "      <td>34.418116</td>\n",
              "      <td>-84.384620</td>\n",
              "      <td>-5</td>\n",
              "      <td>1</td>\n",
              "      <td>34.418116,-84.38462</td>\n",
              "    </tr>\n",
              "    <tr>\n",
              "      <th>43190</th>\n",
              "      <td>45305</td>\n",
              "      <td>Bellbrook</td>\n",
              "      <td>OH</td>\n",
              "      <td>39.640059</td>\n",
              "      <td>-84.085500</td>\n",
              "      <td>-5</td>\n",
              "      <td>1</td>\n",
              "      <td>39.640059,-84.0855</td>\n",
              "    </tr>\n",
              "  </tbody>\n",
              "</table>\n",
              "<p>43191 rows × 8 columns</p>\n",
              "</div>"
            ],
            "text/plain": [
              "         Zip          City  ... Daylight savings time flag              geopoint\n",
              "0      71937          Cove  ...                          1   34.398483,-94.39398\n",
              "1      72044      Edgemont  ...                          1   35.624351,-92.16056\n",
              "2      56171      Sherburn  ...                          1   43.660847,-94.74357\n",
              "3      49430        Lamont  ...                          1   43.010337,-85.89754\n",
              "4      52585      Richland  ...                          1   41.194129,-91.98027\n",
              "...      ...           ...  ...                        ...                   ...\n",
              "43186  45002        Cleves  ...                          1   39.180358,-84.73783\n",
              "43187  38695  Water Valley  ...                          1  34.164116,-89.625197\n",
              "43188  43828         Keene  ...                          1  40.351271,-81.873607\n",
              "43189  30177          Tate  ...                          1   34.418116,-84.38462\n",
              "43190  45305     Bellbrook  ...                          1    39.640059,-84.0855\n",
              "\n",
              "[43191 rows x 8 columns]"
            ]
          },
          "metadata": {
            "tags": []
          },
          "execution_count": 336
        }
      ]
    },
    {
      "cell_type": "code",
      "metadata": {
        "id": "hG5vEXYWBW9o",
        "colab_type": "code",
        "colab": {}
      },
      "source": [
        "#Create df with name,pop, lat, lon (School, TotalComp, latitude, longitude)\n",
        "\n",
        "df = coaches5[['School','TotalComp','latitude','longitude','Conference']]\n",
        "df = df.sort_values(by=['Conference'],ascending=True)\n",
        "df = df.reset_index()"
      ],
      "execution_count": 0,
      "outputs": []
    },
    {
      "cell_type": "code",
      "metadata": {
        "id": "MaSO9RxVA-9w",
        "colab_type": "code",
        "colab": {}
      },
      "source": [
        "# THIS IS AN INTERACTIVE GRAPHIC.  CLICK THE LEGEND BUBBLES TO SHOW/HIDE DIFFERENT REGIONS.\n",
        "# The plot could be improved by replacing the numbers in the legend with the names of the regions.\n",
        "# However, this was difficult technically and the left legend was added as a temporary solution.\n",
        "\n",
        "#Geographic view of Coaches Compensation by School.  Code Source: https://plotly.com/python/bubble-maps/\n",
        "#df['text'] = df['School'] + \" \" + (df['TotalComp']/1e6).astype(str)+' million'\n",
        "limits = [(0,9),(9,23),(23,32),(32,46),(46,59),(59,62),(62,73),(73,85),(85,97),(97,110)]\n",
        "colors = [\"royalblue\",\"crimson\",\"lightseagreen\",\"orange\",\"lightgrey\"]\n",
        "#cities = []\n",
        "scale = 5000\n",
        "\n",
        "fig = go.Figure()\n",
        "\n",
        "for i in range(len(limits)):\n",
        "    lim = limits[i]\n",
        "    df_sub = df[lim[0]:lim[1]]\n",
        "    fig.add_trace(go.Scattergeo(\n",
        "        locationmode = 'USA-states',\n",
        "        lon = df_sub['longitude'],\n",
        "        lat = df_sub['latitude'],\n",
        "        #text = df_sub['School'],\n",
        "        text = df_sub['text'],\n",
        "        marker = dict(\n",
        "            size = df_sub['TotalComp']/scale,\n",
        "            #color = colors[i],\n",
        "            line_color='rgb(40,40,40)',\n",
        "            line_width=0.5,\n",
        "            sizemode = 'area'\n",
        "        ),\n",
        "        name = '{0} - {1}'.format(lim[0],lim[1])))\n",
        "\n",
        "fig.update_layout(\n",
        "        title_text = 'NCAA Division 1 Coaches by Total Compensation\\\n",
        "        <br><br>AAC(0-9)<br>ACC(9-23)\\\n",
        "        <br>Big 12(23-32)<br>Big Ten(32-46)<br>C-USA(46-59)<br>Ind.(59-62)\\\n",
        "        <br>MAC(62-73)<br>Mt. West(73-85)<br>PAC-12(85-97)<br>SEC(97-110)\\\n",
        "        <br><br>(Click legend to<br> toggle Conferences)',\n",
        "        showlegend = True,\n",
        "        geo = dict(\n",
        "            scope = 'usa',\n",
        "            landcolor = 'rgb(217, 217, 217)',\n",
        "        )\n",
        "    )\n",
        "fig.show()"
      ],
      "execution_count": 0,
      "outputs": []
    },
    {
      "cell_type": "code",
      "metadata": {
        "id": "9r2qJK2PWphj",
        "colab_type": "code",
        "colab": {}
      },
      "source": [
        "raise SystemExit(\"Stop right there!\")"
      ],
      "execution_count": 0,
      "outputs": []
    },
    {
      "cell_type": "markdown",
      "metadata": {
        "id": "3niQWBaoLjpo",
        "colab_type": "text"
      },
      "source": [
        "# Time Series Code Book"
      ]
    },
    {
      "cell_type": "code",
      "metadata": {
        "id": "gfxWv7DxvlvB",
        "colab_type": "code",
        "colab": {}
      },
      "source": [
        "from statsmodels.tsa.stattools import adfuller\n",
        " \n",
        "# create a differenced series\n",
        "def difference(dataset, interval=1):\n",
        "\tdiff = list()\n",
        "\tfor i in range(interval, len(dataset)):\n",
        "\t\tvalue = dataset[i] - dataset[i - interval]\n",
        "\t\tdiff.append(value)\n",
        "\treturn Series(diff)\n",
        "\n",
        "#series1 = Series.from_csv('data/Dept1.csv', header=0)\n",
        "\n",
        "X = zillowARseries.values\n",
        "X = X.astype('float32')\n",
        "# difference data\n",
        "months_in_year = 12\n",
        "stationary = difference(X, months_in_year)\n",
        "stationary = stationary.astype(\"float\")\n",
        "stationary.index = zillowARseries.index[months_in_year:]\n",
        "# check if stationary\n",
        "result = adfuller(stationary)\n",
        "print('ADF Statistic: %f' % result[0])\n",
        "print('p-value: %f' % result[1])\n",
        "print('Critical Values:')\n",
        "for key, value in result[4].items():\n",
        "\tprint('\\t%s: %.3f' % (key, value))\n",
        "# save\n",
        "stationary.to_csv('/content/drive/My Drive/Colab Notebooks/stationary.csv')\n",
        "# plot\n",
        "stationary.plot()\n",
        "#pyplot.show()"
      ],
      "execution_count": 0,
      "outputs": []
    },
    {
      "cell_type": "code",
      "metadata": {
        "id": "N2xIBXxtw3p1",
        "colab_type": "code",
        "colab": {}
      },
      "source": [
        "# invert differenced value\n",
        "def inverse_difference(history, yhat, interval=1):\n",
        "\treturn yhat + history[-interval]"
      ],
      "execution_count": 0,
      "outputs": []
    },
    {
      "cell_type": "code",
      "metadata": {
        "id": "4tzkM6U5w8W6",
        "colab_type": "code",
        "colab": {}
      },
      "source": [
        "# USING STATIONARY TIME SERIES LOOK FOR ACF & PACF\n",
        "from statsmodels.graphics.tsaplots import plot_acf\n",
        "from statsmodels.graphics.tsaplots import plot_pacf\n",
        "\n",
        "stationary = read_csv('/content/drive/My Drive/Colab Notebooks/stationary.csv', header=0, parse_dates=[0], index_col=0, squeeze=True)\n",
        "\n",
        "stationary.plot()\n",
        "pyplot.show()\n",
        "\n",
        "plot_acf(stationary, ax=pyplot.gca())\n",
        "pyplot.show()\n",
        "\n",
        "plot_pacf(stationary, ax=pyplot.gca())\n",
        "pyplot.show()\n",
        "\n",
        "## DEPICTS SOME SEASONALITY IN PACF STILL\n",
        "## START POINT FOR ARIMA COULD BE 2,1,1"
      ],
      "execution_count": 0,
      "outputs": []
    },
    {
      "cell_type": "code",
      "metadata": {
        "id": "hL9GXUYBxg9w",
        "colab_type": "code",
        "colab": {}
      },
      "source": [
        "##CHECK THAT THERE ARE ENOUGH OBSERVATIONS IN VALIDATION\n",
        "\n",
        "# CREATE TRAIN-TEST DATA\n",
        "# DATA IS WEEKLY FOR 2+ years\n",
        "# KEEP ONE QUARTER - 13 weeks - AS THE TEST DATA\n",
        "#series = Series.from_csv('data/Dept1.csv', header=0)\n",
        "split_point = len(zillowARseries) - 13\n",
        "dataset, validation = zillowARseries[0:split_point], zillowARseries[split_point:]\n",
        "print('Dataset %d, Validation %d' % (len(dataset), len(validation)))\n",
        "dataset.to_csv('/content/drive/My Drive/Colab Notebooks/dataset.csv')\n",
        "validation.to_csv('/content/drive/My Drive/Colab Notebooks/validation.csv')"
      ],
      "execution_count": 0,
      "outputs": []
    },
    {
      "cell_type": "code",
      "metadata": {
        "id": "_Zjs4COxyc7K",
        "colab_type": "code",
        "colab": {}
      },
      "source": [
        "# create a differenced series\n",
        "def difference(dataset, interval=1):\n",
        "\tdiff = list()\n",
        "\tfor i in range(interval, len(dataset)):\n",
        "\t\tvalue = dataset[i] - dataset[i - interval]\n",
        "\t\tdiff.append(value)\n",
        "\treturn diff"
      ],
      "execution_count": 0,
      "outputs": []
    },
    {
      "cell_type": "code",
      "metadata": {
        "id": "I9MzCqaQyhx5",
        "colab_type": "code",
        "colab": {}
      },
      "source": [
        "# invert differenced value\n",
        "def inverse_difference(history, yhat, interval=1):\n",
        "\treturn yhat + history[-interval]"
      ],
      "execution_count": 0,
      "outputs": []
    },
    {
      "cell_type": "code",
      "metadata": {
        "id": "Q72PfVA8zc06",
        "colab_type": "code",
        "colab": {}
      },
      "source": [
        "#Check GPU type for Colab\n",
        "gpu_info = !nvidia-smi\n",
        "gpu_info = '\\n'.join(gpu_info)\n",
        "if gpu_info.find('failed') >= 0:\n",
        "  print('Select the Runtime → \"Change runtime type\" menu to enable a GPU accelerator, ')\n",
        "  print('and then re-execute this cell.')\n",
        "else:\n",
        "  print(gpu_info)"
      ],
      "execution_count": 0,
      "outputs": []
    },
    {
      "cell_type": "code",
      "metadata": {
        "id": "6N_uQQAazhbb",
        "colab_type": "code",
        "colab": {}
      },
      "source": [
        "#Check RAM usage in Colab\n",
        "from psutil import virtual_memory\n",
        "ram_gb = virtual_memory().total / 1e9\n",
        "print('Your runtime has {:.1f} gigabytes of available RAM\\n'.format(ram_gb))\n",
        "\n",
        "if ram_gb < 20:\n",
        "  print('To enable a high-RAM runtime, select the Runtime → \"Change runtime type\"')\n",
        "  print('menu, and then select High-RAM in the Runtime shape dropdown. Then, ')\n",
        "  print('re-execute this cell.')\n",
        "else:\n",
        "  print('You are using a high-RAM runtime!')"
      ],
      "execution_count": 0,
      "outputs": []
    },
    {
      "cell_type": "code",
      "metadata": {
        "id": "vgoFshtbyki8",
        "colab_type": "code",
        "colab": {}
      },
      "source": [
        "# load data\n",
        "datasetSer = read_csv('/content/drive/My Drive/Colab Notebooks/dataset.csv', header=0, parse_dates=[0], index_col=0, squeeze=True)\n",
        "\n",
        "# prepare data\n",
        "X = datasetSer.values\n",
        "X = X.astype('float32')\n",
        "train_size = int(len(X) * 0.50)\n",
        "train, test = X[0:train_size], X[train_size:]\n",
        "# walk-forward validation\n",
        "history = [x for x in train]\n",
        "predictions = list()\n",
        "for i in range(len(test)):\n",
        "\t# difference data\n",
        "\tmonths_in_year = 12\n",
        "\tdiff = difference(history, months_in_year)\n",
        "\t# predict\n",
        "\tmodel = ARIMA(diff, order=(2,1,0))\n",
        "\tmodel_fit = model.fit(trend='nc', disp=0)\n",
        "\tyhat = model_fit.forecast()[0]\n",
        "\tyhat = inverse_difference(history, yhat, months_in_year)\n",
        "\tpredictions.append(yhat)\n",
        "\t# observation\n",
        "\tobs = test[i]\n",
        "\thistory.append(obs)\n",
        "\tprint('>Predicted=%.3f, Expected=%3.f' % (yhat, obs))\n"
      ],
      "execution_count": 0,
      "outputs": []
    },
    {
      "cell_type": "code",
      "metadata": {
        "id": "xRA9eT2CXjkE",
        "colab_type": "code",
        "colab": {}
      },
      "source": [
        "# report performance\n",
        "mse = mean_squared_error(test, predictions)\n",
        "rmse = sqrt(mse)\n",
        "print('RMSE: %.3f' % rmse)"
      ],
      "execution_count": 0,
      "outputs": []
    },
    {
      "cell_type": "code",
      "metadata": {
        "id": "LQJix2rbzZb1",
        "colab_type": "code",
        "colab": {}
      },
      "source": [
        "# # CODE RUNS LONG FOR EVALUATION - approximately \n",
        "# import warnings\n",
        "# import numpy\n",
        " \n",
        "# # create a differenced series\n",
        "# def difference(dataset, interval=1):\n",
        "# \tdiff = list()\n",
        "# \tfor i in range(interval, len(dataset)):\n",
        "# \t\tvalue = dataset[i] - dataset[i - interval]\n",
        "# \t\tdiff.append(value)\n",
        "# \treturn numpy.array(diff)\n",
        " \n",
        "# # invert differenced value\n",
        "# def inverse_difference(history, yhat, interval=1):\n",
        "# \treturn yhat + history[-interval]\n",
        " \n",
        "# # evaluate an ARIMA model for a given order (p,d,q) and return RMSE\n",
        "# def evaluate_arima_model(X, arima_order):\n",
        "# \t# prepare training dataset\n",
        "# \tX = X.astype('float32')\n",
        "# \ttrain_size = int(len(X) * 0.50)\n",
        "# \ttrain, test = X[0:train_size], X[train_size:]\n",
        "# \thistory = [x for x in train]\n",
        "# \t# make predictions\n",
        "# \tpredictions = list()\n",
        "# \tfor t in range(len(test)):\n",
        "# \t\t# difference data\n",
        "# \t\tmonths_in_year = 12\n",
        "# \t\tdiff = difference(history, months_in_year)\n",
        "# \t\tmodel = ARIMA(diff, order=arima_order)\n",
        "# \t\tmodel_fit = model.fit(trend='nc', disp=0)\n",
        "# \t\tyhat = model_fit.forecast()[0]\n",
        "# \t\tyhat = inverse_difference(history, yhat, months_in_year)\n",
        "# \t\tpredictions.append(yhat)\n",
        "# \t\thistory.append(test[t])\n",
        "# \t# calculate out of sample error\n",
        "# \tmse = mean_squared_error(test, predictions)\n",
        "# \trmse = sqrt(mse)\n",
        "# \treturn rmse\n",
        " \n",
        "# # evaluate combinations of p, d and q values for an ARIMA model\n",
        "# def evaluate_models(dataset, p_values, d_values, q_values):\n",
        "# \tdataset = dataset.astype('float32')\n",
        "# \tbest_score, best_cfg = float(\"inf\"), None\n",
        "# \tfor p in p_values:\n",
        "# \t\tfor d in d_values:\n",
        "# \t\t\tfor q in q_values:\n",
        "# \t\t\t\torder = (p,d,q)\n",
        "# \t\t\t\ttry:\n",
        "# \t\t\t\t\tmse = evaluate_arima_model(dataset, order)\n",
        "# \t\t\t\t\tif mse < best_score:\n",
        "# \t\t\t\t\t\tbest_score, best_cfg = mse, order\n",
        "# \t\t\t\t\tprint('ARIMA%s RMSE=%.3f' % (order,mse))\n",
        "# \t\t\t\texcept:\n",
        "# \t\t\t\t\tcontinue\n",
        "# \tprint('Best ARIMA%s RMSE=%.3f' % (best_cfg, best_score))\n",
        " \n",
        "# # load dataset\n",
        "# #series = Series.from_csv('data/Dept1.csv', header=0)\n",
        "# # evaluate parameters\n",
        "# p_values = range(0, 7)\n",
        "# d_values = range(0, 3)\n",
        "# q_values = range(0, 7)\n",
        "# warnings.filterwarnings(\"ignore\")\n",
        "# evaluate_models(zillowARseries.values, p_values, d_values, q_values)\n",
        "\n",
        "# #COMMENTS FROM PROFESSOR FOX ON VALUES BELOW:\n",
        "# #AUTOREGRESSIVE STARTS AT 0\n",
        "# #INTEGRATIVE ELEMENT STARTES AT 0 (FOR SEASONALITY AND TREND)\n",
        "# #MOVING AVERAGE STARTS AT 1\n",
        "# #CALCULATE ROOT MEAN SQUARED FOR EACH CONFIGURATION AND PROVIDE THE BEST\n",
        "# #RUN ONE MORE TEST OF RESIDUALS AS HISTORGRAM AND DENSITY PLOTS (MEAN 0 WITH STD DISTRIBUTION)"
      ],
      "execution_count": 0,
      "outputs": []
    },
    {
      "cell_type": "code",
      "metadata": {
        "id": "8yCASr5czt7L",
        "colab_type": "code",
        "colab": {}
      },
      "source": [
        "# create a differenced series\n",
        "def difference(dataset, interval=1):\n",
        "\tdiff = list()\n",
        "\tfor i in range(interval, len(dataset)):\n",
        "\t\tvalue = dataset[i] - dataset[i - interval]\n",
        "\t\tdiff.append(value)\n",
        "\treturn diff\n",
        " \n",
        "# invert differenced value\n",
        "def inverse_difference(history, yhat, interval=1):\n",
        "\treturn yhat + history[-interval]\n",
        " \n",
        "# load data\n",
        "#series = Series.from_csv('data/Dept1.csv', header=0)\n",
        "# prepare data\n",
        "X = zillowARseries.values\n",
        "X = X.astype('float32')\n",
        "train_size = int(len(X) * 0.50)\n",
        "train, test = X[0:train_size], X[train_size:]\n",
        "# walk-forward validation\n",
        "history = [x for x in train]\n",
        "predictions = list()\n",
        "for i in range(len(test)):\n",
        "\t# difference data\n",
        "\tmonths_in_year = 12\n",
        "\tdiff = difference(history, months_in_year)\n",
        "\t# predict\n",
        "\tmodel = ARIMA(diff, order=(2,0,0))\n",
        "\tmodel_fit = model.fit(trend='nc', disp=0)\n",
        "\tyhat = model_fit.forecast()[0]\n",
        "\tyhat = inverse_difference(history, yhat, months_in_year)\n",
        "\tpredictions.append(yhat)\n",
        "\t# observation\n",
        "\tobs = test[i]\n",
        "\thistory.append(obs)\n",
        "# errors\n",
        "residuals = [test[i]-predictions[i] for i in range(len(test))]\n",
        "residuals = pd.DataFrame(residuals)\n",
        "print(residuals.describe())\n",
        "# report performance\n",
        "mse = mean_squared_error(test, predictions)\n",
        "rmse = sqrt(mse)\n",
        "print('RMSE: %.3f' % rmse)\n",
        "# plot\n",
        "residuals.hist(ax=pyplot.gca())\n",
        "pyplot.show()\n",
        "\n",
        "residuals.plot(kind='kde', ax=pyplot.gca())\n",
        "pyplot.show()"
      ],
      "execution_count": 0,
      "outputs": []
    },
    {
      "cell_type": "code",
      "metadata": {
        "id": "grL80bLdz1PT",
        "colab_type": "code",
        "colab": {}
      },
      "source": [
        "## RECREATE ANALYSIS WITH MEAN RESIDUAL ADDED TO EACH PREDICTION\n",
        "# create a differenced series\n",
        "def difference(dataset, interval=1):\n",
        "\tdiff = list()\n",
        "\tfor i in range(interval, len(dataset)):\n",
        "\t\tvalue = dataset[i] - dataset[i - interval]\n",
        "\t\tdiff.append(value)\n",
        "\treturn diff\n",
        " \n",
        "# invert differenced value\n",
        "def inverse_difference(history, yhat, interval=1):\n",
        "\treturn yhat + history[-interval]\n",
        " \n",
        "# load data\n",
        "#series = Series.from_csv('data/Dept1.csv', header=0)\n",
        "# prepare data\n",
        "X = zillowARseries.values\n",
        "X = X.astype('float32')\n",
        "train_size = int(len(X) * 0.50)\n",
        "train, test = X[0:train_size], X[train_size:]\n",
        "# walk-forward validation\n",
        "history = [x for x in train]\n",
        "predictions = list()\n",
        "# WHERE DID BIAS VALUE COME FROM?\n",
        "bias = -120.713087\n",
        "for i in range(len(test)):\n",
        "\t# difference data\n",
        "\tmonths_in_year = 12\n",
        "\tdiff = difference(history, months_in_year)\n",
        "\t# predict\n",
        "\tmodel = ARIMA(diff, order=(2,0,0))\n",
        "\tmodel_fit = model.fit(trend='nc', disp=0)\n",
        "\tyhat = model_fit.forecast()[0]\n",
        "\tyhat = bias + inverse_difference(history, yhat, months_in_year)\n",
        "\tpredictions.append(yhat)\n",
        "\t# observation\n",
        "\tobs = test[i]\n",
        "\thistory.append(obs)\n",
        "# errors\n",
        "residuals = [test[i]-predictions[i] for i in range(len(test))]\n",
        "residuals = pd.DataFrame(residuals)\n",
        "print(residuals.describe())\n",
        "# report performance\n",
        "mse = mean_squared_error(test, predictions)\n",
        "rmse = sqrt(mse)\n",
        "print('RMSE: %.3f' % rmse)\n",
        "# plot\n",
        "residuals.hist(ax=pyplot.gca())\n",
        "pyplot.show()\n",
        "\n",
        "residuals.plot(kind='kde', ax=pyplot.gca())\n",
        "pyplot.show()"
      ],
      "execution_count": 0,
      "outputs": []
    },
    {
      "cell_type": "code",
      "metadata": {
        "id": "NZB3KBwmz5Xf",
        "colab_type": "code",
        "colab": {}
      },
      "source": [
        "# LOOK AT ACF AND PACF FOR RESIDUALS\n",
        "plot_acf(residuals, ax=pyplot.gca())\n",
        "pyplot.show()\n",
        "\n",
        "plot_pacf(residuals, ax=pyplot.gca())\n",
        "pyplot.show()"
      ],
      "execution_count": 0,
      "outputs": []
    },
    {
      "cell_type": "code",
      "metadata": {
        "id": "onTjsOS2z8Da",
        "colab_type": "code",
        "colab": {}
      },
      "source": [
        "## CODE FROM BROWNLEE FOR SAVING MODEL\n",
        "\n",
        "# monkey patch around bug in ARIMA class\n",
        "def __getnewargs__(self):\n",
        "\treturn ((self.endog),(self.k_lags, self.k_diff, self.k_ma))\n",
        "\n",
        "ARIMA.__getnewargs__ = __getnewargs__\n",
        "\n",
        "# create a differenced series\n",
        "def difference(dataset, interval=1):\n",
        "\tdiff = list()\n",
        "\tfor i in range(interval, len(dataset)):\n",
        "\t\tvalue = dataset[i] - dataset[i - interval]\n",
        "\t\tdiff.append(value)\n",
        "\treturn diff\n",
        "\n",
        "# load data\n",
        "#series = Series.from_csv('data/Dept1.csv', header=0)\n",
        "# prepare data\n",
        "X = zillowARseries.values\n",
        "X = X.astype('float32')\n",
        "# difference data\n",
        "months_in_year = 12\n",
        "diff = difference(X, months_in_year)\n",
        "# fit model\n",
        "model = ARIMA(diff, order=(2,0,0))\n",
        "model_fit = model.fit(trend='nc', disp=0)\n",
        "# bias constant, could be calculated from in-sample mean residual - CHANGED TO ZERO\n",
        "bias = 0\n",
        "# save model\n",
        "model_fit.save('model.pkl')\n",
        "np.save('model_bias.npy', [bias])\n"
      ],
      "execution_count": 0,
      "outputs": []
    },
    {
      "cell_type": "code",
      "metadata": {
        "id": "u7SBUVIf0Chx",
        "colab_type": "code",
        "colab": {}
      },
      "source": [
        "# CODE FOR MAKING PREDICTION USING SAVED MODEL - LOOKING ONE STEP AHEAD\n",
        "\n",
        "def inverse_difference(history, yhat, interval=1):\n",
        "\treturn yhat + history[-interval]\n",
        "\n",
        "#series = Series.from_csv('data/Dept1.csv', header=0)\n",
        "months_in_year = 12\n",
        "model_fit = ARIMAResults.load('model.pkl')\n",
        "bias = np.load('model_bias.npy')\n",
        "yhat = float(model_fit.forecast()[0])\n",
        "yhat = bias + inverse_difference(zillowARseries.values, yhat, months_in_year)\n",
        "print('Predicted: %.3f' % yhat)"
      ],
      "execution_count": 0,
      "outputs": []
    },
    {
      "cell_type": "code",
      "metadata": {
        "id": "AhAvqngw0Dec",
        "colab_type": "code",
        "colab": {}
      },
      "source": [
        "# CODE FOR MAKING PREDICTION USING SAVED MODEL - LOOKING MANY STEPS AHEAD\n",
        "\n",
        "def difference(dataset, interval=1):\n",
        "\tdiff = list()\n",
        "\tfor i in range(interval, len(dataset)):\n",
        "\t\tvalue = dataset[i] - dataset[i - interval]\n",
        "\t\tdiff.append(value)\n",
        "\treturn diff\n",
        " \n",
        "# invert differenced value\n",
        "def inverse_difference(history, yhat, interval=1):\n",
        "\treturn yhat + history[-interval]\n",
        " \n",
        "# load and prepare datasets\n",
        "dataset = read_csv('/content/drive/My Drive/Colab Notebooks/IST718/Week4/dataset.csv', header=0, parse_dates=[0], index_col=0, squeeze=True)\n",
        "X = dataset.values.astype('float32')\n",
        "history = [x for x in X]\n",
        "months_in_year = 12\n",
        "validation = read_csv('/content/drive/My Drive/Colab Notebooks/IST718/Week4/validation.csv', header=0, parse_dates=[0], index_col=0, squeeze=True)\n",
        "y = validation.values.astype('float32')\n",
        "# load model\n",
        "model_fit = ARIMAResults.load('model.pkl')\n",
        "bias = np.load('model_bias.npy')\n",
        "# make first prediction\n",
        "predictions = list()\n",
        "yhat = float(model_fit.forecast()[0])\n",
        "yhat = bias + inverse_difference(history, yhat, months_in_year)\n",
        "predictions.append(yhat)\n",
        "history.append(y[0])\n",
        "print('>Predicted=%.3f, Expected=%3.f' % (yhat, y[0]))\n",
        "# rolling forecasts\n",
        "for i in range(1, len(y)):\n",
        "\t# difference data\n",
        "\tmonths_in_year = 12\n",
        "\tdiff = difference(history, months_in_year)\n",
        "\t# predict\n",
        "\tmodel = ARIMA(diff, order=(2,0,0))\n",
        "\tmodel_fit = model.fit(trend='nc', disp=0)\n",
        "\tyhat = model_fit.forecast()[0]\n",
        "\tyhat = bias + inverse_difference(history, yhat, months_in_year)\n",
        "\tpredictions.append(yhat)\n",
        "\t# observation\n",
        "\tobs = y[i]\n",
        "\thistory.append(obs)\n",
        "\tprint('>Predicted=%.3f, Expected=%3.f' % (yhat, obs))\n",
        "# report performance\n",
        "mse = mean_squared_error(y, predictions)\n",
        "rmse = sqrt(mse)\n",
        "print('RMSE: %.3f' % rmse)\n",
        "pyplot.plot(y)\n",
        "pyplot.plot(predictions, color='red')\n",
        "pyplot.show()"
      ],
      "execution_count": 0,
      "outputs": []
    },
    {
      "cell_type": "code",
      "metadata": {
        "id": "dIxLgvFn0JQa",
        "colab_type": "code",
        "colab": {}
      },
      "source": [
        "plot_acf(zillowARseries, ax=pyplot.gca())\n",
        "pyplot.show()\n",
        "\n",
        "#pyplot.subplot(212)\n",
        "\n",
        "plot_pacf(zillowARseries, ax=pyplot.gca())\n",
        "pyplot.show()"
      ],
      "execution_count": 0,
      "outputs": []
    },
    {
      "cell_type": "markdown",
      "metadata": {
        "id": "YJiO0v55O5XH",
        "colab_type": "text"
      },
      "source": [
        "# Arima Tutorial Code"
      ]
    },
    {
      "cell_type": "code",
      "metadata": {
        "id": "8C3Ufy-L2Lrb",
        "colab_type": "code",
        "colab": {}
      },
      "source": [
        "# ## CHANGE TO USE SERIES\n",
        "# # ARIMA model\n",
        "# #https://machinelearningmastery.com/arima-for-time-series-forecasting-with-python/\n",
        "\n",
        "# from statsmodels.tsa.arima_model import ARIMA\n",
        "# from matplotlib import pyplot\n",
        " \n",
        "# # def parser(x):\n",
        "# # \treturn datetime.strptime('190'+x, '%Y-%m')\n",
        "\n",
        "# # fit model\n",
        "# model = ARIMA(zillowARseries.Value, order=(5,1,0))\n",
        "# model_fit = model.fit(disp=0)\n",
        "# print(model_fit.summary())\n",
        "# # plot residual errors\n",
        "# residuals = pd.DataFrame(model_fit.resid)\n",
        "# residuals.plot()\n",
        "# pyplot.show()\n",
        "# residuals.plot(kind='kde')\n",
        "# pyplot.show()\n",
        "# print(residuals.describe())"
      ],
      "execution_count": 0,
      "outputs": []
    },
    {
      "cell_type": "code",
      "metadata": {
        "id": "qmA__zadAPNi",
        "colab_type": "code",
        "colab": {}
      },
      "source": [
        "# # Sample code for ARIMA prediction\n",
        "# # https://machinelearningmastery.com/arima-for-time-series-forecasting-with-python/\n",
        "\n",
        "# from statsmodels.tsa.arima_model import ARIMA\n",
        "# from sklearn.metrics import mean_squared_error\n",
        " \n",
        "# #def parser(x):\n",
        "# \t#return datetime.strptime('190'+x, '%Y-%m')\n",
        " \n",
        "# #series = read_csv('shampoo-sales.csv', header=0, parse_dates=[0], index_col=0, squeeze=True, date_parser=parser)\n",
        "# X = series.values\n",
        "# size = int(len(X) * 0.66)\n",
        "# train, test = X[0:size], X[size:len(X)]\n",
        "# history = [x for x in train]\n",
        "# predictions = list()\n",
        "# for t in range(len(test)):\n",
        "# \tmodel = ARIMA(history, order=(5,1,0))\n",
        "# \tmodel_fit = model.fit(disp=0)\n",
        "# \toutput = model_fit.forecast()\n",
        "# \tyhat = output[0]\n",
        "# \tpredictions.append(yhat)\n",
        "# \tobs = test[t]\n",
        "# \thistory.append(obs)\n",
        "# \tprint('predicted=%f, expected=%f' % (yhat, obs))\n",
        "# error = mean_squared_error(test, predictions)\n",
        "# print('Test MSE: %.3f' % error)\n",
        "# # plot\n",
        "# pyplot.plot(test)\n",
        "# pyplot.plot(predictions, color='red')\n",
        "# pyplot.show()"
      ],
      "execution_count": 0,
      "outputs": []
    }
  ]
}